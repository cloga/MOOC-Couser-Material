{
 "metadata": {
  "name": ""
 },
 "nbformat": 3,
 "nbformat_minor": 0,
 "worksheets": [
  {
   "cells": [
    {
     "cell_type": "markdown",
     "metadata": {},
     "source": [
      "#Data Analysis and Statistical Inference Week5"
     ]
    },
    {
     "cell_type": "code",
     "collapsed": false,
     "input": [
      "%matplotlib inline\n",
      "import pandas as pd\n",
      "from rpy2.robjects import r\n",
      "from rpy2 import robjects\n",
      "r.load(r.url(\"http://d396qusza40orc.cloudfront.net/statistics/lab_resources/nc.RData\"))\n",
      "import pandas.rpy.common as com\n",
      "nc = com.load_data('nc')"
     ],
     "language": "python",
     "metadata": {},
     "outputs": [],
     "prompt_number": 1
    },
    {
     "cell_type": "code",
     "collapsed": false,
     "input": [
      "nc.dtypes"
     ],
     "language": "python",
     "metadata": {},
     "outputs": [
      {
       "metadata": {},
       "output_type": "pyout",
       "prompt_number": 2,
       "text": [
        "fage              float64\n",
        "mage                int32\n",
        "mature             object\n",
        "weeks             float64\n",
        "premie             object\n",
        "visits            float64\n",
        "marital            object\n",
        "gained            float64\n",
        "weight            float64\n",
        "lowbirthweight     object\n",
        "gender             object\n",
        "habit              object\n",
        "whitemom           object\n",
        "dtype: object"
       ]
      }
     ],
     "prompt_number": 2
    },
    {
     "cell_type": "code",
     "collapsed": false,
     "input": [
      "nc.head()"
     ],
     "language": "python",
     "metadata": {},
     "outputs": [
      {
       "html": [
        "<div style=\"max-height:1000px;max-width:1500px;overflow:auto;\">\n",
        "<table border=\"1\" class=\"dataframe\">\n",
        "  <thead>\n",
        "    <tr style=\"text-align: right;\">\n",
        "      <th></th>\n",
        "      <th>fage</th>\n",
        "      <th>mage</th>\n",
        "      <th>mature</th>\n",
        "      <th>weeks</th>\n",
        "      <th>premie</th>\n",
        "      <th>visits</th>\n",
        "      <th>marital</th>\n",
        "      <th>gained</th>\n",
        "      <th>weight</th>\n",
        "      <th>lowbirthweight</th>\n",
        "      <th>gender</th>\n",
        "      <th>habit</th>\n",
        "      <th>whitemom</th>\n",
        "    </tr>\n",
        "  </thead>\n",
        "  <tbody>\n",
        "    <tr>\n",
        "      <th>1</th>\n",
        "      <td>NaN</td>\n",
        "      <td> 13</td>\n",
        "      <td> younger mom</td>\n",
        "      <td> 39</td>\n",
        "      <td> full term</td>\n",
        "      <td> 10</td>\n",
        "      <td> married</td>\n",
        "      <td> 38</td>\n",
        "      <td> 7.63</td>\n",
        "      <td> not low</td>\n",
        "      <td>   male</td>\n",
        "      <td> nonsmoker</td>\n",
        "      <td> not white</td>\n",
        "    </tr>\n",
        "    <tr>\n",
        "      <th>2</th>\n",
        "      <td>NaN</td>\n",
        "      <td> 14</td>\n",
        "      <td> younger mom</td>\n",
        "      <td> 42</td>\n",
        "      <td> full term</td>\n",
        "      <td> 15</td>\n",
        "      <td> married</td>\n",
        "      <td> 20</td>\n",
        "      <td> 7.88</td>\n",
        "      <td> not low</td>\n",
        "      <td>   male</td>\n",
        "      <td> nonsmoker</td>\n",
        "      <td> not white</td>\n",
        "    </tr>\n",
        "    <tr>\n",
        "      <th>3</th>\n",
        "      <td> 19</td>\n",
        "      <td> 15</td>\n",
        "      <td> younger mom</td>\n",
        "      <td> 37</td>\n",
        "      <td> full term</td>\n",
        "      <td> 11</td>\n",
        "      <td> married</td>\n",
        "      <td> 38</td>\n",
        "      <td> 6.63</td>\n",
        "      <td> not low</td>\n",
        "      <td> female</td>\n",
        "      <td> nonsmoker</td>\n",
        "      <td>     white</td>\n",
        "    </tr>\n",
        "    <tr>\n",
        "      <th>4</th>\n",
        "      <td> 21</td>\n",
        "      <td> 15</td>\n",
        "      <td> younger mom</td>\n",
        "      <td> 41</td>\n",
        "      <td> full term</td>\n",
        "      <td>  6</td>\n",
        "      <td> married</td>\n",
        "      <td> 34</td>\n",
        "      <td> 8.00</td>\n",
        "      <td> not low</td>\n",
        "      <td>   male</td>\n",
        "      <td> nonsmoker</td>\n",
        "      <td>     white</td>\n",
        "    </tr>\n",
        "    <tr>\n",
        "      <th>5</th>\n",
        "      <td>NaN</td>\n",
        "      <td> 15</td>\n",
        "      <td> younger mom</td>\n",
        "      <td> 39</td>\n",
        "      <td> full term</td>\n",
        "      <td>  9</td>\n",
        "      <td> married</td>\n",
        "      <td> 27</td>\n",
        "      <td> 6.38</td>\n",
        "      <td> not low</td>\n",
        "      <td> female</td>\n",
        "      <td> nonsmoker</td>\n",
        "      <td> not white</td>\n",
        "    </tr>\n",
        "  </tbody>\n",
        "</table>\n",
        "<p>5 rows \u00d7 13 columns</p>\n",
        "</div>"
       ],
       "metadata": {},
       "output_type": "pyout",
       "prompt_number": 3,
       "text": [
        "   fage  mage       mature  weeks     premie  visits  marital  gained  weight  \\\n",
        "1   NaN    13  younger mom     39  full term      10  married      38    7.63   \n",
        "2   NaN    14  younger mom     42  full term      15  married      20    7.88   \n",
        "3    19    15  younger mom     37  full term      11  married      38    6.63   \n",
        "4    21    15  younger mom     41  full term       6  married      34    8.00   \n",
        "5   NaN    15  younger mom     39  full term       9  married      27    6.38   \n",
        "\n",
        "  lowbirthweight  gender      habit   whitemom  \n",
        "1        not low    male  nonsmoker  not white  \n",
        "2        not low    male  nonsmoker  not white  \n",
        "3        not low  female  nonsmoker      white  \n",
        "4        not low    male  nonsmoker      white  \n",
        "5        not low  female  nonsmoker  not white  \n",
        "\n",
        "[5 rows x 13 columns]"
       ]
      }
     ],
     "prompt_number": 3
    },
    {
     "cell_type": "code",
     "collapsed": false,
     "input": [
      "nc.shape"
     ],
     "language": "python",
     "metadata": {},
     "outputs": [
      {
       "metadata": {},
       "output_type": "pyout",
       "prompt_number": 4,
       "text": [
        "(1000, 13)"
       ]
      }
     ],
     "prompt_number": 4
    },
    {
     "cell_type": "code",
     "collapsed": false,
     "input": [
      "nc['weight'].isnull().value_counts()"
     ],
     "language": "python",
     "metadata": {},
     "outputs": [
      {
       "metadata": {},
       "output_type": "pyout",
       "prompt_number": 5,
       "text": [
        "False    1000\n",
        "dtype: int64"
       ]
      }
     ],
     "prompt_number": 5
    },
    {
     "cell_type": "code",
     "collapsed": false,
     "input": [
      "boot_means = []"
     ],
     "language": "python",
     "metadata": {},
     "outputs": [],
     "prompt_number": 6
    },
    {
     "cell_type": "code",
     "collapsed": false,
     "input": [
      "for i in range(100):\n",
      "    boot_means.append(mean(np.random.choice(nc['weight'], 100, replace=False)))"
     ],
     "language": "python",
     "metadata": {},
     "outputs": [],
     "prompt_number": 7
    },
    {
     "cell_type": "code",
     "collapsed": false,
     "input": [
      "hist(boot_means)"
     ],
     "language": "python",
     "metadata": {},
     "outputs": [
      {
       "metadata": {},
       "output_type": "pyout",
       "prompt_number": 8,
       "text": [
        "(array([ 2,  0,  9, 11, 18, 23, 15, 13,  5,  4]),\n",
        " array([ 6.7484 ,  6.81241,  6.87642,  6.94043,  7.00444,  7.06845,\n",
        "         7.13246,  7.19647,  7.26048,  7.32449,  7.3885 ]),\n",
        " <a list of 10 Patch objects>)"
       ]
      },
      {
       "metadata": {},
       "output_type": "display_data",
       "png": "[encoded data removed]",
       "text": [
        "<matplotlib.figure.Figure at 0x106451d50>"
       ]
      }
     ],
     "prompt_number": 8
    },
    {
     "cell_type": "code",
     "collapsed": false,
     "input": [
      "boot_median = []\n",
      "for i in range(100):\n",
      "    boot_median.append(median(np.random.choice(nc['weight'], 100, replace=False)))\n",
      "hist(boot_median)"
     ],
     "language": "python",
     "metadata": {},
     "outputs": [
      {
       "metadata": {},
       "output_type": "pyout",
       "prompt_number": 9,
       "text": [
        "(array([ 1,  0,  4,  7, 14, 23, 23, 23,  3,  2]),\n",
        " array([ 6.655 ,  6.7585,  6.862 ,  6.9655,  7.069 ,  7.1725,  7.276 ,\n",
        "         7.3795,  7.483 ,  7.5865,  7.69  ]),\n",
        " <a list of 10 Patch objects>)"
       ]
      },
      {
       "metadata": {},
       "output_type": "display_data",
       "png": "[encoded data removed]",
       "text": [
        "<matplotlib.figure.Figure at 0x10d49c810>"
       ]
      }
     ],
     "prompt_number": 9
    },
    {
     "cell_type": "code",
     "collapsed": false,
     "input": [
      "nc.boxplot()"
     ],
     "language": "python",
     "metadata": {},
     "outputs": [
      {
       "metadata": {},
       "output_type": "pyout",
       "prompt_number": 10,
       "text": [
        "{'boxes': [<matplotlib.lines.Line2D at 0x10d4242d0>,\n",
        "  <matplotlib.lines.Line2D at 0x10d42cad0>,\n",
        "  <matplotlib.lines.Line2D at 0x10d434310>,\n",
        "  <matplotlib.lines.Line2D at 0x10d43ab10>,\n",
        "  <matplotlib.lines.Line2D at 0x10d442350>,\n",
        "  <matplotlib.lines.Line2D at 0x10d44cb50>],\n",
        " 'caps': [<matplotlib.lines.Line2D at 0x10d1fe910>,\n",
        "  <matplotlib.lines.Line2D at 0x10d1fed90>,\n",
        "  <matplotlib.lines.Line2D at 0x10d42c0d0>,\n",
        "  <matplotlib.lines.Line2D at 0x10d42c5d0>,\n",
        "  <matplotlib.lines.Line2D at 0x10d4318d0>,\n",
        "  <matplotlib.lines.Line2D at 0x10d431dd0>,\n",
        "  <matplotlib.lines.Line2D at 0x10d43a110>,\n",
        "  <matplotlib.lines.Line2D at 0x10d43a610>,\n",
        "  <matplotlib.lines.Line2D at 0x10d441910>,\n",
        "  <matplotlib.lines.Line2D at 0x10d441e10>,\n",
        "  <matplotlib.lines.Line2D at 0x10d44c150>,\n",
        "  <matplotlib.lines.Line2D at 0x10d44c650>],\n",
        " 'fliers': [<matplotlib.lines.Line2D at 0x10d424cd0>,\n",
        "  <matplotlib.lines.Line2D at 0x10d4271d0>,\n",
        "  <matplotlib.lines.Line2D at 0x10d42e510>,\n",
        "  <matplotlib.lines.Line2D at 0x10d42e9d0>,\n",
        "  <matplotlib.lines.Line2D at 0x10d434d10>,\n",
        "  <matplotlib.lines.Line2D at 0x10d438210>,\n",
        "  <matplotlib.lines.Line2D at 0x10d43e550>,\n",
        "  <matplotlib.lines.Line2D at 0x10d43ea10>,\n",
        "  <matplotlib.lines.Line2D at 0x10d442d50>,\n",
        "  <matplotlib.lines.Line2D at 0x10d448250>,\n",
        "  <matplotlib.lines.Line2D at 0x10d44e590>,\n",
        "  <matplotlib.lines.Line2D at 0x10d44ea50>],\n",
        " 'medians': [<matplotlib.lines.Line2D at 0x10d4247d0>,\n",
        "  <matplotlib.lines.Line2D at 0x10d42cfd0>,\n",
        "  <matplotlib.lines.Line2D at 0x10d434810>,\n",
        "  <matplotlib.lines.Line2D at 0x10d43e050>,\n",
        "  <matplotlib.lines.Line2D at 0x10d442850>,\n",
        "  <matplotlib.lines.Line2D at 0x10d44e090>],\n",
        " 'whiskers': [<matplotlib.lines.Line2D at 0x10d1fe150>,\n",
        "  <matplotlib.lines.Line2D at 0x10d1fe390>,\n",
        "  <matplotlib.lines.Line2D at 0x10d427950>,\n",
        "  <matplotlib.lines.Line2D at 0x10d427b90>,\n",
        "  <matplotlib.lines.Line2D at 0x10d431190>,\n",
        "  <matplotlib.lines.Line2D at 0x10d4313d0>,\n",
        "  <matplotlib.lines.Line2D at 0x10d4386d0>,\n",
        "  <matplotlib.lines.Line2D at 0x10d438bd0>,\n",
        "  <matplotlib.lines.Line2D at 0x10d43eed0>,\n",
        "  <matplotlib.lines.Line2D at 0x10d441410>,\n",
        "  <matplotlib.lines.Line2D at 0x10d4489d0>,\n",
        "  <matplotlib.lines.Line2D at 0x10d448c10>]}"
       ]
      },
      {
       "metadata": {},
       "output_type": "display_data",
       "png": "[encoded data removed]",
       "text": [
        "<matplotlib.figure.Figure at 0x1064514d0>"
       ]
      }
     ],
     "prompt_number": 10
    },
    {
     "cell_type": "code",
     "collapsed": false,
     "input": [
      "nc[['weight', 'habit']].boxplot(by='habit')"
     ],
     "language": "python",
     "metadata": {},
     "outputs": [
      {
       "metadata": {},
       "output_type": "pyout",
       "prompt_number": 11,
       "text": [
        "<matplotlib.axes.AxesSubplot at 0x10d4aced0>"
       ]
      },
      {
       "metadata": {},
       "output_type": "display_data",
       "png": "[encoded data removed]",
       "text": [
        "<matplotlib.figure.Figure at 0x10d483f10>"
       ]
      }
     ],
     "prompt_number": 11
    },
    {
     "cell_type": "code",
     "collapsed": false,
     "input": [
      "from statsmodels.stats.weightstats import ztest, zconfint"
     ],
     "language": "python",
     "metadata": {},
     "outputs": [],
     "prompt_number": 14
    },
    {
     "cell_type": "code",
     "collapsed": false,
     "input": [
      "zconfint(x1=nc.query('habit==\"nonsmoker\"')['weight'], x2=nc.query('habit==\"smoker\"')['weight'], alpha=0.05, alternative='two-sided')"
     ],
     "language": "python",
     "metadata": {},
     "outputs": [
      {
       "metadata": {},
       "output_type": "pyout",
       "prompt_number": 18,
       "text": [
        "(0.034861285501449069, 0.59622364331549738)"
       ]
      }
     ],
     "prompt_number": 18
    },
    {
     "cell_type": "code",
     "collapsed": false,
     "input": [
      "nc[nc[u'mature']=='younger mom'][u'mage'].value_counts().sort_index()"
     ],
     "language": "python",
     "metadata": {},
     "outputs": [
      {
       "metadata": {},
       "output_type": "pyout",
       "prompt_number": 29,
       "text": [
        "13     1\n",
        "14     1\n",
        "15     6\n",
        "16    10\n",
        "17    19\n",
        "18    38\n",
        "19    35\n",
        "20    66\n",
        "21    51\n",
        "22    60\n",
        "23    51\n",
        "24    53\n",
        "25    54\n",
        "26    51\n",
        "27    47\n",
        "28    53\n",
        "29    52\n",
        "30    39\n",
        "31    52\n",
        "32    38\n",
        "33    45\n",
        "34    45\n",
        "dtype: int64"
       ]
      }
     ],
     "prompt_number": 29
    },
    {
     "cell_type": "code",
     "collapsed": false,
     "input": [
      "nc[nc[u'mature']=='mature mom'][u'mage'].value_counts()"
     ],
     "language": "python",
     "metadata": {},
     "outputs": [
      {
       "metadata": {},
       "output_type": "pyout",
       "prompt_number": 26,
       "text": [
        "35    35\n",
        "36    31\n",
        "37    26\n",
        "38    12\n",
        "40     9\n",
        "41     8\n",
        "39     7\n",
        "42     2\n",
        "50     1\n",
        "46     1\n",
        "45     1\n",
        "dtype: int64"
       ]
      }
     ],
     "prompt_number": 26
    },
    {
     "cell_type": "code",
     "collapsed": false,
     "input": [
      "r.load(r.url(\"http://d396qusza40orc.cloudfront.net/statistics/lab_resources/gss.RData\"))\n",
      "gss = com.load_data('gss')"
     ],
     "language": "python",
     "metadata": {},
     "outputs": [],
     "prompt_number": 30
    },
    {
     "cell_type": "code",
     "collapsed": false,
     "input": [
      "classes = gss['class'].unique()\n",
      "wordsums = []\n",
      "for c in classes:\n",
      "    wordsums.append(gss[gss['class']==c]['wordsum'].values)"
     ],
     "language": "python",
     "metadata": {},
     "outputs": [],
     "prompt_number": 48
    },
    {
     "cell_type": "code",
     "collapsed": false,
     "input": [
      "from scipy.stats import f_oneway"
     ],
     "language": "python",
     "metadata": {},
     "outputs": [],
     "prompt_number": 49
    },
    {
     "cell_type": "code",
     "collapsed": false,
     "input": [
      "f_oneway(wordsums[0], wordsums[1], wordsums[2], wordsums[3])"
     ],
     "language": "python",
     "metadata": {},
     "outputs": [
      {
       "metadata": {},
       "output_type": "pyout",
       "prompt_number": 55,
       "text": [
        "(21.734666964873178, 1.5605646771452742e-13)"
       ]
      }
     ],
     "prompt_number": 55
    },
    {
     "cell_type": "code",
     "collapsed": false,
     "input": [
      "len(wordsums)"
     ],
     "language": "python",
     "metadata": {},
     "outputs": [
      {
       "metadata": {},
       "output_type": "pyout",
       "prompt_number": 54,
       "text": [
        "4"
       ]
      }
     ],
     "prompt_number": 54
    },
    {
     "cell_type": "code",
     "collapsed": false,
     "input": [
      "nc['gained'].isnull().value_counts()"
     ],
     "language": "python",
     "metadata": {},
     "outputs": [
      {
       "metadata": {},
       "output_type": "pyout",
       "prompt_number": 56,
       "text": [
        "False    973\n",
        "True      27\n",
        "dtype: int64"
       ]
      }
     ],
     "prompt_number": 56
    },
    {
     "cell_type": "markdown",
     "metadata": {},
     "source": [
      "#Quiz 4"
     ]
    },
    {
     "cell_type": "code",
     "collapsed": false,
     "input": [
      "(3.4**2/18 + 2.7**2/18) ** 0.5"
     ],
     "language": "python",
     "metadata": {},
     "outputs": [
      {
       "metadata": {},
       "output_type": "pyout",
       "prompt_number": 60,
       "text": [
        "1.0233387622005834"
       ]
      }
     ],
     "prompt_number": 60
    },
    {
     "cell_type": "code",
     "collapsed": false,
     "input": [
      "5*4/2"
     ],
     "language": "python",
     "metadata": {},
     "outputs": [
      {
       "metadata": {},
       "output_type": "pyout",
       "prompt_number": 61,
       "text": [
        "10"
       ]
      }
     ],
     "prompt_number": 61
    },
    {
     "cell_type": "code",
     "collapsed": false,
     "input": [],
     "language": "python",
     "metadata": {},
     "outputs": []
    }
   ],
   "metadata": {}
  }
 ]
}