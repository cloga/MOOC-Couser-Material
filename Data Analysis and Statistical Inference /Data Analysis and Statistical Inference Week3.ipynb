{
 "metadata": {
  "name": ""
 },
 "nbformat": 3,
 "nbformat_minor": 0,
 "worksheets": [
  {
   "cells": [
    {
     "cell_type": "code",
     "collapsed": false,
     "input": [
      "%matplotlib inline\n",
      "import pandas as pd\n",
      "import numpy as np\n",
      "from rpy2.robjects import r\n",
      "from rpy2 import robjects\n",
      "r.load(r.url(\"http://www.openintro.org/stat/data/ames.RData\"))\n",
      "import pandas.rpy.common as com\n",
      "ames = com.load_data('ames')"
     ],
     "language": "python",
     "metadata": {},
     "outputs": [],
     "prompt_number": 19
    },
    {
     "cell_type": "markdown",
     "metadata": {},
     "source": [
      "#Lab 3A"
     ]
    },
    {
     "cell_type": "code",
     "collapsed": false,
     "input": [
      "ames.dtypesA"
     ],
     "language": "python",
     "metadata": {},
     "outputs": [
      {
       "metadata": {},
       "output_type": "pyout",
       "prompt_number": 10,
       "text": [
        "Order             int32\n",
        "PID               int32\n",
        "MS.SubClass       int32\n",
        "MS.Zoning        object\n",
        "Lot.Frontage    float64\n",
        "Lot.Area          int32\n",
        "Street           object\n",
        "Alley            object\n",
        "Lot.Shape        object\n",
        "Land.Contour     object\n",
        "Utilities        object\n",
        "Lot.Config       object\n",
        "Land.Slope       object\n",
        "Neighborhood     object\n",
        "Condition.1      object\n",
        "...\n",
        "Wood.Deck.SF       int32\n",
        "Open.Porch.SF      int32\n",
        "Enclosed.Porch     int32\n",
        "X3Ssn.Porch        int32\n",
        "Screen.Porch       int32\n",
        "Pool.Area          int32\n",
        "Pool.QC           object\n",
        "Fence             object\n",
        "Misc.Feature      object\n",
        "Misc.Val           int32\n",
        "Mo.Sold            int32\n",
        "Yr.Sold            int32\n",
        "Sale.Type         object\n",
        "Sale.Condition    object\n",
        "SalePrice          int32\n",
        "Length: 82, dtype: object"
       ]
      }
     ],
     "prompt_number": 10
    },
    {
     "cell_type": "code",
     "collapsed": false,
     "input": [
      "area = ames['Gr.Liv.Area']"
     ],
     "language": "python",
     "metadata": {},
     "outputs": [],
     "prompt_number": 11
    },
    {
     "cell_type": "code",
     "collapsed": false,
     "input": [
      "area.hist()"
     ],
     "language": "python",
     "metadata": {},
     "outputs": [
      {
       "metadata": {},
       "output_type": "pyout",
       "prompt_number": 12,
       "text": [
        "<matplotlib.axes.AxesSubplot at 0x10f5d53d0>"
       ]
      },
      {
       "metadata": {},
       "output_type": "display_data",
       "png": "[encoded data removed]",
       "text": [
        "<matplotlib.figure.Figure at 0x10f5e1090>"
       ]
      }
     ],
     "prompt_number": 12
    },
    {
     "cell_type": "code",
     "collapsed": false,
     "input": [
      "area.describe()"
     ],
     "language": "python",
     "metadata": {},
     "outputs": [
      {
       "metadata": {},
       "output_type": "pyout",
       "prompt_number": 13,
       "text": [
        "count    2930.000000\n",
        "mean     1499.690444\n",
        "std       505.508887\n",
        "min       334.000000\n",
        "25%      1126.000000\n",
        "50%      1442.000000\n",
        "75%      1742.750000\n",
        "max      5642.000000\n",
        "Name: Gr.Liv.Area, dtype: float64"
       ]
      }
     ],
     "prompt_number": 13
    },
    {
     "cell_type": "code",
     "collapsed": false,
     "input": [
      "ames[['Gr.Liv.Area']].boxplot()"
     ],
     "language": "python",
     "metadata": {},
     "outputs": [
      {
       "metadata": {},
       "output_type": "pyout",
       "prompt_number": 17,
       "text": [
        "{'boxes': [<matplotlib.lines.Line2D at 0x111744310>],\n",
        " 'caps': [<matplotlib.lines.Line2D at 0x111753910>,\n",
        "  <matplotlib.lines.Line2D at 0x111753e10>],\n",
        " 'fliers': [<matplotlib.lines.Line2D at 0x111744d10>,\n",
        "  <matplotlib.lines.Line2D at 0x111742210>],\n",
        " 'medians': [<matplotlib.lines.Line2D at 0x111744810>],\n",
        " 'whiskers': [<matplotlib.lines.Line2D at 0x111753150>,\n",
        "  <matplotlib.lines.Line2D at 0x111753390>]}"
       ]
      },
      {
       "metadata": {},
       "output_type": "display_data",
       "png": "[encoded data removed]",
       "text": [
        "<matplotlib.figure.Figure at 0x111727210>"
       ]
      }
     ],
     "prompt_number": 17
    },
    {
     "cell_type": "code",
     "collapsed": false,
     "input": [
      "sample_means_small =[]\n",
      "for i in range(100):\n",
      "    sample = np.random.choice(area, 50)\n",
      "    sample_mean = sample.mean()\n",
      "    sample_means_small.append(sample_mean)"
     ],
     "language": "python",
     "metadata": {},
     "outputs": [],
     "prompt_number": 26
    },
    {
     "cell_type": "code",
     "collapsed": false,
     "input": [
      "pd.Series(sample_means_small).hist()"
     ],
     "language": "python",
     "metadata": {},
     "outputs": [
      {
       "metadata": {},
       "output_type": "pyout",
       "prompt_number": 29,
       "text": [
        "<matplotlib.axes.AxesSubplot at 0x1110c5b90>"
       ]
      },
      {
       "metadata": {},
       "output_type": "display_data",
       "png": "[encoded data removed]",
       "text": [
        "<matplotlib.figure.Figure at 0x11172a790>"
       ]
      }
     ],
     "prompt_number": 29
    },
    {
     "cell_type": "markdown",
     "metadata": {},
     "source": [
      "# Quiz"
     ]
    },
    {
     "cell_type": "markdown",
     "metadata": {},
     "source": [
      "##5\u9898"
     ]
    },
    {
     "cell_type": "code",
     "collapsed": false,
     "input": [
      "n = 436\n",
      "mean = 84.71\n",
      "(89.11-mean)/2"
     ],
     "language": "python",
     "metadata": {},
     "outputs": [
      {
       "metadata": {},
       "output_type": "pyout",
       "prompt_number": 33,
       "text": [
        "2.200000000000003"
       ]
      }
     ],
     "prompt_number": 33
    },
    {
     "cell_type": "markdown",
     "metadata": {},
     "source": [
      "## 12\u9898"
     ]
    },
    {
     "cell_type": "code",
     "collapsed": false,
     "input": [
      "mean = 1500\n",
      "s = 300\n",
      "z = 1.96\n",
      "ME = 25"
     ],
     "language": "python",
     "metadata": {},
     "outputs": [],
     "prompt_number": 10
    },
    {
     "cell_type": "code",
     "collapsed": false,
     "input": [
      "(z*s/ME) ** 2"
     ],
     "language": "python",
     "metadata": {},
     "outputs": [
      {
       "metadata": {},
       "output_type": "pyout",
       "prompt_number": 11,
       "text": [
        "553.1904"
       ]
      }
     ],
     "prompt_number": 11
    },
    {
     "cell_type": "markdown",
     "metadata": {},
     "source": [
      "##14\u9898"
     ]
    },
    {
     "cell_type": "code",
     "collapsed": false,
     "input": [
      "n = 36\n",
      "sd = 4.31\n",
      "mean = 30.69\n",
      "mu = 32\n",
      "z = (mu - mean)/(sd/n**0.5)"
     ],
     "language": "python",
     "metadata": {},
     "outputs": [],
     "prompt_number": 19
    },
    {
     "cell_type": "code",
     "collapsed": false,
     "input": [
      "z"
     ],
     "language": "python",
     "metadata": {},
     "outputs": [
      {
       "metadata": {},
       "output_type": "pyout",
       "prompt_number": 20,
       "text": [
        "1.82366589327146"
       ]
      }
     ],
     "prompt_number": 20
    },
    {
     "cell_type": "code",
     "collapsed": false,
     "input": [
      "(sd/n**0.5)*1+mean"
     ],
     "language": "python",
     "metadata": {},
     "outputs": [
      {
       "metadata": {},
       "output_type": "pyout",
       "prompt_number": 22,
       "text": [
        "31.408333333333335"
       ]
      }
     ],
     "prompt_number": 22
    },
    {
     "cell_type": "code",
     "collapsed": false,
     "input": [
      "(sd/n**0.5)*1.95+mean"
     ],
     "language": "python",
     "metadata": {},
     "outputs": [
      {
       "metadata": {},
       "output_type": "pyout",
       "prompt_number": 24,
       "text": [
        "32.09075"
       ]
      }
     ],
     "prompt_number": 24
    },
    {
     "cell_type": "code",
     "collapsed": false,
     "input": [
      "220/10"
     ],
     "language": "python",
     "metadata": {},
     "outputs": [
      {
       "metadata": {},
       "output_type": "pyout",
       "prompt_number": 26,
       "text": [
        "2"
       ]
      }
     ],
     "prompt_number": 26
    },
    {
     "cell_type": "code",
     "collapsed": false,
     "input": [
      "22 * 1.96 + 415"
     ],
     "language": "python",
     "metadata": {},
     "outputs": [
      {
       "metadata": {},
       "output_type": "pyout",
       "prompt_number": 32,
       "text": [
        "458.12"
       ]
      }
     ],
     "prompt_number": 32
    },
    {
     "cell_type": "markdown",
     "metadata": {},
     "source": [
      "#Midterm Part 2\n",
      "##Question 2"
     ]
    },
    {
     "cell_type": "code",
     "collapsed": false,
     "input": [
      "sd = 18\n",
      "sd ** 2 /16"
     ],
     "language": "python",
     "metadata": {},
     "outputs": [
      {
       "metadata": {},
       "output_type": "pyout",
       "prompt_number": 6,
       "text": [
        "20"
       ]
      }
     ],
     "prompt_number": 6
    },
    {
     "cell_type": "code",
     "collapsed": false,
     "input": [
      "sd ** 2 /16 *1.28 **2"
     ],
     "language": "python",
     "metadata": {},
     "outputs": [
      {
       "metadata": {},
       "output_type": "pyout",
       "prompt_number": 7,
       "text": [
        "32.768"
       ]
      }
     ],
     "prompt_number": 7
    },
    {
     "cell_type": "code",
     "collapsed": false,
     "input": [],
     "language": "python",
     "metadata": {},
     "outputs": []
    }
   ],
   "metadata": {}
  }
 ]
}