{
 "metadata": {
  "name": ""
 },
 "nbformat": 3,
 "nbformat_minor": 0,
 "worksheets": [
  {
   "cells": [
    {
     "cell_type": "markdown",
     "metadata": {},
     "source": [
      "[Coursera\u4e0a\u7684\u6570\u636e\u5206\u6790\u4e0e\u7edf\u8ba1\u63a8\u65ad](https://class.coursera.org/statistics-001)\u7b2c\u4e8c\u5468\u4f5c\u4e1aPython\u7248\n",
      "\n",
      "##Lab\u90e8\u5206\n",
      "\n",
      "\u7531\u4e8e\u8bfe\u7a0b\u7684\u4f5c\u4e1a\u7684\u6570\u636e\u90fd\u662f\u7528R\u5b58\u50a8\u7684\uff0c\u56e0\u6b64\u9700\u8981\u9996\u5148\u7528[rpy2](http://rpy.sourceforge.net/rpy2.html)\u53ca[Pandas.rpy.commen](http://pandas.pydata.org/pandas-docs/stable/r_interface.html)\u6a21\u5757\u8bfb\u53d6RData\uff0c\u5728Ipython\u4e2d\u4e5f\u63d0\u4f9b\u4e86rmagic\uff0c\u53ef\u4ee5\u76f4\u63a5\u8c03\u7528R"
     ]
    },
    {
     "cell_type": "code",
     "collapsed": false,
     "input": [
      "%matplotlib inline\n",
      "from rpy2.robjects import r\n",
      "from rpy2 import robjects\n",
      "r.load(r.url(\"http://www.openintro.org/stat/data/kobe.RData\"))\n",
      "import pandas.rpy.common as com\n",
      "kobe = com.load_data('kobe')\n",
      "import pandas as pd\n",
      "%load_ext rmagic\n",
      "%R load(url(\"http://www.openintro.org/stat/data/kobe.RData\"))"
     ],
     "language": "python",
     "metadata": {},
     "outputs": [
      {
       "metadata": {},
       "output_type": "pyout",
       "prompt_number": 1,
       "text": [
        "array(['calc_streak', 'kobe'], \n",
        "      dtype='|S11')"
       ]
      }
     ],
     "prompt_number": 1
    },
    {
     "cell_type": "markdown",
     "metadata": {},
     "source": [
      "rpy2\u63d0\u4f9b\u5728python\u4e2d\u8c03\u7528r\u51fd\u6570\uff0c\u5176\u4e2d\u6700\u91cd\u8981\uff0c\u4f7f\u7528\u6700\u591a\u7684\u5c31\u662frpy2.robjects.r\uff0c\u5b83\u63d0\u4f9b\u4e86\u4e00\u4e2ar\u5b9e\u4f8b\uff0c\u901a\u8fc7\u8fd9\u4e2a\u5b9e\u4f8b\u5c31\u53ef\u4ee5\u8c03\u7528\u5404\u79cdr\u7684\u51fd\u6570\u3002\n",
      "\n",
      "pandas.rpy.common\u662f\u57fa\u4e8erpy2\u7684pandas\u63a5\u53e3\u53ef\u4ee5\u5c06r\u6570\u636e\u8f6c\u5316\u4e3a\u5bf9\u5e94\u7684pandas\u5bf9\u8c61\uff0c\u5927\u591a\u6570\u90fd\u662fDataFrame\u3002\n",
      "\n",
      "rmagic\u5219\u652f\u6301\u5728ipython\u4e2d\u76f4\u63a5\u8c03\u7528r\u7684\u4ee3\u7801\u3002\n",
      "\n",
      "\u8bfe\u7a0b\u7684\u4f5c\u4e1a\u89c1\uff1ahttps://d396qusza40orc.cloudfront.net/statistics%2FDocuments%2FLabs%2FLab_Unit2_Lab2.pdf\n",
      "\n",
      "\u672c\u5468\u7684\u8bfe\u7a0b\u4e3b\u8981\u662f\u5173\u4e8e\u6982\u7387\uff0c\u4f5c\u4e1a\u4f7f\u7528\u79d1\u6bd4\u57282009\u5e74NBA\u603b\u51b3\u8d5b\u5bf9\u6218\u5965\u5170\u591a\u9b54\u672f\u7684\u6570\u636e\uff0c\u7528\u4e8e\u7814\u7a76\u7bee\u7403\u8fd0\u52a8\u5458\u7684\u201c\u624b\u70ed\u201d\u73b0\u8c61\u3002\u5728\u8fd9\u573a\u6bd4\u8d5b\uff0c\u79d1\u6bd4\u6700\u7ec8\u83b7\u5f97\u4e86MVP\uff0c\u8bb8\u591a\u89c2\u4f17\u4e5f\u8ba4\u4e3a\u79d1\u6bd4\u5728\u8fd9\u573a\u6bd4\u8d5b\u4e2d\u8868\u73b0\u51fa\u4e86\u624b\u70ed\u3002\n",
      "\n",
      "###1-3\u9898"
     ]
    },
    {
     "cell_type": "code",
     "collapsed": false,
     "input": [
      "kobe.head(5)"
     ],
     "language": "python",
     "metadata": {},
     "outputs": [
      {
       "html": [
        "<div style=\"max-height:1000px;max-width:1500px;overflow:auto;\">\n",
        "<table border=\"1\" class=\"dataframe\">\n",
        "  <thead>\n",
        "    <tr style=\"text-align: right;\">\n",
        "      <th></th>\n",
        "      <th>vs</th>\n",
        "      <th>game</th>\n",
        "      <th>quarter</th>\n",
        "      <th>time</th>\n",
        "      <th>description</th>\n",
        "      <th>basket</th>\n",
        "    </tr>\n",
        "  </thead>\n",
        "  <tbody>\n",
        "    <tr>\n",
        "      <th>1</th>\n",
        "      <td> ORL</td>\n",
        "      <td> 1</td>\n",
        "      <td> 1</td>\n",
        "      <td> 9:47</td>\n",
        "      <td>           Kobe Bryant makes 4-foot two point shot</td>\n",
        "      <td> H</td>\n",
        "    </tr>\n",
        "    <tr>\n",
        "      <th>2</th>\n",
        "      <td> ORL</td>\n",
        "      <td> 1</td>\n",
        "      <td> 1</td>\n",
        "      <td> 9:07</td>\n",
        "      <td>                         Kobe Bryant misses jumper</td>\n",
        "      <td> M</td>\n",
        "    </tr>\n",
        "    <tr>\n",
        "      <th>3</th>\n",
        "      <td> ORL</td>\n",
        "      <td> 1</td>\n",
        "      <td> 1</td>\n",
        "      <td> 8:11</td>\n",
        "      <td>                  Kobe Bryant misses 7-foot jumper</td>\n",
        "      <td> M</td>\n",
        "    </tr>\n",
        "    <tr>\n",
        "      <th>4</th>\n",
        "      <td> ORL</td>\n",
        "      <td> 1</td>\n",
        "      <td> 1</td>\n",
        "      <td> 7:41</td>\n",
        "      <td> Kobe Bryant makes 16-foot jumper (Derek Fisher...</td>\n",
        "      <td> H</td>\n",
        "    </tr>\n",
        "    <tr>\n",
        "      <th>5</th>\n",
        "      <td> ORL</td>\n",
        "      <td> 1</td>\n",
        "      <td> 1</td>\n",
        "      <td> 7:03</td>\n",
        "      <td>                   Kobe Bryant makes driving layup</td>\n",
        "      <td> H</td>\n",
        "    </tr>\n",
        "  </tbody>\n",
        "</table>\n",
        "<p>5 rows \u00d7 6 columns</p>\n",
        "</div>"
       ],
       "metadata": {},
       "output_type": "pyout",
       "prompt_number": 2,
       "text": [
        "    vs  game quarter  time                                        description  \\\n",
        "1  ORL     1       1  9:47            Kobe Bryant makes 4-foot two point shot   \n",
        "2  ORL     1       1  9:07                          Kobe Bryant misses jumper   \n",
        "3  ORL     1       1  8:11                   Kobe Bryant misses 7-foot jumper   \n",
        "4  ORL     1       1  7:41  Kobe Bryant makes 16-foot jumper (Derek Fisher...   \n",
        "5  ORL     1       1  7:03                    Kobe Bryant makes driving layup   \n",
        "\n",
        "  basket  \n",
        "1      H  \n",
        "2      M  \n",
        "3      M  \n",
        "4      H  \n",
        "5      H  \n",
        "\n",
        "[5 rows x 6 columns]"
       ]
      }
     ],
     "prompt_number": 2
    },
    {
     "cell_type": "markdown",
     "metadata": {},
     "source": [
      "\u5728\u8fd9\u4e2aDataFrame\u4e2d\u6bcf\u4e00\u884c\u662f\u4e00\u6b21\u6295\u7bee\u3002vs\u8868\u793a\u5bf9\u9635\u7403\u961f\uff0c\u8fd9\u4e2a\u6570\u636e\u96c6\u90fd\u662f\u4e00\u4e2a\u503c\u3002game\u8868\u793a\u7b2c\u51e0\u573a\uff0cquarter\u8868\u793a\u7b2c\u51e0\u8282\uff0ctime\u8868\u793a\u65f6\u95f4\uff0cdescription\u662f\u76f8\u5173\u63cf\u8ff0\uff0cbasket\u8868\u793a\u662f\u5426\u51fb\u4e2d\u7bee\u7b50\u3002"
     ]
    },
    {
     "cell_type": "code",
     "collapsed": false,
     "input": [
      "len(kobe)"
     ],
     "language": "python",
     "metadata": {},
     "outputs": [
      {
       "metadata": {},
       "output_type": "pyout",
       "prompt_number": 3,
       "text": [
        "133"
       ]
      }
     ],
     "prompt_number": 3
    },
    {
     "cell_type": "code",
     "collapsed": false,
     "input": [
      "kobe.basket.value_counts()"
     ],
     "language": "python",
     "metadata": {},
     "outputs": [
      {
       "metadata": {},
       "output_type": "pyout",
       "prompt_number": 4,
       "text": [
        "M    75\n",
        "H    58\n",
        "dtype: int64"
       ]
      }
     ],
     "prompt_number": 4
    },
    {
     "cell_type": "markdown",
     "metadata": {},
     "source": [
      "Kobe\u5728\u8fd9\u573a\u6bd4\u8d5b\u4e2d\u4e00\u5171\u6295\u7bee133\u6b21\uff0c\u5176\u4e2d58\u6b21\u51fb\u4e2d\u7bee\u7b50\uff0c75\u6b21\u6ca1\u6709\u51fb\u4e2d\u7bee\u7b50\u3002\n",
      "\n",
      "\u6709\u4e00\u79cd\u89c2\u70b9\u8ba4\u4e3a\u624b\u70ed\u7684\u5c04\u624b\u5f80\u5f80\u4f1a\u5ef6\u7eedStreak\uff08\u8fd9\u91cc\u7684streak\u88ab\u5b9a\u4e49\u4e3a\u8fde\u7eed\u7684\u547d\u4e2d\u7bee\u7b50\uff09\u3002\n",
      "\n",
      "\u5728RData\u4e2d\u63d0\u4f9b\u4e86calc_streak\u51fd\u6570\u7528\u4e8e\u8ba1\u7b97streak\u3002\u53ef\u4ee5\u4f7f\u7528rmagic\u548crpy\u4e24\u79cd\u65b9\u5f0f\u6765\u8c03\u7528\u5b83\u3002\u4e0b\u9762\u7528\u4e24\u79cd\u65b9\u5f0f\u6765\u751f\u6210\u79d1\u6bd4\u5728\u672c\u573a\u4e2dstreak\u957f\u5ea6\u7684\u6761\u5f62\u56fe\u3002"
     ]
    },
    {
     "cell_type": "code",
     "collapsed": false,
     "input": [
      "%R kobe_streak <- calc_streak(kobe$basket)\n",
      "%R barplot(table(kobe_streak))"
     ],
     "language": "python",
     "metadata": {},
     "outputs": [
      {
       "metadata": {},
       "output_type": "display_data",
       "png": "[encoded data removed]"
      },
      {
       "metadata": {},
       "output_type": "pyout",
       "prompt_number": 5,
       "text": [
        "array([[ 0.7],\n",
        "       [ 1.9],\n",
        "       [ 3.1],\n",
        "       [ 4.3],\n",
        "       [ 5.5]])"
       ]
      }
     ],
     "prompt_number": 5
    },
    {
     "cell_type": "code",
     "collapsed": false,
     "input": [
      "kobe_streak = r.calc_streak(r.kobe.rx2('basket'))\n",
      "r.barplot(r.table(kobe_streak))"
     ],
     "language": "python",
     "metadata": {},
     "outputs": [
      {
       "metadata": {},
       "output_type": "pyout",
       "prompt_number": 37,
       "text": [
        "<Matrix - Python:0x10b3852d8 / R:0x101b70ab8>\n",
        "[0.700000, 1.900000, 3.100000, 4.300000, 5.500000]"
       ]
      }
     ],
     "prompt_number": 37
    },
    {
     "cell_type": "markdown",
     "metadata": {},
     "source": [
      "rpy\u8f93\u51fa\u7684\u56fe\u5f62\u4f3c\u4e4e\u65e0\u6cd5\u5728\u76f4\u63a5\u5d4c\u5165\u5230notebook\u4e2d\uff0c\u4e0b\u9762\u518d\u7528pandas\u5b9e\u73b0\u4e00\u4e0b\u3002"
     ]
    },
    {
     "cell_type": "code",
     "collapsed": false,
     "input": [
      "kobe_streak = pd.Series(list(r.calc_streak(r.kobe.rx2('basket'))))\n",
      "kobe_streak.value_counts(sort=False).plot(kind='bar')"
     ],
     "language": "python",
     "metadata": {},
     "outputs": [
      {
       "metadata": {},
       "output_type": "pyout",
       "prompt_number": 154,
       "text": [
        "<matplotlib.axes.AxesSubplot at 0x117b3f350>"
       ]
      },
      {
       "metadata": {},
       "output_type": "display_data",
       "png": "[encoded data removed]",
       "text": [
        "<matplotlib.figure.Figure at 0x117b36750>"
       ]
      }
     ],
     "prompt_number": 154
    },
    {
     "cell_type": "markdown",
     "metadata": {},
     "source": [
      "1\u30012\u4e24\u9053\u9898\u90fd\u662f\u5173\u4e8e\u6982\u5ff5\u6ca1\u6709\u4ec0\u4e48\u597d\u8bf4\uff0c\u7b2c\u4e09\u9898\u9700\u8981\u8ba1\u7b97\u4e00\u4e9b\u63cf\u8ff0\u7edf\u8ba1\u503c\u3002"
     ]
    },
    {
     "cell_type": "code",
     "collapsed": false,
     "input": [
      "describe = kobe_streak.describe()\n",
      "print describe\n",
      "IQR = describe['75%'] - describe['25%']\n",
      "print IQR\n",
      "boxplot(kobe_streak)"
     ],
     "language": "python",
     "metadata": {},
     "outputs": [
      {
       "output_type": "stream",
       "stream": "stdout",
       "text": [
        "count    76.000000\n",
        "mean      0.763158\n",
        "std       0.991543\n",
        "min       0.000000\n",
        "25%       0.000000\n",
        "50%       0.000000\n",
        "75%       1.000000\n",
        "max       4.000000\n",
        "dtype: float64\n",
        "1.0\n"
       ]
      },
      {
       "metadata": {},
       "output_type": "pyout",
       "prompt_number": 163,
       "text": [
        "{'boxes': [<matplotlib.lines.Line2D at 0x118f1c150>],\n",
        " 'caps': [<matplotlib.lines.Line2D at 0x118f0f710>,\n",
        "  <matplotlib.lines.Line2D at 0x118f0fc10>],\n",
        " 'fliers': [<matplotlib.lines.Line2D at 0x118f1cb50>,\n",
        "  <matplotlib.lines.Line2D at 0x118f2b050>],\n",
        " 'medians': [<matplotlib.lines.Line2D at 0x118f1c650>],\n",
        " 'whiskers': [<matplotlib.lines.Line2D at 0x118f03f10>,\n",
        "  <matplotlib.lines.Line2D at 0x118f0f190>]}"
       ]
      },
      {
       "metadata": {},
       "output_type": "display_data",
       "png": "[encoded data removed]",
       "text": [
        "<matplotlib.figure.Figure at 0x118d0e810>"
       ]
      }
     ],
     "prompt_number": 163
    },
    {
     "cell_type": "markdown",
     "metadata": {},
     "source": [
      "###4\u30015\u9898\n",
      "\n",
      "\u8fd9\u91cc\u53c8\u589e\u52a0\u4e86\u4e00\u4e9b\u80cc\u666f\u4fe1\u606f\uff1a\n",
      "\n",
      "\u79d1\u6bd4\u7684\u804c\u4e1a\u751f\u6daf\u4e2d\u7684\u6295\u7bee\u51fb\u4e2d\u7bee\u7b50\u7684\u6bd4\u7387\u662f45%\u3002\n",
      "\n",
      "P(shot 1 = H) = 0.45\n",
      "\n",
      "\u7b2c\u56db\u9898\u8003\u67e5\u6761\u4ef6\u6982\u7387\u7684\u95ee\u9898\uff0c\u5982\u679c\u786e\u5b9e\u5b58\u5728\u624b\u70ed\u73b0\u8c61\uff0c\u5219\u624b\u70ed\u65f6\uff0c\u5982\u679c\u524d\u4e00\u6b21\u6295\u7bee\u51fb\u4e2d\u7bee\u7b50\uff0c\u5219\u7b2c\u4e8c\u6b21\u51fa\u624b\u51fb\u4e2d\u7bee\u7b50\u7684\u6bd4\u4f8b\u5c31\u5e94\u8be5\u5347\u9ad8\u3002\n",
      "\n",
      "P(shot 2 = H | shot 1 = H) > 0.45\n",
      "\n",
      "\u4e94\u9898\u8003\u67e5\u7684\u662f\u6982\u5ff5\u6027\u7684\u4e1c\u897f\uff0c\u53ea\u6709\u5f53\u79d1\u6bd4\u7684streak\u7684\u5206\u5e03\u4e0e\u4e00\u822c\u7403\u5458\u6709\u5f88\u5927\u5dee\u5f02\uff0c\u6211\u4eec\u624d\u53ef\u4ee5\u63a8\u65ad\u624b\u70ed\u73b0\u8c61\u786e\u5b9e\u5b58\u5728\u3002\n",
      "\n",
      "### 6\u9898\n",
      "\n",
      "\u4e3a\u4e86\u8bc1\u660e\u79d1\u624b\u70ed\u65f6\u8fde\u7eed\u51fb\u4e2d\u7bee\u7b50\u7684\u957f\u5ea6\u6bd4\u4e00\u822c\u7684\u7403\u5458\uff08\u6bcf\u6b21\u6295\u7bee\u90fd\u662f\u72ec\u7acb\u7684\uff09\u9ad8\uff0c\u9700\u8981\u865a\u62df\u4e00\u822c\u7403\u5458\u7684\u6570\u636e\u3002\u6559\u7a0b\u4e2d\u4ecb\u7ecd\u4e86R\u4e2d\u6a21\u62df\u6295\u786c\u5e01\u7684\u4ee3\u7801\u3002"
     ]
    },
    {
     "cell_type": "code",
     "collapsed": false,
     "input": [
      "%R outcomes <- c(\"heads\", \"tails\")\n",
      "%R sample(outcomes, size = 1, replace = TRUE)"
     ],
     "language": "python",
     "metadata": {},
     "outputs": [
      {
       "metadata": {},
       "output_type": "pyout",
       "prompt_number": 60,
       "text": [
        "array(['heads'], \n",
        "      dtype='|S5')"
       ]
      }
     ],
     "prompt_number": 60
    },
    {
     "cell_type": "code",
     "collapsed": false,
     "input": [
      "random.choice([\"heads\", \"tails\"], 1)"
     ],
     "language": "python",
     "metadata": {},
     "outputs": [
      {
       "metadata": {},
       "output_type": "pyout",
       "prompt_number": 70,
       "text": [
        "array(['heads'], \n",
        "      dtype='|S5')"
       ]
      }
     ],
     "prompt_number": 70
    },
    {
     "cell_type": "markdown",
     "metadata": {},
     "source": [
      "\u4e0a\u9762\u662f\u7c7b\u4f3c\u7684Python\u4ee3\u7801\u3002\u7531\u4e8e\u6211\u4f7f\u7528\u7684\u662fpylab\u6a21\u5f0f\uff0c\u6240\u4ee5\u5b8c\u6574\u7684\u8c03\u7528\u5e94\u8be5\u662fnumpy.random.choice\uff0c\u9898\u76ee\u6c42\u89e3\u7684\u662f\u5047\u8bbe\u6254\u7684\u786c\u5e01\u662f20%\u662f\u9762\uff0c80%\u662f\u80cc\uff0c\u6254\u4e00\u767e\u6b21\u9762\u51fa\u73b0\u7684\u6b21\u6570\u3002\u4e0b\u9762\u4e5f\u6765\u6a21\u62df\u4e00\u4e0b\u8fd9\u4e2a\u60c5\u666f\uff1a"
     ]
    },
    {
     "cell_type": "code",
     "collapsed": false,
     "input": [
      "heads = []\n",
      "for i in range(100):\n",
      "    coins = list(random.choice([\"heads\", \"tails\"], 100, p=[0.2,0.8]))\n",
      "    head = coins.count('heads')\n",
      "    heads.append(head)    \n",
      "pd.Series(heads).hist()"
     ],
     "language": "python",
     "metadata": {},
     "outputs": [
      {
       "metadata": {},
       "output_type": "pyout",
       "prompt_number": 158,
       "text": [
        "<matplotlib.axes.AxesSubplot at 0x11851d3d0>"
       ]
      },
      {
       "metadata": {},
       "output_type": "display_data",
       "png": "[encoded data removed]",
       "text": [
        "<matplotlib.figure.Figure at 0x11853b750>"
       ]
      }
     ],
     "prompt_number": 158
    },
    {
     "cell_type": "code",
     "collapsed": false,
     "input": [
      "pd.Series(heads).plot(kind='kde')"
     ],
     "language": "python",
     "metadata": {},
     "outputs": [
      {
       "metadata": {},
       "output_type": "pyout",
       "prompt_number": 159,
       "text": [
        "<matplotlib.axes.AxesSubplot at 0x1184e4450>"
       ]
      },
      {
       "metadata": {},
       "output_type": "display_data",
       "png": "[encoded data removed]",
       "text": [
        "<matplotlib.figure.Figure at 0x118505610>"
       ]
      }
     ],
     "prompt_number": 159
    },
    {
     "cell_type": "markdown",
     "metadata": {},
     "source": [
      "###7\u30018\u9898\n",
      "\n",
      "\u6709\u4e86\u4ee5\u4e0a\u7684\u77e5\u8bc6\uff0c\u5c31\u53ef\u4ee5\u6a21\u62df\u4e00\u4e2a\u4e00\u822c\u7403\u5458\u7684\u60c5\u51b5\u3002\u8fd9\u91cc\u8981\u5047\u8bbe\u8fd9\u4e2a\u7403\u5458\u7684\u7bee\u7b50\u547d\u4e2d\u7387\u4e0e\u79d1\u6bd4\u662f\u4e00\u6837\u7684\uff0c\u4e5f\u662f45%\uff0c\u53ea\u662f\u4e0d\u5b58\u5728\u624b\u70ed\u73b0\u8c61\u3002\u7136\u540e\u4e5f\u6765\u6784\u5efa\u4e00\u4e2a133\u4e2a\u6295\u7bee\u6570\u636e\u3002"
     ]
    },
    {
     "cell_type": "code",
     "collapsed": false,
     "input": [
      "sim_basket = robjects.StrVector(random.choice([\"H\", \"M\"], 133, p=[0.45,0.55]))\n",
      "sim_streak = pd.Series(list(r.calc_streak(sim_basket)))\n",
      "sim_streak.value_counts(sort=False).plot(kind='bar')"
     ],
     "language": "python",
     "metadata": {},
     "outputs": [
      {
       "metadata": {},
       "output_type": "pyout",
       "prompt_number": 156,
       "text": [
        "<matplotlib.axes.AxesSubplot at 0x1184d2c10>"
       ]
      },
      {
       "metadata": {},
       "output_type": "display_data",
       "png": "[encoded data removed]",
       "text": [
        "<matplotlib.figure.Figure at 0x117ff8050>"
       ]
      }
     ],
     "prompt_number": 156
    },
    {
     "cell_type": "markdown",
     "metadata": {},
     "source": [
      "7\u9898\u4e2d\u95ee\u5230\u7684\u662f\u4e24\u6b21\u8fd0\u884c\u865a\u62df\u7684\u7403\u5458\u83b7\u5f97\u7684\u8fde\u7eed\u51fb\u4e2d\u7bee\u7b50\u7684\u5206\u5e03\uff0c\u4e8c\u8005\u5e94\u8be5\u662f\u8fd1\u4f3c\u7684\u3002"
     ]
    },
    {
     "cell_type": "code",
     "collapsed": false,
     "input": [
      "kobe_streak.value_counts(sort=False).plot(kind='bar')"
     ],
     "language": "python",
     "metadata": {},
     "outputs": [
      {
       "metadata": {},
       "output_type": "pyout",
       "prompt_number": 155,
       "text": [
        "<matplotlib.axes.AxesSubplot at 0x1184efc10>"
       ]
      },
      {
       "metadata": {},
       "output_type": "display_data",
       "png": "[encoded data removed]",
       "text": [
        "<matplotlib.figure.Figure at 0x117fdde10>"
       ]
      }
     ],
     "prompt_number": 155
    },
    {
     "cell_type": "markdown",
     "metadata": {},
     "source": [
      "8\u9898\u4e2d\u95ee\u5230\u79d1\u6bd4\u4e0e\u865a\u62df\u7684\u4e00\u822c\u7403\u5458\u7684streak\u5206\u5e03\u662f\u5426\u76f8\u540c\uff0c\u4ece\u4e0a\u9762\u7684\u4e24\u5f20\u56fe\u6765\u770b\uff0c\u4e8c\u8005\u662f\u76f8\u8fd1\u3002\u5f53\u7136\u4ece\u4e0b\u4e00\u9898\u7684\u9898\u5e72\u5c31\u63d0\u5230\u4e8c\u8005\u662f\u76f8\u4f3c\u7684\u3002"
     ]
    },
    {
     "cell_type": "markdown",
     "metadata": {},
     "source": [
      "## Quiz\n",
      "\n",
      "###1-6\u9898\n",
      "\n",
      "\u4e3b\u8981\u662f\u6982\u5ff5\u9898\u3002\n",
      "\n",
      "### 7\u9898\n",
      "\n",
      "\u4e8c\u9879\u5206\u5e03\u7684\u6982\u7387\u8ba1\u7b97"
     ]
    },
    {
     "cell_type": "code",
     "collapsed": false,
     "input": [
      "from math import factorial\n",
      "p = 0.51\n",
      "q = 1 - 0.51\n",
      "factorial(3)/2*pow(p, 2)*q"
     ],
     "language": "python",
     "metadata": {},
     "outputs": [
      {
       "metadata": {},
       "output_type": "pyout",
       "prompt_number": 165,
       "text": [
        "0.382347"
       ]
      }
     ],
     "prompt_number": 165
    },
    {
     "cell_type": "markdown",
     "metadata": {},
     "source": [
      "### 8-9\u9898\n",
      "\n",
      "\u4e8c\u9879\u5206\u5e03\u6b63\u6001\u5206\u5e03\u7684\u6982\u5ff5\n",
      "\n",
      "### 10\u9898\n",
      "\n",
      "\u9700\u8981\u6a21\u62df\u4e00\u4e9b\u6b63\u6001\u5206\u5e03"
     ]
    },
    {
     "cell_type": "code",
     "collapsed": false,
     "input": [
      "mu, sigma = 0, 1\n",
      "s = np.random.normal(mu, sigma, 1000)\n",
      "hist(s)"
     ],
     "language": "python",
     "metadata": {},
     "outputs": [
      {
       "metadata": {},
       "output_type": "pyout",
       "prompt_number": 167,
       "text": [
        "(array([  1,   2,  10,  44, 119, 226, 264, 209,  90,  35]),\n",
        " array([-4.3494674 , -3.67276274, -2.99605807, -2.3193534 , -1.64264874,\n",
        "        -0.96594407, -0.28923941,  0.38746526,  1.06416992,  1.74087459,\n",
        "         2.41757925]),\n",
        " <a list of 10 Patch objects>)"
       ]
      },
      {
       "metadata": {},
       "output_type": "display_data",
       "png": "[encoded data removed]",
       "text": [
        "<matplotlib.figure.Figure at 0x118a079d0>"
       ]
      }
     ],
     "prompt_number": 167
    },
    {
     "cell_type": "markdown",
     "metadata": {},
     "source": [
      "### 11\u9898\n",
      "\n",
      "\u8003\u67e5\u8d1d\u53f6\u65af\u6982\u7387\u7684\u77e5\u8bc6\u3002\n",
      "\n",
      "**\u5173\u4e8e\u751f\u7269\u5b66\u5bb6\u7684\u9898\u76ee**\n",
      "\n",
      "p(identical) = 0.3\n",
      "\n",
      "p(fraternal) = 0.7\n",
      "\n",
      "p(males | identical) = 0.5\n",
      "\n",
      "p(females | identical) = 0.5 = p(identical & females) / p(identical)\n",
      "\n",
      "p(identical & females) = p(females | identical) \\* p(identical) = 0.5 * 0.3 = 0.15\n",
      "\n",
      "p(males | fraternal) = 0.25\n",
      "\n",
      "p(mix | fraternal) = 0.50\n",
      "\n",
      "p(females | fraternal) = 0.25 = p(identical & females) / p(identical)\n",
      "\n",
      "p(fraternal & females) = p(females | fraternal) \\* p(fraternal) = 0.25 * 0.7 = 0.175\n",
      "\n",
      "p(identical | females) = p(identical & females) / p(females) = 0.15 / (0.15+0.175) = 0.46153846153846156\n",
      "\n",
      "**\u5173\u4e8e\u5927\u5b66\u8bfe\u7a0b\u7684\u9898\u76ee**\n",
      "\n",
      "p(online) = 0.23\n",
      "\n",
      "p(non-online) = 0.77\n",
      "\n",
      "p(believed | online) = 0.39\n",
      "\n",
      "p(non-believed | online) = 0.61 = p(online & non-believed) / p(online)\n",
      "\n",
      "p(online & non-believed) = p(non-believed | online) \\* p(online) = 0.61 * 0.23 = 0.14\n",
      "\n",
      "p(believed | non-online) = 0.27\n",
      "\n",
      "p(non-believed | non-online) = 0.73 = p(non-believed & non-online) / p(non-online)\n",
      "\n",
      "p(non-online & non-believed) = p(non-believed | non-online) \\* p(non-online) =  0.73 * 0.77 = 0.5621\n",
      "\n",
      "p(online | non-believed) = p(online & non-believed) / p(non-believed) = 0.14 / (0.14+0.5621) = 0.199\n",
      "\n",
      "### 12\u9898\n",
      "\n",
      "\u4e8c\u9879\u5206\u5e03\u8fd1\u4f3c\u6b63\u6001\u5206\u5e03\n",
      "\n",
      "p = 0.28\n",
      "\n",
      "q = 1- p = 0.72\n",
      "\n",
      "n = 160\n",
      "\n",
      "np = 160\\*0.28 = 44.8 >10\n",
      "\n",
      "\u56e0\u6b64\u8fd9\u4e2a\u4e8c\u9879\u5206\u5e03\u8fd1\u4f3c\u4e8e\u6b63\u6001\u5206\u5e03\uff0c\u6b63\u6001\u5206\u5e03\u7684\u5e73\u5747\u6570\u4e3anp = 44.8, \u6807\u51c6\u5dee\u4e3a$\\sqrt{npq}$ = 5.68\n",
      "\n",
      "50\u6070\u597d\u7b49\u4e8e\u5e73\u5747\u6570\u5728+1\u6807\u51c6\u5dee\u9644\u8fd1\uff0c\u6309\u7167\u6b63\u6001\u5206\u5e03\uff0c+-1\u4e2a\u6807\u51c6\u5dee\u4e3a68%\uff0c\u5219+1\u6807\u51c6\u5dee\u7684\u4f4d\u7f6e\u4e3a84%\uff0c\u5927\u4e8e\u4e00\u4e2a\u6807\u51c6\u5dee\u7684\u5219\u4e3a1-84%\u3002"
     ]
    }
   ],
   "metadata": {}
  }
 ]
}