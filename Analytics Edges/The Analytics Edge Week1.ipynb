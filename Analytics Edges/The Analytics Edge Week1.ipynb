{
 "metadata": {
  "name": ""
 },
 "nbformat": 3,
 "nbformat_minor": 0,
 "worksheets": [
  {
   "cells": [
    {
     "cell_type": "markdown",
     "metadata": {},
     "source": [
      "#Course"
     ]
    },
    {
     "cell_type": "code",
     "collapsed": false,
     "input": [
      "%matplotlib inline\n",
      "import pandas as pd\n",
      "import numpy as np\n",
      "from matplotlib import pyplot"
     ],
     "language": "python",
     "metadata": {},
     "outputs": [],
     "prompt_number": 1
    },
    {
     "cell_type": "code",
     "collapsed": false,
     "input": [
      "url = 'https://courses.edx.org/c4x/MITx/15.071x/asset/WHO.csv'\n",
      "df = pd.read_csv(url)\n",
      "df.columns"
     ],
     "language": "python",
     "metadata": {},
     "outputs": [
      {
       "metadata": {},
       "output_type": "pyout",
       "prompt_number": 2,
       "text": [
        "Index([u'Country', u'Region', u'Population', u'Under15', u'Over60', u'FertilityRate', u'LifeExpectancy', u'ChildMortality', u'CellularSubscribers', u'LiteracyRate', u'GNI', u'PrimarySchoolEnrollmentMale', u'PrimarySchoolEnrollmentFemale'], dtype='object')"
       ]
      }
     ],
     "prompt_number": 2
    },
    {
     "cell_type": "code",
     "collapsed": false,
     "input": [
      "df['Over60'].mean()"
     ],
     "language": "python",
     "metadata": {},
     "outputs": [
      {
       "metadata": {},
       "output_type": "pyout",
       "prompt_number": 3,
       "text": [
        "11.163659793814434"
       ]
      }
     ],
     "prompt_number": 3
    },
    {
     "cell_type": "code",
     "collapsed": false,
     "input": [
      "df['Over60'].std()"
     ],
     "language": "python",
     "metadata": {},
     "outputs": [
      {
       "metadata": {},
       "output_type": "pyout",
       "prompt_number": 9,
       "text": [
        "7.1493305246727523"
       ]
      }
     ],
     "prompt_number": 9
    },
    {
     "cell_type": "code",
     "collapsed": false,
     "input": [
      "df['Over60'].idxmin()"
     ],
     "language": "python",
     "metadata": {},
     "outputs": [
      {
       "metadata": {},
       "output_type": "pyout",
       "prompt_number": 10,
       "text": [
        "182"
       ]
      }
     ],
     "prompt_number": 10
    },
    {
     "cell_type": "code",
     "collapsed": false,
     "input": [
      "df[u'Country'][182]"
     ],
     "language": "python",
     "metadata": {},
     "outputs": [
      {
       "metadata": {},
       "output_type": "pyout",
       "prompt_number": 11,
       "text": [
        "'United Arab Emirates'"
       ]
      }
     ],
     "prompt_number": 11
    },
    {
     "cell_type": "code",
     "collapsed": false,
     "input": [
      "(df['Over60']/df[u'Population']).min()"
     ],
     "language": "python",
     "metadata": {},
     "outputs": [
      {
       "metadata": {},
       "output_type": "pyout",
       "prompt_number": 12,
       "text": [
        "6.532258064516129e-06"
       ]
      }
     ],
     "prompt_number": 12
    },
    {
     "cell_type": "code",
     "collapsed": false,
     "input": [
      "df[u'Country'][df['LiteracyRate'].idxmax()]"
     ],
     "language": "python",
     "metadata": {},
     "outputs": [
      {
       "metadata": {},
       "output_type": "pyout",
       "prompt_number": 13,
       "text": [
        "'Cuba'"
       ]
      }
     ],
     "prompt_number": 13
    },
    {
     "cell_type": "code",
     "collapsed": false,
     "input": [
      "[df['LiteracyRate'].argmax()]"
     ],
     "language": "python",
     "metadata": {},
     "outputs": [
      {
       "metadata": {},
       "output_type": "pyout",
       "prompt_number": 14,
       "text": [
        "[43]"
       ]
      }
     ],
     "prompt_number": 14
    },
    {
     "cell_type": "code",
     "collapsed": false,
     "input": [
      "df['LiteracyRate'].idxmax()"
     ],
     "language": "python",
     "metadata": {},
     "outputs": [
      {
       "metadata": {},
       "output_type": "pyout",
       "prompt_number": 15,
       "text": [
        "43"
       ]
      }
     ],
     "prompt_number": 15
    },
    {
     "cell_type": "code",
     "collapsed": false,
     "input": [
      "df.ix[df['LiteracyRate'].idxmax()]"
     ],
     "language": "python",
     "metadata": {},
     "outputs": [
      {
       "metadata": {},
       "output_type": "pyout",
       "prompt_number": 16,
       "text": [
        "Country                              Cuba\n",
        "Region                           Americas\n",
        "Population                          11271\n",
        "Under15                             16.58\n",
        "Over60                              17.95\n",
        "FertilityRate                        1.46\n",
        "LifeExpectancy                         78\n",
        "ChildMortality                        5.5\n",
        "CellularSubscribers                 11.69\n",
        "LiteracyRate                         99.8\n",
        "GNI                                   NaN\n",
        "PrimarySchoolEnrollmentMale           100\n",
        "PrimarySchoolEnrollmentFemale        99.7\n",
        "Name: 43, dtype: object"
       ]
      }
     ],
     "prompt_number": 16
    },
    {
     "cell_type": "code",
     "collapsed": false,
     "input": [
      "usda_url = 'https://courses.edx.org/c4x/MITx/15.071x/asset/USDA.csv'"
     ],
     "language": "python",
     "metadata": {},
     "outputs": [],
     "prompt_number": 4
    },
    {
     "cell_type": "code",
     "collapsed": false,
     "input": [
      "usda = pd.read_csv(usda_url)"
     ],
     "language": "python",
     "metadata": {},
     "outputs": [],
     "prompt_number": 5
    },
    {
     "cell_type": "code",
     "collapsed": false,
     "input": [
      "usda.dtypes"
     ],
     "language": "python",
     "metadata": {},
     "outputs": [
      {
       "metadata": {},
       "output_type": "pyout",
       "prompt_number": 31,
       "text": [
        "ID                int64\n",
        "Description      object\n",
        "Calories        float64\n",
        "Protein         float64\n",
        "TotalFat        float64\n",
        "Carbohydrate    float64\n",
        "Sodium          float64\n",
        "SaturatedFat    float64\n",
        "Cholesterol     float64\n",
        "Sugar           float64\n",
        "Calcium         float64\n",
        "Iron            float64\n",
        "Potassium       float64\n",
        "VitaminC        float64\n",
        "VitaminE        float64\n",
        "VitaminD        float64\n",
        "dtype: object"
       ]
      }
     ],
     "prompt_number": 31
    },
    {
     "cell_type": "code",
     "collapsed": false,
     "input": [
      "usda.describe()"
     ],
     "language": "python",
     "metadata": {},
     "outputs": [
      {
       "html": [
        "<div style=\"max-height:1000px;max-width:1500px;overflow:auto;\">\n",
        "<table border=\"1\" class=\"dataframe\">\n",
        "  <thead>\n",
        "    <tr style=\"text-align: right;\">\n",
        "      <th></th>\n",
        "      <th>ID</th>\n",
        "      <th>Calories</th>\n",
        "      <th>Protein</th>\n",
        "      <th>TotalFat</th>\n",
        "      <th>Carbohydrate</th>\n",
        "      <th>Sodium</th>\n",
        "      <th>SaturatedFat</th>\n",
        "      <th>Cholesterol</th>\n",
        "      <th>Sugar</th>\n",
        "      <th>Calcium</th>\n",
        "      <th>Iron</th>\n",
        "      <th>Potassium</th>\n",
        "      <th>VitaminC</th>\n",
        "      <th>VitaminE</th>\n",
        "      <th>VitaminD</th>\n",
        "    </tr>\n",
        "  </thead>\n",
        "  <tbody>\n",
        "    <tr>\n",
        "      <th>count</th>\n",
        "      <td>  7058.000000</td>\n",
        "      <td> 7057.000000</td>\n",
        "      <td> 7057.000000</td>\n",
        "      <td> 7057.000000</td>\n",
        "      <td> 7057.000000</td>\n",
        "      <td>  6974.000000</td>\n",
        "      <td> 6757.000000</td>\n",
        "      <td> 6770.000000</td>\n",
        "      <td> 5148.000000</td>\n",
        "      <td> 6922.000000</td>\n",
        "      <td> 6935.000000</td>\n",
        "      <td>  6649.000000</td>\n",
        "      <td> 6726.000000</td>\n",
        "      <td> 4338.000000</td>\n",
        "      <td> 4224.000000</td>\n",
        "    </tr>\n",
        "    <tr>\n",
        "      <th>mean</th>\n",
        "      <td> 14259.821196</td>\n",
        "      <td>  219.695338</td>\n",
        "      <td>   11.710368</td>\n",
        "      <td>   10.320614</td>\n",
        "      <td>   20.697860</td>\n",
        "      <td>   322.059220</td>\n",
        "      <td>    3.452267</td>\n",
        "      <td>   41.551994</td>\n",
        "      <td>    8.256540</td>\n",
        "      <td>   73.530627</td>\n",
        "      <td>    2.828368</td>\n",
        "      <td>   301.357949</td>\n",
        "      <td>    9.435980</td>\n",
        "      <td>    1.487462</td>\n",
        "      <td>    0.576918</td>\n",
        "    </tr>\n",
        "    <tr>\n",
        "      <th>std</th>\n",
        "      <td>  8577.179705</td>\n",
        "      <td>  172.198755</td>\n",
        "      <td>   10.919356</td>\n",
        "      <td>   16.814191</td>\n",
        "      <td>   27.630443</td>\n",
        "      <td>  1045.416931</td>\n",
        "      <td>    6.921267</td>\n",
        "      <td>  122.963028</td>\n",
        "      <td>   15.361509</td>\n",
        "      <td>  222.445338</td>\n",
        "      <td>    6.019878</td>\n",
        "      <td>   415.638949</td>\n",
        "      <td>   71.256536</td>\n",
        "      <td>    5.386914</td>\n",
        "      <td>    4.301147</td>\n",
        "    </tr>\n",
        "    <tr>\n",
        "      <th>min</th>\n",
        "      <td>  1001.000000</td>\n",
        "      <td>    0.000000</td>\n",
        "      <td>    0.000000</td>\n",
        "      <td>    0.000000</td>\n",
        "      <td>    0.000000</td>\n",
        "      <td>     0.000000</td>\n",
        "      <td>    0.000000</td>\n",
        "      <td>    0.000000</td>\n",
        "      <td>    0.000000</td>\n",
        "      <td>    0.000000</td>\n",
        "      <td>    0.000000</td>\n",
        "      <td>     0.000000</td>\n",
        "      <td>    0.000000</td>\n",
        "      <td>    0.000000</td>\n",
        "      <td>    0.000000</td>\n",
        "    </tr>\n",
        "    <tr>\n",
        "      <th>25%</th>\n",
        "      <td>  8387.250000</td>\n",
        "      <td>   85.000000</td>\n",
        "      <td>    2.290000</td>\n",
        "      <td>    0.720000</td>\n",
        "      <td>    0.000000</td>\n",
        "      <td>    37.000000</td>\n",
        "      <td>    0.172000</td>\n",
        "      <td>    0.000000</td>\n",
        "      <td>    0.000000</td>\n",
        "      <td>    9.000000</td>\n",
        "      <td>    0.520000</td>\n",
        "      <td>   135.000000</td>\n",
        "      <td>    0.000000</td>\n",
        "      <td>    0.120000</td>\n",
        "      <td>    0.000000</td>\n",
        "    </tr>\n",
        "    <tr>\n",
        "      <th>50%</th>\n",
        "      <td> 13293.500000</td>\n",
        "      <td>  181.000000</td>\n",
        "      <td>    8.200000</td>\n",
        "      <td>    4.370000</td>\n",
        "      <td>    7.130000</td>\n",
        "      <td>    79.000000</td>\n",
        "      <td>    1.256000</td>\n",
        "      <td>    3.000000</td>\n",
        "      <td>    1.395000</td>\n",
        "      <td>   19.000000</td>\n",
        "      <td>    1.330000</td>\n",
        "      <td>   250.000000</td>\n",
        "      <td>    0.000000</td>\n",
        "      <td>    0.270000</td>\n",
        "      <td>    0.000000</td>\n",
        "    </tr>\n",
        "    <tr>\n",
        "      <th>75%</th>\n",
        "      <td> 18336.750000</td>\n",
        "      <td>  331.000000</td>\n",
        "      <td>   20.430000</td>\n",
        "      <td>   12.700000</td>\n",
        "      <td>   28.170000</td>\n",
        "      <td>   386.000000</td>\n",
        "      <td>    4.028000</td>\n",
        "      <td>   69.000000</td>\n",
        "      <td>    7.875000</td>\n",
        "      <td>   56.000000</td>\n",
        "      <td>    2.620000</td>\n",
        "      <td>   348.000000</td>\n",
        "      <td>    3.100000</td>\n",
        "      <td>    0.710000</td>\n",
        "      <td>    0.100000</td>\n",
        "    </tr>\n",
        "    <tr>\n",
        "      <th>max</th>\n",
        "      <td> 93600.000000</td>\n",
        "      <td>  902.000000</td>\n",
        "      <td>   88.320000</td>\n",
        "      <td>  100.000000</td>\n",
        "      <td>  100.000000</td>\n",
        "      <td> 38758.000000</td>\n",
        "      <td>   95.600000</td>\n",
        "      <td> 3100.000000</td>\n",
        "      <td>   99.800000</td>\n",
        "      <td> 7364.000000</td>\n",
        "      <td>  123.600000</td>\n",
        "      <td> 16500.000000</td>\n",
        "      <td> 2400.000000</td>\n",
        "      <td>  149.400000</td>\n",
        "      <td>  250.000000</td>\n",
        "    </tr>\n",
        "  </tbody>\n",
        "</table>\n",
        "<p>8 rows \u00d7 15 columns</p>\n",
        "</div>"
       ],
       "metadata": {},
       "output_type": "pyout",
       "prompt_number": 32,
       "text": [
        "                 ID     Calories      Protein     TotalFat  Carbohydrate  \\\n",
        "count   7058.000000  7057.000000  7057.000000  7057.000000   7057.000000   \n",
        "mean   14259.821196   219.695338    11.710368    10.320614     20.697860   \n",
        "std     8577.179705   172.198755    10.919356    16.814191     27.630443   \n",
        "min     1001.000000     0.000000     0.000000     0.000000      0.000000   \n",
        "25%     8387.250000    85.000000     2.290000     0.720000      0.000000   \n",
        "50%    13293.500000   181.000000     8.200000     4.370000      7.130000   \n",
        "75%    18336.750000   331.000000    20.430000    12.700000     28.170000   \n",
        "max    93600.000000   902.000000    88.320000   100.000000    100.000000   \n",
        "\n",
        "             Sodium  SaturatedFat  Cholesterol        Sugar      Calcium  \\\n",
        "count   6974.000000   6757.000000  6770.000000  5148.000000  6922.000000   \n",
        "mean     322.059220      3.452267    41.551994     8.256540    73.530627   \n",
        "std     1045.416931      6.921267   122.963028    15.361509   222.445338   \n",
        "min        0.000000      0.000000     0.000000     0.000000     0.000000   \n",
        "25%       37.000000      0.172000     0.000000     0.000000     9.000000   \n",
        "50%       79.000000      1.256000     3.000000     1.395000    19.000000   \n",
        "75%      386.000000      4.028000    69.000000     7.875000    56.000000   \n",
        "max    38758.000000     95.600000  3100.000000    99.800000  7364.000000   \n",
        "\n",
        "              Iron     Potassium     VitaminC     VitaminE     VitaminD  \n",
        "count  6935.000000   6649.000000  6726.000000  4338.000000  4224.000000  \n",
        "mean      2.828368    301.357949     9.435980     1.487462     0.576918  \n",
        "std       6.019878    415.638949    71.256536     5.386914     4.301147  \n",
        "min       0.000000      0.000000     0.000000     0.000000     0.000000  \n",
        "25%       0.520000    135.000000     0.000000     0.120000     0.000000  \n",
        "50%       1.330000    250.000000     0.000000     0.270000     0.000000  \n",
        "75%       2.620000    348.000000     3.100000     0.710000     0.100000  \n",
        "max     123.600000  16500.000000  2400.000000   149.400000   250.000000  \n",
        "\n",
        "[8 rows x 15 columns]"
       ]
      }
     ],
     "prompt_number": 32
    },
    {
     "cell_type": "code",
     "collapsed": false,
     "input": [
      "usda.ix[usda['Sodium'].idxmax()]"
     ],
     "language": "python",
     "metadata": {},
     "outputs": [
      {
       "metadata": {},
       "output_type": "pyout",
       "prompt_number": 33,
       "text": [
        "ID                    2047\n",
        "Description     SALT,TABLE\n",
        "Calories                 0\n",
        "Protein                  0\n",
        "TotalFat                 0\n",
        "Carbohydrate             0\n",
        "Sodium               38758\n",
        "SaturatedFat             0\n",
        "Cholesterol              0\n",
        "Sugar                    0\n",
        "Calcium                 24\n",
        "Iron                  0.33\n",
        "Potassium                8\n",
        "VitaminC                 0\n",
        "VitaminE                 0\n",
        "VitaminD                 0\n",
        "Name: 264, dtype: object"
       ]
      }
     ],
     "prompt_number": 33
    },
    {
     "cell_type": "code",
     "collapsed": false,
     "input": [
      "HighSodium = usda[usda['Sodium'] > 10000]"
     ],
     "language": "python",
     "metadata": {},
     "outputs": [],
     "prompt_number": 34
    },
    {
     "cell_type": "code",
     "collapsed": false,
     "input": [
      "HighSodium.reset_index(inplace=True)"
     ],
     "language": "python",
     "metadata": {},
     "outputs": [],
     "prompt_number": 40
    },
    {
     "cell_type": "code",
     "collapsed": false,
     "input": [
      "usda[usda['Description'].str.contains('CAVIAR')]"
     ],
     "language": "python",
     "metadata": {},
     "outputs": [
      {
       "html": [
        "<div style=\"max-height:1000px;max-width:1500px;overflow:auto;\">\n",
        "<table border=\"1\" class=\"dataframe\">\n",
        "  <thead>\n",
        "    <tr style=\"text-align: right;\">\n",
        "      <th></th>\n",
        "      <th>ID</th>\n",
        "      <th>Description</th>\n",
        "      <th>Calories</th>\n",
        "      <th>Protein</th>\n",
        "      <th>TotalFat</th>\n",
        "      <th>Carbohydrate</th>\n",
        "      <th>Sodium</th>\n",
        "      <th>SaturatedFat</th>\n",
        "      <th>Cholesterol</th>\n",
        "      <th>Sugar</th>\n",
        "      <th>Calcium</th>\n",
        "      <th>Iron</th>\n",
        "      <th>Potassium</th>\n",
        "      <th>VitaminC</th>\n",
        "      <th>VitaminE</th>\n",
        "      <th>VitaminD</th>\n",
        "    </tr>\n",
        "  </thead>\n",
        "  <tbody>\n",
        "    <tr>\n",
        "      <th>4153</th>\n",
        "      <td> 15012</td>\n",
        "      <td> CAVIAR</td>\n",
        "      <td> 264</td>\n",
        "      <td> 24.6</td>\n",
        "      <td> 17.9</td>\n",
        "      <td> 4</td>\n",
        "      <td> 1500</td>\n",
        "      <td> 4.06</td>\n",
        "      <td> 588</td>\n",
        "      <td> 0</td>\n",
        "      <td> 275</td>\n",
        "      <td> 11.88</td>\n",
        "      <td> 181</td>\n",
        "      <td> 0</td>\n",
        "      <td> 1.89</td>\n",
        "      <td> 2.9</td>\n",
        "    </tr>\n",
        "  </tbody>\n",
        "</table>\n",
        "<p>1 rows \u00d7 16 columns</p>\n",
        "</div>"
       ],
       "metadata": {},
       "output_type": "pyout",
       "prompt_number": 44,
       "text": [
        "         ID Description  Calories  Protein  TotalFat  Carbohydrate  Sodium  \\\n",
        "4153  15012      CAVIAR       264     24.6      17.9             4    1500   \n",
        "\n",
        "      SaturatedFat  Cholesterol  Sugar  Calcium   Iron  Potassium  VitaminC  \\\n",
        "4153          4.06          588      0      275  11.88        181         0   \n",
        "\n",
        "      VitaminE  VitaminD  \n",
        "4153      1.89       2.9  \n",
        "\n",
        "[1 rows x 16 columns]"
       ]
      }
     ],
     "prompt_number": 44
    },
    {
     "cell_type": "code",
     "collapsed": false,
     "input": [
      "usda['Sodium'].std()"
     ],
     "language": "python",
     "metadata": {},
     "outputs": [
      {
       "metadata": {},
       "output_type": "pyout",
       "prompt_number": 45,
       "text": [
        "1045.4169311578748"
       ]
      }
     ],
     "prompt_number": 45
    },
    {
     "cell_type": "code",
     "collapsed": false,
     "input": [
      "usda.plot(x = 'Protein', y = 'TotalFat',kind='scatter')"
     ],
     "language": "python",
     "metadata": {},
     "outputs": [
      {
       "metadata": {},
       "output_type": "pyout",
       "prompt_number": 47,
       "text": [
        "<matplotlib.axes.AxesSubplot at 0x103875850>"
       ]
      },
      {
       "metadata": {},
       "output_type": "display_data",
       "png": "[encoded data removed]",
       "text": [
        "<matplotlib.figure.Figure at 0x10387ca90>"
       ]
      }
     ],
     "prompt_number": 47
    },
    {
     "cell_type": "code",
     "collapsed": false,
     "input": [
      "usda['Protein'].hist()"
     ],
     "language": "python",
     "metadata": {},
     "outputs": [
      {
       "metadata": {},
       "output_type": "pyout",
       "prompt_number": 12,
       "text": [
        "<matplotlib.axes.AxesSubplot at 0x1096dd7d0>"
       ]
      },
      {
       "metadata": {},
       "output_type": "display_data",
       "png": "[encoded data removed]",
       "text": [
        "<matplotlib.figure.Figure at 0x102d66590>"
       ]
      }
     ],
     "prompt_number": 12
    },
    {
     "cell_type": "code",
     "collapsed": false,
     "input": [
      "usda[['Protein','Sugar']].boxplot()"
     ],
     "language": "python",
     "metadata": {},
     "outputs": [
      {
       "metadata": {},
       "output_type": "pyout",
       "prompt_number": 18,
       "text": [
        "{'boxes': [<matplotlib.lines.Line2D at 0x10932fa10>,\n",
        "  <matplotlib.lines.Line2D at 0x10384b250>],\n",
        " 'caps': [<matplotlib.lines.Line2D at 0x10932f050>,\n",
        "  <matplotlib.lines.Line2D at 0x10932f550>,\n",
        "  <matplotlib.lines.Line2D at 0x109329810>,\n",
        "  <matplotlib.lines.Line2D at 0x109329d10>],\n",
        " 'fliers': [<matplotlib.lines.Line2D at 0x10930f450>,\n",
        "  <matplotlib.lines.Line2D at 0x10930f910>,\n",
        "  <matplotlib.lines.Line2D at 0x10384bc50>,\n",
        "  <matplotlib.lines.Line2D at 0x103872150>],\n",
        " 'medians': [<matplotlib.lines.Line2D at 0x10932ff10>,\n",
        "  <matplotlib.lines.Line2D at 0x10384b750>],\n",
        " 'whiskers': [<matplotlib.lines.Line2D at 0x10930c850>,\n",
        "  <matplotlib.lines.Line2D at 0x10930ca90>,\n",
        "  <matplotlib.lines.Line2D at 0x1093290d0>,\n",
        "  <matplotlib.lines.Line2D at 0x109329310>]}"
       ]
      },
      {
       "metadata": {},
       "output_type": "display_data",
       "png": "[encoded data removed]",
       "text": [
        "<matplotlib.figure.Figure at 0x109371d90>"
       ]
      }
     ],
     "prompt_number": 18
    },
    {
     "cell_type": "code",
     "collapsed": false,
     "input": [
      "usda['HighSodium'] = (usda['Sodium'] > usda['Sodium'].mean()).apply(int)"
     ],
     "language": "python",
     "metadata": {},
     "outputs": [],
     "prompt_number": 29
    },
    {
     "cell_type": "code",
     "collapsed": false,
     "input": [
      "usda['HighSodium'].value_counts()"
     ],
     "language": "python",
     "metadata": {},
     "outputs": [
      {
       "metadata": {},
       "output_type": "pyout",
       "prompt_number": 30,
       "text": [
        "0    4968\n",
        "1    2090\n",
        "dtype: int64"
       ]
      }
     ],
     "prompt_number": 30
    },
    {
     "cell_type": "code",
     "collapsed": false,
     "input": [
      "usda['HighFat'] = (usda['TotalFat'] > usda['TotalFat'].mean()).apply(int)"
     ],
     "language": "python",
     "metadata": {},
     "outputs": [],
     "prompt_number": 31
    },
    {
     "cell_type": "code",
     "collapsed": false,
     "input": [
      "pd.crosstab(usda['HighSodium'], usda['HighFat'])"
     ],
     "language": "python",
     "metadata": {},
     "outputs": [
      {
       "html": [
        "<div style=\"max-height:1000px;max-width:1500px;overflow:auto;\">\n",
        "<table border=\"1\" class=\"dataframe\">\n",
        "  <thead>\n",
        "    <tr style=\"text-align: right;\">\n",
        "      <th>HighFat</th>\n",
        "      <th>0</th>\n",
        "      <th>1</th>\n",
        "    </tr>\n",
        "    <tr>\n",
        "      <th>HighSodium</th>\n",
        "      <th></th>\n",
        "      <th></th>\n",
        "    </tr>\n",
        "  </thead>\n",
        "  <tbody>\n",
        "    <tr>\n",
        "      <th>0</th>\n",
        "      <td> 3596</td>\n",
        "      <td> 1372</td>\n",
        "    </tr>\n",
        "    <tr>\n",
        "      <th>1</th>\n",
        "      <td> 1378</td>\n",
        "      <td>  712</td>\n",
        "    </tr>\n",
        "  </tbody>\n",
        "</table>\n",
        "<p>2 rows \u00d7 2 columns</p>\n",
        "</div>"
       ],
       "metadata": {},
       "output_type": "pyout",
       "prompt_number": 42,
       "text": [
        "HighFat        0     1\n",
        "HighSodium            \n",
        "0           3596  1372\n",
        "1           1378   712\n",
        "\n",
        "[2 rows x 2 columns]"
       ]
      }
     ],
     "prompt_number": 42
    },
    {
     "cell_type": "code",
     "collapsed": false,
     "input": [
      "usda['HighProtein'] = (usda['Protein'] > usda['Protein'].mean()).apply(int)\n",
      "groups = usda.groupby('HighProtein')"
     ],
     "language": "python",
     "metadata": {},
     "outputs": [],
     "prompt_number": 36
    },
    {
     "cell_type": "code",
     "collapsed": false,
     "input": [
      "groups['Iron'].mean()"
     ],
     "language": "python",
     "metadata": {},
     "outputs": [
      {
       "metadata": {},
       "output_type": "pyout",
       "prompt_number": 38,
       "text": [
        "HighProtein\n",
        "0              2.558945\n",
        "1              3.197294\n",
        "Name: Iron, dtype: float64"
       ]
      }
     ],
     "prompt_number": 38
    },
    {
     "cell_type": "code",
     "collapsed": false,
     "input": [
      "groups['Iron'].describe().unstack()"
     ],
     "language": "python",
     "metadata": {},
     "outputs": [
      {
       "html": [
        "<div style=\"max-height:1000px;max-width:1500px;overflow:auto;\">\n",
        "<table border=\"1\" class=\"dataframe\">\n",
        "  <thead>\n",
        "    <tr style=\"text-align: right;\">\n",
        "      <th></th>\n",
        "      <th>count</th>\n",
        "      <th>mean</th>\n",
        "      <th>std</th>\n",
        "      <th>min</th>\n",
        "      <th>25%</th>\n",
        "      <th>50%</th>\n",
        "      <th>75%</th>\n",
        "      <th>max</th>\n",
        "    </tr>\n",
        "    <tr>\n",
        "      <th>HighProtein</th>\n",
        "      <th></th>\n",
        "      <th></th>\n",
        "      <th></th>\n",
        "      <th></th>\n",
        "      <th></th>\n",
        "      <th></th>\n",
        "      <th></th>\n",
        "      <th></th>\n",
        "    </tr>\n",
        "  </thead>\n",
        "  <tbody>\n",
        "    <tr>\n",
        "      <th>0</th>\n",
        "      <td> 4008</td>\n",
        "      <td> 2.558945</td>\n",
        "      <td> 6.173938</td>\n",
        "      <td> 0.00</td>\n",
        "      <td> 0.29</td>\n",
        "      <td> 0.79</td>\n",
        "      <td> 2.1325</td>\n",
        "      <td> 123.6</td>\n",
        "    </tr>\n",
        "    <tr>\n",
        "      <th>1</th>\n",
        "      <td> 2927</td>\n",
        "      <td> 3.197294</td>\n",
        "      <td> 5.783003</td>\n",
        "      <td> 0.02</td>\n",
        "      <td> 1.12</td>\n",
        "      <td> 1.92</td>\n",
        "      <td> 2.9200</td>\n",
        "      <td>  89.8</td>\n",
        "    </tr>\n",
        "  </tbody>\n",
        "</table>\n",
        "<p>2 rows \u00d7 8 columns</p>\n",
        "</div>"
       ],
       "metadata": {},
       "output_type": "pyout",
       "prompt_number": 44,
       "text": [
        "             count      mean       std   min   25%   50%     75%    max\n",
        "HighProtein                                                            \n",
        "0             4008  2.558945  6.173938  0.00  0.29  0.79  2.1325  123.6\n",
        "1             2927  3.197294  5.783003  0.02  1.12  1.92  2.9200   89.8\n",
        "\n",
        "[2 rows x 8 columns]"
       ]
      }
     ],
     "prompt_number": 44
    },
    {
     "cell_type": "markdown",
     "metadata": {},
     "source": [
      "#Assignment\n",
      "## AN ANALYTICAL DETECTIVE\n",
      "\n",
      "\u4fa0\u76d7\u730e\u8f66"
     ]
    },
    {
     "cell_type": "code",
     "collapsed": false,
     "input": [
      "mvt = pd.read_table('https://courses.edx.org/c4x/MITx/15.071x/asset/mvtWeek1.csv',sep=',')"
     ],
     "language": "python",
     "metadata": {},
     "outputs": [],
     "prompt_number": 4
    },
    {
     "cell_type": "code",
     "collapsed": false,
     "input": [
      "mvt.shape"
     ],
     "language": "python",
     "metadata": {},
     "outputs": [
      {
       "metadata": {},
       "output_type": "pyout",
       "prompt_number": 9,
       "text": [
        "(191641, 11)"
       ]
      }
     ],
     "prompt_number": 9
    },
    {
     "cell_type": "code",
     "collapsed": false,
     "input": [
      "mvt['ID'].max()"
     ],
     "language": "python",
     "metadata": {},
     "outputs": [
      {
       "metadata": {},
       "output_type": "pyout",
       "prompt_number": 10,
       "text": [
        "9181151"
       ]
      }
     ],
     "prompt_number": 10
    },
    {
     "cell_type": "code",
     "collapsed": false,
     "input": [
      "mvt['Beat'].min()"
     ],
     "language": "python",
     "metadata": {},
     "outputs": [
      {
       "metadata": {},
       "output_type": "pyout",
       "prompt_number": 11,
       "text": [
        "111"
       ]
      }
     ],
     "prompt_number": 11
    },
    {
     "cell_type": "code",
     "collapsed": false,
     "input": [
      "mvt['Arrest'].value_counts()"
     ],
     "language": "python",
     "metadata": {},
     "outputs": [
      {
       "metadata": {},
       "output_type": "pyout",
       "prompt_number": 12,
       "text": [
        "False    176105\n",
        "True      15536\n",
        "dtype: int64"
       ]
      }
     ],
     "prompt_number": 12
    },
    {
     "cell_type": "code",
     "collapsed": false,
     "input": [
      "(mvt['LocationDescription']=='ALLEY').value_counts()"
     ],
     "language": "python",
     "metadata": {},
     "outputs": [
      {
       "metadata": {},
       "output_type": "pyout",
       "prompt_number": 15,
       "text": [
        "False    189333\n",
        "True       2308\n",
        "dtype: int64"
       ]
      }
     ],
     "prompt_number": 15
    },
    {
     "cell_type": "code",
     "collapsed": false,
     "input": [
      "mvt.dtypes"
     ],
     "language": "python",
     "metadata": {},
     "outputs": [
      {
       "metadata": {},
       "output_type": "pyout",
       "prompt_number": 16,
       "text": [
        "ID                       int64\n",
        "Date                    object\n",
        "LocationDescription     object\n",
        "Arrest                    bool\n",
        "Domestic                  bool\n",
        "Beat                     int64\n",
        "District                object\n",
        "CommunityArea           object\n",
        "Year                     int64\n",
        "Latitude               float64\n",
        "Longitude              float64\n",
        "dtype: object"
       ]
      }
     ],
     "prompt_number": 16
    },
    {
     "cell_type": "code",
     "collapsed": false,
     "input": [
      "type(mvt['Date'][0])"
     ],
     "language": "python",
     "metadata": {},
     "outputs": [
      {
       "metadata": {},
       "output_type": "pyout",
       "prompt_number": 20,
       "text": [
        "str"
       ]
      }
     ],
     "prompt_number": 20
    },
    {
     "cell_type": "code",
     "collapsed": false,
     "input": [
      "mvt['Date'] = pd.to_datetime(mvt['Date'])"
     ],
     "language": "python",
     "metadata": {},
     "outputs": [],
     "prompt_number": 8
    },
    {
     "cell_type": "code",
     "collapsed": false,
     "input": [
      "mvt['Date'].describe()"
     ],
     "language": "python",
     "metadata": {},
     "outputs": [
      {
       "metadata": {},
       "output_type": "pyout",
       "prompt_number": 25,
       "text": [
        "count                  191641\n",
        "unique                 131680\n",
        "first     2001-01-01 00:01:00\n",
        "last      2012-12-31 23:15:00\n",
        "top       2008-05-16 00:00:00\n",
        "freq                       11\n",
        "Name: Date, dtype: object"
       ]
      }
     ],
     "prompt_number": 25
    },
    {
     "cell_type": "code",
     "collapsed": false,
     "input": [
      "mvt['Date'][len(mvt['Date'])/2]"
     ],
     "language": "python",
     "metadata": {},
     "outputs": [
      {
       "metadata": {},
       "output_type": "pyout",
       "prompt_number": 32,
       "text": [
        "Timestamp('2006-05-21 12:30:00', tz=None)"
       ]
      }
     ],
     "prompt_number": 32
    },
    {
     "cell_type": "code",
     "collapsed": false,
     "input": [
      "mvt['Month'] = mvt['Date'].apply(lambda x : x.month)"
     ],
     "language": "python",
     "metadata": {},
     "outputs": [],
     "prompt_number": 39
    },
    {
     "cell_type": "code",
     "collapsed": false,
     "input": [
      "mvt['Weekday'] = mvt['Date'].apply(lambda x : x.weekday())"
     ],
     "language": "python",
     "metadata": {},
     "outputs": [],
     "prompt_number": 9
    },
    {
     "cell_type": "code",
     "collapsed": false,
     "input": [
      "mvt['Month'].value_counts(sort=False)"
     ],
     "language": "python",
     "metadata": {},
     "outputs": [
      {
       "metadata": {},
       "output_type": "pyout",
       "prompt_number": 49,
       "text": [
        "1     16047\n",
        "2     13511\n",
        "3     15758\n",
        "4     15280\n",
        "5     16035\n",
        "6     16002\n",
        "7     16801\n",
        "8     16572\n",
        "9     16060\n",
        "10    17086\n",
        "11    16063\n",
        "12    16426\n",
        "dtype: int64"
       ]
      }
     ],
     "prompt_number": 49
    },
    {
     "cell_type": "code",
     "collapsed": false,
     "input": [
      "mvt['Weekday'].value_counts(sort=False)"
     ],
     "language": "python",
     "metadata": {},
     "outputs": [
      {
       "metadata": {},
       "output_type": "pyout",
       "prompt_number": 51,
       "text": [
        "0    27397\n",
        "1    26791\n",
        "2    27416\n",
        "3    27319\n",
        "4    29284\n",
        "5    27118\n",
        "6    26316\n",
        "dtype: int64"
       ]
      }
     ],
     "prompt_number": 51
    },
    {
     "cell_type": "code",
     "collapsed": false,
     "input": [
      "mvt.ix[mvt['Arrest']]['Month'].value_counts().sort_index()"
     ],
     "language": "python",
     "metadata": {},
     "outputs": [
      {
       "metadata": {},
       "output_type": "pyout",
       "prompt_number": 62,
       "text": [
        "1     1435\n",
        "2     1238\n",
        "3     1298\n",
        "4     1252\n",
        "5     1187\n",
        "6     1230\n",
        "7     1324\n",
        "8     1329\n",
        "9     1248\n",
        "10    1342\n",
        "11    1256\n",
        "12    1397\n",
        "dtype: int64"
       ]
      }
     ],
     "prompt_number": 62
    },
    {
     "cell_type": "code",
     "collapsed": false,
     "input": [
      "mvt['Year'].hist()"
     ],
     "language": "python",
     "metadata": {},
     "outputs": [
      {
       "metadata": {},
       "output_type": "pyout",
       "prompt_number": 79,
       "text": [
        "<matplotlib.axes.AxesSubplot at 0x11376a110>"
       ]
      },
      {
       "metadata": {},
       "output_type": "display_data",
       "png": "[encoded data removed]",
       "text": [
        "<matplotlib.figure.Figure at 0x113a4bd90>"
       ]
      }
     ],
     "prompt_number": 79
    },
    {
     "cell_type": "code",
     "collapsed": false,
     "input": [
      "mvt.ix[mvt['Arrest']]['Year'].value_counts().sort_index()"
     ],
     "language": "python",
     "metadata": {},
     "outputs": [
      {
       "metadata": {},
       "output_type": "pyout",
       "prompt_number": 100,
       "text": [
        "2001    2152\n",
        "2002    2115\n",
        "2003    1798\n",
        "2004    1693\n",
        "2005    1528\n",
        "2006    1302\n",
        "2007    1212\n",
        "2008    1020\n",
        "2009     840\n",
        "2010     701\n",
        "2011     625\n",
        "2012     550\n",
        "dtype: int64"
       ]
      }
     ],
     "prompt_number": 100
    },
    {
     "cell_type": "code",
     "collapsed": false,
     "input": [
      "ct = pd.crosstab(mvt['Year'],mvt['Arrest'])"
     ],
     "language": "python",
     "metadata": {},
     "outputs": [],
     "prompt_number": 106
    },
    {
     "cell_type": "code",
     "collapsed": false,
     "input": [
      "ct['arrestd'] = ct[True]/(ct[False] + ct[True])"
     ],
     "language": "python",
     "metadata": {},
     "outputs": [],
     "prompt_number": 110
    },
    {
     "cell_type": "code",
     "collapsed": false,
     "input": [
      "ct"
     ],
     "language": "python",
     "metadata": {},
     "outputs": [
      {
       "html": [
        "<div style=\"max-height:1000px;max-width:1500px;overflow:auto;\">\n",
        "<table border=\"1\" class=\"dataframe\">\n",
        "  <thead>\n",
        "    <tr style=\"text-align: right;\">\n",
        "      <th>Arrest</th>\n",
        "      <th>False</th>\n",
        "      <th>True</th>\n",
        "      <th>arrestd</th>\n",
        "    </tr>\n",
        "    <tr>\n",
        "      <th>Year</th>\n",
        "      <th></th>\n",
        "      <th></th>\n",
        "      <th></th>\n",
        "    </tr>\n",
        "  </thead>\n",
        "  <tbody>\n",
        "    <tr>\n",
        "      <th>2001</th>\n",
        "      <td> 18517</td>\n",
        "      <td> 2152</td>\n",
        "      <td> 0.104117</td>\n",
        "    </tr>\n",
        "    <tr>\n",
        "      <th>2002</th>\n",
        "      <td> 16638</td>\n",
        "      <td> 2115</td>\n",
        "      <td> 0.112782</td>\n",
        "    </tr>\n",
        "    <tr>\n",
        "      <th>2003</th>\n",
        "      <td> 14859</td>\n",
        "      <td> 1798</td>\n",
        "      <td> 0.107943</td>\n",
        "    </tr>\n",
        "    <tr>\n",
        "      <th>2004</th>\n",
        "      <td> 15169</td>\n",
        "      <td> 1693</td>\n",
        "      <td> 0.100403</td>\n",
        "    </tr>\n",
        "    <tr>\n",
        "      <th>2005</th>\n",
        "      <td> 14956</td>\n",
        "      <td> 1528</td>\n",
        "      <td> 0.092696</td>\n",
        "    </tr>\n",
        "    <tr>\n",
        "      <th>2006</th>\n",
        "      <td> 14796</td>\n",
        "      <td> 1302</td>\n",
        "      <td> 0.080880</td>\n",
        "    </tr>\n",
        "    <tr>\n",
        "      <th>2007</th>\n",
        "      <td> 13068</td>\n",
        "      <td> 1212</td>\n",
        "      <td> 0.084874</td>\n",
        "    </tr>\n",
        "    <tr>\n",
        "      <th>2008</th>\n",
        "      <td> 13425</td>\n",
        "      <td> 1020</td>\n",
        "      <td> 0.070613</td>\n",
        "    </tr>\n",
        "    <tr>\n",
        "      <th>2009</th>\n",
        "      <td> 11327</td>\n",
        "      <td>  840</td>\n",
        "      <td> 0.069039</td>\n",
        "    </tr>\n",
        "    <tr>\n",
        "      <th>2010</th>\n",
        "      <td> 14796</td>\n",
        "      <td>  701</td>\n",
        "      <td> 0.045235</td>\n",
        "    </tr>\n",
        "    <tr>\n",
        "      <th>2011</th>\n",
        "      <td> 15012</td>\n",
        "      <td>  625</td>\n",
        "      <td> 0.039969</td>\n",
        "    </tr>\n",
        "    <tr>\n",
        "      <th>2012</th>\n",
        "      <td> 13542</td>\n",
        "      <td>  550</td>\n",
        "      <td> 0.039029</td>\n",
        "    </tr>\n",
        "  </tbody>\n",
        "</table>\n",
        "<p>12 rows \u00d7 3 columns</p>\n",
        "</div>"
       ],
       "metadata": {},
       "output_type": "pyout",
       "prompt_number": 111,
       "text": [
        "Arrest  False  True   arrestd\n",
        "Year                         \n",
        "2001    18517  2152  0.104117\n",
        "2002    16638  2115  0.112782\n",
        "2003    14859  1798  0.107943\n",
        "2004    15169  1693  0.100403\n",
        "2005    14956  1528  0.092696\n",
        "2006    14796  1302  0.080880\n",
        "2007    13068  1212  0.084874\n",
        "2008    13425  1020  0.070613\n",
        "2009    11327   840  0.069039\n",
        "2010    14796   701  0.045235\n",
        "2011    15012   625  0.039969\n",
        "2012    13542   550  0.039029\n",
        "\n",
        "[12 rows x 3 columns]"
       ]
      }
     ],
     "prompt_number": 111
    },
    {
     "cell_type": "code",
     "collapsed": false,
     "input": [
      "mvt['LocationDescription'].value_counts()"
     ],
     "language": "python",
     "metadata": {},
     "outputs": [
      {
       "metadata": {},
       "output_type": "pyout",
       "prompt_number": 113,
       "text": [
        "STREET                             156564\n",
        "PARKING LOT/GARAGE(NON.RESID.)      14852\n",
        "OTHER                                4573\n",
        "ALLEY                                2308\n",
        "GAS STATION                          2111\n",
        "DRIVEWAY - RESIDENTIAL               1675\n",
        "RESIDENTIAL YARD (FRONT/BACK)        1536\n",
        "RESIDENCE                            1302\n",
        "RESIDENCE-GARAGE                     1176\n",
        "VACANT LOT/LAND                       985\n",
        "VEHICLE NON-COMMERCIAL                817\n",
        "SIDEWALK                              462\n",
        "CHA PARKING LOT/GROUNDS               405\n",
        "AIRPORT/AIRCRAFT                      363\n",
        "POLICE FACILITY/VEH PARKING LOT       266\n",
        "...\n",
        "SAVINGS AND LOAN                               4\n",
        "BARBERSHOP                                     4\n",
        "CLEANING STORE                                 3\n",
        "MEDICAL/DENTAL OFFICE                          3\n",
        "BOWLING ALLEY                                  3\n",
        "COLLEGE/UNIVERSITY RESIDENCE HALL              2\n",
        "BRIDGE                                         2\n",
        "CURRENCY EXCHANGE                              2\n",
        "APPLIANCE STORE                                1\n",
        "CTA TRAIN                                      1\n",
        "JAIL / LOCK-UP FACILITY                        1\n",
        "AIRPORT EXTERIOR - SECURE AREA                 1\n",
        "AIRPORT BUILDING NON-TERMINAL - SECURE AREA    1\n",
        "ANIMAL HOSPITAL                                1\n",
        "NEWSSTAND                                      1\n",
        "Length: 78, dtype: int64"
       ]
      }
     ],
     "prompt_number": 113
    },
    {
     "cell_type": "code",
     "collapsed": false,
     "input": [
      "Top5 = mvt.ix[mvt['LocationDescription'].isin(['STREET', 'PARKING LOT/GARAGE(NON.RESID.)', 'ALLEY', 'GAS STATION', 'DRIVEWAY - RESIDENTIAL'])]"
     ],
     "language": "python",
     "metadata": {},
     "outputs": [],
     "prompt_number": 11
    },
    {
     "cell_type": "code",
     "collapsed": false,
     "input": [
      "Top5.shape"
     ],
     "language": "python",
     "metadata": {},
     "outputs": [
      {
       "metadata": {},
       "output_type": "pyout",
       "prompt_number": 117,
       "text": [
        "(177510, 13)"
       ]
      }
     ],
     "prompt_number": 117
    },
    {
     "cell_type": "code",
     "collapsed": false,
     "input": [
      "ct_5 = pd.crosstab(Top5['LocationDescription'],Top5['Arrest'])"
     ],
     "language": "python",
     "metadata": {},
     "outputs": [],
     "prompt_number": 120
    },
    {
     "cell_type": "code",
     "collapsed": false,
     "input": [
      "ct_5['Arrested'] = ct_5[True] / (ct_5[True] + ct_5[False])"
     ],
     "language": "python",
     "metadata": {},
     "outputs": [],
     "prompt_number": 121
    },
    {
     "cell_type": "code",
     "collapsed": false,
     "input": [
      "ct_5['Arrested']"
     ],
     "language": "python",
     "metadata": {},
     "outputs": [
      {
       "metadata": {},
       "output_type": "pyout",
       "prompt_number": 122,
       "text": [
        "LocationDescription\n",
        "ALLEY                             0.107886\n",
        "DRIVEWAY - RESIDENTIAL            0.078806\n",
        "GAS STATION                       0.207958\n",
        "PARKING LOT/GARAGE(NON.RESID.)    0.107932\n",
        "STREET                            0.074059\n",
        "Name: Arrested, dtype: float64"
       ]
      }
     ],
     "prompt_number": 122
    },
    {
     "cell_type": "code",
     "collapsed": false,
     "input": [
      "pd.crosstab(Top5['LocationDescription'],Top5['Weekday'])"
     ],
     "language": "python",
     "metadata": {},
     "outputs": [
      {
       "html": [
        "<div style=\"max-height:1000px;max-width:1500px;overflow:auto;\">\n",
        "<table border=\"1\" class=\"dataframe\">\n",
        "  <thead>\n",
        "    <tr style=\"text-align: right;\">\n",
        "      <th>Weekday</th>\n",
        "      <th>0</th>\n",
        "      <th>1</th>\n",
        "      <th>2</th>\n",
        "      <th>3</th>\n",
        "      <th>4</th>\n",
        "      <th>5</th>\n",
        "      <th>6</th>\n",
        "    </tr>\n",
        "    <tr>\n",
        "      <th>LocationDescription</th>\n",
        "      <th></th>\n",
        "      <th></th>\n",
        "      <th></th>\n",
        "      <th></th>\n",
        "      <th></th>\n",
        "      <th></th>\n",
        "      <th></th>\n",
        "    </tr>\n",
        "  </thead>\n",
        "  <tbody>\n",
        "    <tr>\n",
        "      <th>ALLEY</th>\n",
        "      <td>   320</td>\n",
        "      <td>   323</td>\n",
        "      <td>   317</td>\n",
        "      <td>   315</td>\n",
        "      <td>   385</td>\n",
        "      <td>   341</td>\n",
        "      <td>   307</td>\n",
        "    </tr>\n",
        "    <tr>\n",
        "      <th>DRIVEWAY - RESIDENTIAL</th>\n",
        "      <td>   255</td>\n",
        "      <td>   243</td>\n",
        "      <td>   234</td>\n",
        "      <td>   263</td>\n",
        "      <td>   257</td>\n",
        "      <td>   202</td>\n",
        "      <td>   221</td>\n",
        "    </tr>\n",
        "    <tr>\n",
        "      <th>GAS STATION</th>\n",
        "      <td>   280</td>\n",
        "      <td>   270</td>\n",
        "      <td>   273</td>\n",
        "      <td>   282</td>\n",
        "      <td>   332</td>\n",
        "      <td>   338</td>\n",
        "      <td>   336</td>\n",
        "    </tr>\n",
        "    <tr>\n",
        "      <th>PARKING LOT/GARAGE(NON.RESID.)</th>\n",
        "      <td>  2128</td>\n",
        "      <td>  2073</td>\n",
        "      <td>  2103</td>\n",
        "      <td>  2082</td>\n",
        "      <td>  2331</td>\n",
        "      <td>  2199</td>\n",
        "      <td>  1936</td>\n",
        "    </tr>\n",
        "    <tr>\n",
        "      <th>STREET</th>\n",
        "      <td> 22305</td>\n",
        "      <td> 21888</td>\n",
        "      <td> 22371</td>\n",
        "      <td> 22296</td>\n",
        "      <td> 23773</td>\n",
        "      <td> 22175</td>\n",
        "      <td> 21756</td>\n",
        "    </tr>\n",
        "  </tbody>\n",
        "</table>\n",
        "<p>5 rows \u00d7 7 columns</p>\n",
        "</div>"
       ],
       "metadata": {},
       "output_type": "pyout",
       "prompt_number": 12,
       "text": [
        "Weekday                             0      1      2      3      4      5  \\\n",
        "LocationDescription                                                        \n",
        "ALLEY                             320    323    317    315    385    341   \n",
        "DRIVEWAY - RESIDENTIAL            255    243    234    263    257    202   \n",
        "GAS STATION                       280    270    273    282    332    338   \n",
        "PARKING LOT/GARAGE(NON.RESID.)   2128   2073   2103   2082   2331   2199   \n",
        "STREET                          22305  21888  22371  22296  23773  22175   \n",
        "\n",
        "Weekday                             6  \n",
        "LocationDescription                    \n",
        "ALLEY                             307  \n",
        "DRIVEWAY - RESIDENTIAL            221  \n",
        "GAS STATION                       336  \n",
        "PARKING LOT/GARAGE(NON.RESID.)   1936  \n",
        "STREET                          21756  \n",
        "\n",
        "[5 rows x 7 columns]"
       ]
      }
     ],
     "prompt_number": 12
    },
    {
     "cell_type": "markdown",
     "metadata": {},
     "source": [
      "##STOCK DYNAMICS"
     ]
    },
    {
     "cell_type": "code",
     "collapsed": false,
     "input": [
      "IBM = pd.read_csv('https://courses.edx.org/c4x/MITx/15.071x/asset/IBMStock.csv')"
     ],
     "language": "python",
     "metadata": {},
     "outputs": [],
     "prompt_number": 3
    },
    {
     "cell_type": "code",
     "collapsed": false,
     "input": [
      "GE = pd.read_csv('https://courses.edx.org/c4x/MITx/15.071x/asset/GEStock.csv')"
     ],
     "language": "python",
     "metadata": {},
     "outputs": [],
     "prompt_number": 4
    },
    {
     "cell_type": "code",
     "collapsed": false,
     "input": [
      "ProcterGamble = pd.read_csv('https://courses.edx.org/c4x/MITx/15.071x/asset/ProcterGambleStock.csv')"
     ],
     "language": "python",
     "metadata": {},
     "outputs": [],
     "prompt_number": 5
    },
    {
     "cell_type": "code",
     "collapsed": false,
     "input": [
      "CocaCola = pd.read_csv('https://courses.edx.org/c4x/MITx/15.071x/asset/CocaColaStock.csv')"
     ],
     "language": "python",
     "metadata": {},
     "outputs": [],
     "prompt_number": 6
    },
    {
     "cell_type": "code",
     "collapsed": false,
     "input": [
      "Boeing = pd.read_csv('https://courses.edx.org/c4x/MITx/15.071x/asset/BoeingStock.csv')"
     ],
     "language": "python",
     "metadata": {},
     "outputs": [],
     "prompt_number": 7
    },
    {
     "cell_type": "code",
     "collapsed": false,
     "input": [
      "IBM['Date'] = pd.to_datetime(IBM['Date'])"
     ],
     "language": "python",
     "metadata": {},
     "outputs": [],
     "prompt_number": 25
    },
    {
     "cell_type": "code",
     "collapsed": false,
     "input": [
      "GE['Date'] = pd.to_datetime(GE['Date'])"
     ],
     "language": "python",
     "metadata": {},
     "outputs": [],
     "prompt_number": 28
    },
    {
     "cell_type": "code",
     "collapsed": false,
     "input": [
      "ProcterGamble['Date'] = pd.to_datetime(ProcterGamble['Date'])"
     ],
     "language": "python",
     "metadata": {},
     "outputs": [],
     "prompt_number": 29
    },
    {
     "cell_type": "code",
     "collapsed": false,
     "input": [
      "CocaCola['Date'] = pd.to_datetime(CocaCola['Date'])"
     ],
     "language": "python",
     "metadata": {},
     "outputs": [],
     "prompt_number": 30
    },
    {
     "cell_type": "code",
     "collapsed": false,
     "input": [
      "Boeing['Date'] = pd.to_datetime(Boeing['Date'])"
     ],
     "language": "python",
     "metadata": {},
     "outputs": [],
     "prompt_number": 31
    },
    {
     "cell_type": "code",
     "collapsed": false,
     "input": [
      "IBM.shape"
     ],
     "language": "python",
     "metadata": {},
     "outputs": [
      {
       "metadata": {},
       "output_type": "pyout",
       "prompt_number": 32,
       "text": [
        "(480, 2)"
       ]
      }
     ],
     "prompt_number": 32
    },
    {
     "cell_type": "code",
     "collapsed": false,
     "input": [
      "IBM['Date'][0]"
     ],
     "language": "python",
     "metadata": {},
     "outputs": [
      {
       "metadata": {},
       "output_type": "pyout",
       "prompt_number": 33,
       "text": [
        "Timestamp('1970-01-01 00:00:00', tz=None)"
       ]
      }
     ],
     "prompt_number": 33
    },
    {
     "cell_type": "code",
     "collapsed": false,
     "input": [
      "IBM['Date'][479]"
     ],
     "language": "python",
     "metadata": {},
     "outputs": [
      {
       "metadata": {},
       "output_type": "pyout",
       "prompt_number": 34,
       "text": [
        "Timestamp('2009-12-01 00:00:00', tz=None)"
       ]
      }
     ],
     "prompt_number": 34
    },
    {
     "cell_type": "code",
     "collapsed": false,
     "input": [
      "IBM.dtypes"
     ],
     "language": "python",
     "metadata": {},
     "outputs": [
      {
       "metadata": {},
       "output_type": "pyout",
       "prompt_number": 35,
       "text": [
        "Date          datetime64[ns]\n",
        "StockPrice           float64\n",
        "dtype: object"
       ]
      }
     ],
     "prompt_number": 35
    },
    {
     "cell_type": "code",
     "collapsed": false,
     "input": [
      "IBM['StockPrice'].mean()"
     ],
     "language": "python",
     "metadata": {},
     "outputs": [
      {
       "metadata": {},
       "output_type": "pyout",
       "prompt_number": 36,
       "text": [
        "144.37503030766641"
       ]
      }
     ],
     "prompt_number": 36
    },
    {
     "cell_type": "code",
     "collapsed": false,
     "input": [
      "GE['StockPrice'].min()"
     ],
     "language": "python",
     "metadata": {},
     "outputs": [
      {
       "metadata": {},
       "output_type": "pyout",
       "prompt_number": 37,
       "text": [
        "9.2936363639999993"
       ]
      }
     ],
     "prompt_number": 37
    },
    {
     "cell_type": "code",
     "collapsed": false,
     "input": [
      "CocaCola['StockPrice'].max()"
     ],
     "language": "python",
     "metadata": {},
     "outputs": [
      {
       "metadata": {},
       "output_type": "pyout",
       "prompt_number": 38,
       "text": [
        "146.58428569999998"
       ]
      }
     ],
     "prompt_number": 38
    },
    {
     "cell_type": "code",
     "collapsed": false,
     "input": [
      "Boeing['StockPrice'].median()"
     ],
     "language": "python",
     "metadata": {},
     "outputs": [
      {
       "metadata": {},
       "output_type": "pyout",
       "prompt_number": 40,
       "text": [
        "44.883398270000001"
       ]
      }
     ],
     "prompt_number": 40
    },
    {
     "cell_type": "code",
     "collapsed": false,
     "input": [
      "ProcterGamble['StockPrice'].std()"
     ],
     "language": "python",
     "metadata": {},
     "outputs": [
      {
       "metadata": {},
       "output_type": "pyout",
       "prompt_number": 41,
       "text": [
        "18.194140307971558"
       ]
      }
     ],
     "prompt_number": 41
    },
    {
     "cell_type": "code",
     "collapsed": false,
     "input": [
      "CocaCola.plot(x=['Date'])"
     ],
     "language": "python",
     "metadata": {},
     "outputs": [
      {
       "metadata": {},
       "output_type": "pyout",
       "prompt_number": 43,
       "text": [
        "<matplotlib.axes.AxesSubplot at 0x10b24fa90>"
       ]
      },
      {
       "metadata": {},
       "output_type": "display_data",
       "png": "[encoded data removed]",
       "text": [
        "<matplotlib.figure.Figure at 0x10ad28b50>"
       ]
      }
     ],
     "prompt_number": 43
    },
    {
     "cell_type": "code",
     "collapsed": false,
     "input": [
      "stocks = pd.DataFrame()\n",
      "stocks['Date'] = pd.to_datetime(IBM['Date'])\n",
      "stocks['IBM'] = IBM['StockPrice']\n",
      "stocks['GE'] = GE['StockPrice']\n",
      "stocks['ProcterGamble'] = ProcterGamble['StockPrice']\n",
      "stocks['CocaCola'] = CocaCola['StockPrice']\n",
      "stocks['Boeing'] = Boeing['StockPrice']\n",
      "stocks.set_index('Date', inplace= True)"
     ],
     "language": "python",
     "metadata": {},
     "outputs": [],
     "prompt_number": 64
    },
    {
     "cell_type": "code",
     "collapsed": false,
     "input": [
      "stocks.ix[stocks.index > pd.to_datetime('2000/01/01')][['CocaCola', 'ProcterGamble']].plot(figsize=(20, 8), x_compat=True, grid=False, rot=True)"
     ],
     "language": "python",
     "metadata": {},
     "outputs": [
      {
       "metadata": {},
       "output_type": "pyout",
       "prompt_number": 98,
       "text": [
        "<matplotlib.axes.AxesSubplot at 0x112d55c50>"
       ]
      },
      {
       "metadata": {},
       "output_type": "display_data",
       "png": "[encoded data removed]",
       "text": [
        "<matplotlib.figure.Figure at 0x10e27c850>"
       ]
      }
     ],
     "prompt_number": 98
    },
    {
     "cell_type": "code",
     "collapsed": false,
     "input": [
      "stocks.ix[(stocks.index > pd.to_datetime('1997/09/01')) & (stocks.index < pd.to_datetime('1997/11/02'))].plot(figsize=(20, 8), x_compat=True, grid=False, rot=True)"
     ],
     "language": "python",
     "metadata": {},
     "outputs": [
      {
       "metadata": {},
       "output_type": "pyout",
       "prompt_number": 102,
       "text": [
        "<matplotlib.axes.AxesSubplot at 0x113f6b110>"
       ]
      },
      {
       "metadata": {},
       "output_type": "display_data",
       "png": "[encoded data removed]",
       "text": [
        "<matplotlib.figure.Figure at 0x112d224d0>"
       ]
      }
     ],
     "prompt_number": 102
    },
    {
     "cell_type": "code",
     "collapsed": false,
     "input": [
      "stocks.ix[(stocks.index > pd.to_datetime('2004/01/01')) & (stocks.index < pd.to_datetime('2006/01/01'))].plot(figsize=(20, 8), x_compat=True, grid=False, rot=True)"
     ],
     "language": "python",
     "metadata": {},
     "outputs": [
      {
       "metadata": {},
       "output_type": "pyout",
       "prompt_number": 104,
       "text": [
        "<matplotlib.axes.AxesSubplot at 0x113fed8d0>"
       ]
      },
      {
       "metadata": {},
       "output_type": "display_data",
       "png": "[encoded data removed]",
       "text": [
        "<matplotlib.figure.Figure at 0x113f766d0>"
       ]
      }
     ],
     "prompt_number": 104
    },
    {
     "cell_type": "code",
     "collapsed": false,
     "input": [
      "stocks['month'] = stocks.index.map(lambda x: x.month)\n",
      "months = stocks.groupby('month')\n",
      "months['IBM'].mean()>stocks['IBM'].mean()"
     ],
     "language": "python",
     "metadata": {},
     "outputs": [
      {
       "metadata": {},
       "output_type": "pyout",
       "prompt_number": 109,
       "text": [
        "month\n",
        "1         True\n",
        "2         True\n",
        "3         True\n",
        "4         True\n",
        "5         True\n",
        "6        False\n",
        "7        False\n",
        "8        False\n",
        "9        False\n",
        "10       False\n",
        "11       False\n",
        "12       False\n",
        "Name: IBM, dtype: bool"
       ]
      }
     ],
     "prompt_number": 109
    },
    {
     "cell_type": "code",
     "collapsed": false,
     "input": [
      "months[['CocaCola', 'GE']].mean()"
     ],
     "language": "python",
     "metadata": {},
     "outputs": [
      {
       "html": [
        "<div style=\"max-height:1000px;max-width:1500px;overflow:auto;\">\n",
        "<table border=\"1\" class=\"dataframe\">\n",
        "  <thead>\n",
        "    <tr style=\"text-align: right;\">\n",
        "      <th></th>\n",
        "      <th>CocaCola</th>\n",
        "      <th>GE</th>\n",
        "    </tr>\n",
        "    <tr>\n",
        "      <th>month</th>\n",
        "      <th></th>\n",
        "      <th></th>\n",
        "    </tr>\n",
        "  </thead>\n",
        "  <tbody>\n",
        "    <tr>\n",
        "      <th>1 </th>\n",
        "      <td> 60.368487</td>\n",
        "      <td> 62.045106</td>\n",
        "    </tr>\n",
        "    <tr>\n",
        "      <th>2 </th>\n",
        "      <td> 60.734754</td>\n",
        "      <td> 62.520805</td>\n",
        "    </tr>\n",
        "    <tr>\n",
        "      <th>3 </th>\n",
        "      <td> 62.071354</td>\n",
        "      <td> 63.150548</td>\n",
        "    </tr>\n",
        "    <tr>\n",
        "      <th>4 </th>\n",
        "      <td> 62.688882</td>\n",
        "      <td> 64.480092</td>\n",
        "    </tr>\n",
        "    <tr>\n",
        "      <th>5 </th>\n",
        "      <td> 61.443581</td>\n",
        "      <td> 60.871351</td>\n",
        "    </tr>\n",
        "    <tr>\n",
        "      <th>6 </th>\n",
        "      <td> 60.812084</td>\n",
        "      <td> 56.468439</td>\n",
        "    </tr>\n",
        "    <tr>\n",
        "      <th>7 </th>\n",
        "      <td> 58.983460</td>\n",
        "      <td> 56.733493</td>\n",
        "    </tr>\n",
        "    <tr>\n",
        "      <th>8 </th>\n",
        "      <td> 58.880139</td>\n",
        "      <td> 56.503149</td>\n",
        "    </tr>\n",
        "    <tr>\n",
        "      <th>9 </th>\n",
        "      <td> 57.600238</td>\n",
        "      <td> 56.239131</td>\n",
        "    </tr>\n",
        "    <tr>\n",
        "      <th>10</th>\n",
        "      <td> 57.938868</td>\n",
        "      <td> 56.238968</td>\n",
        "    </tr>\n",
        "    <tr>\n",
        "      <th>11</th>\n",
        "      <td> 59.102683</td>\n",
        "      <td> 57.288795</td>\n",
        "    </tr>\n",
        "    <tr>\n",
        "      <th>12</th>\n",
        "      <td> 59.732227</td>\n",
        "      <td> 59.102174</td>\n",
        "    </tr>\n",
        "  </tbody>\n",
        "</table>\n",
        "<p>12 rows \u00d7 2 columns</p>\n",
        "</div>"
       ],
       "metadata": {},
       "output_type": "pyout",
       "prompt_number": 111,
       "text": [
        "        CocaCola         GE\n",
        "month                      \n",
        "1      60.368487  62.045106\n",
        "2      60.734754  62.520805\n",
        "3      62.071354  63.150548\n",
        "4      62.688882  64.480092\n",
        "5      61.443581  60.871351\n",
        "6      60.812084  56.468439\n",
        "7      58.983460  56.733493\n",
        "8      58.880139  56.503149\n",
        "9      57.600238  56.239131\n",
        "10     57.938868  56.238968\n",
        "11     59.102683  57.288795\n",
        "12     59.732227  59.102174\n",
        "\n",
        "[12 rows x 2 columns]"
       ]
      }
     ],
     "prompt_number": 111
    },
    {
     "cell_type": "code",
     "collapsed": false,
     "input": [
      "months.mean()"
     ],
     "language": "python",
     "metadata": {},
     "outputs": [
      {
       "html": [
        "<div style=\"max-height:1000px;max-width:1500px;overflow:auto;\">\n",
        "<table border=\"1\" class=\"dataframe\">\n",
        "  <thead>\n",
        "    <tr style=\"text-align: right;\">\n",
        "      <th></th>\n",
        "      <th>IBM</th>\n",
        "      <th>GE</th>\n",
        "      <th>ProcterGamble</th>\n",
        "      <th>CocaCola</th>\n",
        "      <th>Boeing</th>\n",
        "    </tr>\n",
        "    <tr>\n",
        "      <th>month</th>\n",
        "      <th></th>\n",
        "      <th></th>\n",
        "      <th></th>\n",
        "      <th></th>\n",
        "      <th></th>\n",
        "    </tr>\n",
        "  </thead>\n",
        "  <tbody>\n",
        "    <tr>\n",
        "      <th>1 </th>\n",
        "      <td> 150.238423</td>\n",
        "      <td> 62.045106</td>\n",
        "      <td> 79.617984</td>\n",
        "      <td> 60.368487</td>\n",
        "      <td> 46.510974</td>\n",
        "    </tr>\n",
        "    <tr>\n",
        "      <th>2 </th>\n",
        "      <td> 152.693993</td>\n",
        "      <td> 62.520805</td>\n",
        "      <td> 79.025755</td>\n",
        "      <td> 60.734754</td>\n",
        "      <td> 46.892233</td>\n",
        "    </tr>\n",
        "    <tr>\n",
        "      <th>3 </th>\n",
        "      <td> 152.432690</td>\n",
        "      <td> 63.150548</td>\n",
        "      <td> 77.347607</td>\n",
        "      <td> 62.071354</td>\n",
        "      <td> 46.882076</td>\n",
        "    </tr>\n",
        "    <tr>\n",
        "      <th>4 </th>\n",
        "      <td> 152.116824</td>\n",
        "      <td> 64.480092</td>\n",
        "      <td> 77.686708</td>\n",
        "      <td> 62.688882</td>\n",
        "      <td> 47.046860</td>\n",
        "    </tr>\n",
        "    <tr>\n",
        "      <th>5 </th>\n",
        "      <td> 151.502194</td>\n",
        "      <td> 60.871351</td>\n",
        "      <td> 77.859578</td>\n",
        "      <td> 61.443581</td>\n",
        "      <td> 48.137160</td>\n",
        "    </tr>\n",
        "    <tr>\n",
        "      <th>6 </th>\n",
        "      <td> 139.090676</td>\n",
        "      <td> 56.468439</td>\n",
        "      <td> 77.392751</td>\n",
        "      <td> 60.812084</td>\n",
        "      <td> 47.385255</td>\n",
        "    </tr>\n",
        "    <tr>\n",
        "      <th>7 </th>\n",
        "      <td> 139.067018</td>\n",
        "      <td> 56.733493</td>\n",
        "      <td> 76.645559</td>\n",
        "      <td> 58.983460</td>\n",
        "      <td> 46.553602</td>\n",
        "    </tr>\n",
        "    <tr>\n",
        "      <th>8 </th>\n",
        "      <td> 140.145475</td>\n",
        "      <td> 56.503149</td>\n",
        "      <td> 76.822663</td>\n",
        "      <td> 58.880139</td>\n",
        "      <td> 46.863107</td>\n",
        "    </tr>\n",
        "    <tr>\n",
        "      <th>9 </th>\n",
        "      <td> 139.088527</td>\n",
        "      <td> 56.239131</td>\n",
        "      <td> 76.623845</td>\n",
        "      <td> 57.600238</td>\n",
        "      <td> 46.304854</td>\n",
        "    </tr>\n",
        "    <tr>\n",
        "      <th>10</th>\n",
        "      <td> 137.346553</td>\n",
        "      <td> 56.238968</td>\n",
        "      <td> 76.679035</td>\n",
        "      <td> 57.938868</td>\n",
        "      <td> 45.216035</td>\n",
        "    </tr>\n",
        "    <tr>\n",
        "      <th>11</th>\n",
        "      <td> 138.018682</td>\n",
        "      <td> 57.288795</td>\n",
        "      <td> 78.456104</td>\n",
        "      <td> 59.102683</td>\n",
        "      <td> 45.149903</td>\n",
        "    </tr>\n",
        "    <tr>\n",
        "      <th>12</th>\n",
        "      <td> 140.759310</td>\n",
        "      <td> 59.102174</td>\n",
        "      <td> 78.296608</td>\n",
        "      <td> 59.732227</td>\n",
        "      <td> 46.173146</td>\n",
        "    </tr>\n",
        "  </tbody>\n",
        "</table>\n",
        "<p>12 rows \u00d7 5 columns</p>\n",
        "</div>"
       ],
       "metadata": {},
       "output_type": "pyout",
       "prompt_number": 112,
       "text": [
        "              IBM         GE  ProcterGamble   CocaCola     Boeing\n",
        "month                                                            \n",
        "1      150.238423  62.045106      79.617984  60.368487  46.510974\n",
        "2      152.693993  62.520805      79.025755  60.734754  46.892233\n",
        "3      152.432690  63.150548      77.347607  62.071354  46.882076\n",
        "4      152.116824  64.480092      77.686708  62.688882  47.046860\n",
        "5      151.502194  60.871351      77.859578  61.443581  48.137160\n",
        "6      139.090676  56.468439      77.392751  60.812084  47.385255\n",
        "7      139.067018  56.733493      76.645559  58.983460  46.553602\n",
        "8      140.145475  56.503149      76.822663  58.880139  46.863107\n",
        "9      139.088527  56.239131      76.623845  57.600238  46.304854\n",
        "10     137.346553  56.238968      76.679035  57.938868  45.216035\n",
        "11     138.018682  57.288795      78.456104  59.102683  45.149903\n",
        "12     140.759310  59.102174      78.296608  59.732227  46.173146\n",
        "\n",
        "[12 rows x 5 columns]"
       ]
      }
     ],
     "prompt_number": 112
    },
    {
     "cell_type": "markdown",
     "metadata": {},
     "source": [
      "## INTERNET PRIVACY POLL"
     ]
    },
    {
     "cell_type": "code",
     "collapsed": false,
     "input": [
      "poll = pd.read_csv('https://courses.edx.org/c4x/MITx/15.071x/asset/AnonymityPoll.csv')"
     ],
     "language": "python",
     "metadata": {},
     "outputs": [],
     "prompt_number": 5
    },
    {
     "cell_type": "code",
     "collapsed": false,
     "input": [
      "poll.shape"
     ],
     "language": "python",
     "metadata": {},
     "outputs": [
      {
       "metadata": {},
       "output_type": "pyout",
       "prompt_number": 7,
       "text": [
        "(1002, 13)"
       ]
      }
     ],
     "prompt_number": 7
    },
    {
     "cell_type": "code",
     "collapsed": false,
     "input": [
      "poll[u'Smartphone'].value_counts()"
     ],
     "language": "python",
     "metadata": {},
     "outputs": [
      {
       "metadata": {},
       "output_type": "pyout",
       "prompt_number": 9,
       "text": [
        "1    487\n",
        "0    472\n",
        "dtype: int64"
       ]
      }
     ],
     "prompt_number": 9
    },
    {
     "cell_type": "code",
     "collapsed": false,
     "input": [
      "poll[u'Smartphone'].isnull().value_counts()"
     ],
     "language": "python",
     "metadata": {},
     "outputs": [
      {
       "metadata": {},
       "output_type": "pyout",
       "prompt_number": 13,
       "text": [
        "False    959\n",
        "True      43\n",
        "dtype: int64"
       ]
      }
     ],
     "prompt_number": 13
    },
    {
     "cell_type": "code",
     "collapsed": false,
     "input": [
      "regions = pd.crosstab(poll['State'], poll['Region'])"
     ],
     "language": "python",
     "metadata": {},
     "outputs": [],
     "prompt_number": 17
    },
    {
     "cell_type": "code",
     "collapsed": false,
     "input": [
      "regions.ix[regions['Midwest']>0]"
     ],
     "language": "python",
     "metadata": {},
     "outputs": [
      {
       "html": [
        "<div style=\"max-height:1000px;max-width:1500px;overflow:auto;\">\n",
        "<table border=\"1\" class=\"dataframe\">\n",
        "  <thead>\n",
        "    <tr style=\"text-align: right;\">\n",
        "      <th>Region</th>\n",
        "      <th>Midwest</th>\n",
        "      <th>Northeast</th>\n",
        "      <th>South</th>\n",
        "      <th>West</th>\n",
        "    </tr>\n",
        "    <tr>\n",
        "      <th>State</th>\n",
        "      <th></th>\n",
        "      <th></th>\n",
        "      <th></th>\n",
        "      <th></th>\n",
        "    </tr>\n",
        "  </thead>\n",
        "  <tbody>\n",
        "    <tr>\n",
        "      <th>Illinois</th>\n",
        "      <td> 32</td>\n",
        "      <td> 0</td>\n",
        "      <td> 0</td>\n",
        "      <td> 0</td>\n",
        "    </tr>\n",
        "    <tr>\n",
        "      <th>Indiana</th>\n",
        "      <td> 27</td>\n",
        "      <td> 0</td>\n",
        "      <td> 0</td>\n",
        "      <td> 0</td>\n",
        "    </tr>\n",
        "    <tr>\n",
        "      <th>Iowa</th>\n",
        "      <td> 14</td>\n",
        "      <td> 0</td>\n",
        "      <td> 0</td>\n",
        "      <td> 0</td>\n",
        "    </tr>\n",
        "    <tr>\n",
        "      <th>Kansas</th>\n",
        "      <td> 14</td>\n",
        "      <td> 0</td>\n",
        "      <td> 0</td>\n",
        "      <td> 0</td>\n",
        "    </tr>\n",
        "    <tr>\n",
        "      <th>Michigan</th>\n",
        "      <td> 31</td>\n",
        "      <td> 0</td>\n",
        "      <td> 0</td>\n",
        "      <td> 0</td>\n",
        "    </tr>\n",
        "    <tr>\n",
        "      <th>Minnesota</th>\n",
        "      <td> 15</td>\n",
        "      <td> 0</td>\n",
        "      <td> 0</td>\n",
        "      <td> 0</td>\n",
        "    </tr>\n",
        "    <tr>\n",
        "      <th>Missouri</th>\n",
        "      <td> 26</td>\n",
        "      <td> 0</td>\n",
        "      <td> 0</td>\n",
        "      <td> 0</td>\n",
        "    </tr>\n",
        "    <tr>\n",
        "      <th>Nebraska</th>\n",
        "      <td> 11</td>\n",
        "      <td> 0</td>\n",
        "      <td> 0</td>\n",
        "      <td> 0</td>\n",
        "    </tr>\n",
        "    <tr>\n",
        "      <th>North Dakota</th>\n",
        "      <td>  5</td>\n",
        "      <td> 0</td>\n",
        "      <td> 0</td>\n",
        "      <td> 0</td>\n",
        "    </tr>\n",
        "    <tr>\n",
        "      <th>Ohio</th>\n",
        "      <td> 38</td>\n",
        "      <td> 0</td>\n",
        "      <td> 0</td>\n",
        "      <td> 0</td>\n",
        "    </tr>\n",
        "    <tr>\n",
        "      <th>South Dakota</th>\n",
        "      <td>  3</td>\n",
        "      <td> 0</td>\n",
        "      <td> 0</td>\n",
        "      <td> 0</td>\n",
        "    </tr>\n",
        "    <tr>\n",
        "      <th>Wisconsin</th>\n",
        "      <td> 23</td>\n",
        "      <td> 0</td>\n",
        "      <td> 0</td>\n",
        "      <td> 0</td>\n",
        "    </tr>\n",
        "  </tbody>\n",
        "</table>\n",
        "<p>12 rows \u00d7 4 columns</p>\n",
        "</div>"
       ],
       "metadata": {},
       "output_type": "pyout",
       "prompt_number": 18,
       "text": [
        "Region        Midwest  Northeast  South  West\n",
        "State                                        \n",
        "Illinois           32          0      0     0\n",
        "Indiana            27          0      0     0\n",
        "Iowa               14          0      0     0\n",
        "Kansas             14          0      0     0\n",
        "Michigan           31          0      0     0\n",
        "Minnesota          15          0      0     0\n",
        "Missouri           26          0      0     0\n",
        "Nebraska           11          0      0     0\n",
        "North Dakota        5          0      0     0\n",
        "Ohio               38          0      0     0\n",
        "South Dakota        3          0      0     0\n",
        "Wisconsin          23          0      0     0\n",
        "\n",
        "[12 rows x 4 columns]"
       ]
      }
     ],
     "prompt_number": 18
    },
    {
     "cell_type": "code",
     "collapsed": false,
     "input": [
      "regions.ix[regions['South']>0]"
     ],
     "language": "python",
     "metadata": {},
     "outputs": [
      {
       "html": [
        "<div style=\"max-height:1000px;max-width:1500px;overflow:auto;\">\n",
        "<table border=\"1\" class=\"dataframe\">\n",
        "  <thead>\n",
        "    <tr style=\"text-align: right;\">\n",
        "      <th>Region</th>\n",
        "      <th>Midwest</th>\n",
        "      <th>Northeast</th>\n",
        "      <th>South</th>\n",
        "      <th>West</th>\n",
        "    </tr>\n",
        "    <tr>\n",
        "      <th>State</th>\n",
        "      <th></th>\n",
        "      <th></th>\n",
        "      <th></th>\n",
        "      <th></th>\n",
        "    </tr>\n",
        "  </thead>\n",
        "  <tbody>\n",
        "    <tr>\n",
        "      <th>Alabama</th>\n",
        "      <td> 0</td>\n",
        "      <td> 0</td>\n",
        "      <td> 11</td>\n",
        "      <td> 0</td>\n",
        "    </tr>\n",
        "    <tr>\n",
        "      <th>Arkansas</th>\n",
        "      <td> 0</td>\n",
        "      <td> 0</td>\n",
        "      <td> 10</td>\n",
        "      <td> 0</td>\n",
        "    </tr>\n",
        "    <tr>\n",
        "      <th>Delaware</th>\n",
        "      <td> 0</td>\n",
        "      <td> 0</td>\n",
        "      <td>  6</td>\n",
        "      <td> 0</td>\n",
        "    </tr>\n",
        "    <tr>\n",
        "      <th>District of Columbia</th>\n",
        "      <td> 0</td>\n",
        "      <td> 0</td>\n",
        "      <td>  2</td>\n",
        "      <td> 0</td>\n",
        "    </tr>\n",
        "    <tr>\n",
        "      <th>Florida</th>\n",
        "      <td> 0</td>\n",
        "      <td> 0</td>\n",
        "      <td> 42</td>\n",
        "      <td> 0</td>\n",
        "    </tr>\n",
        "    <tr>\n",
        "      <th>Georgia</th>\n",
        "      <td> 0</td>\n",
        "      <td> 0</td>\n",
        "      <td> 34</td>\n",
        "      <td> 0</td>\n",
        "    </tr>\n",
        "    <tr>\n",
        "      <th>Kentucky</th>\n",
        "      <td> 0</td>\n",
        "      <td> 0</td>\n",
        "      <td> 25</td>\n",
        "      <td> 0</td>\n",
        "    </tr>\n",
        "    <tr>\n",
        "      <th>Louisiana</th>\n",
        "      <td> 0</td>\n",
        "      <td> 0</td>\n",
        "      <td> 17</td>\n",
        "      <td> 0</td>\n",
        "    </tr>\n",
        "    <tr>\n",
        "      <th>Maryland</th>\n",
        "      <td> 0</td>\n",
        "      <td> 0</td>\n",
        "      <td> 18</td>\n",
        "      <td> 0</td>\n",
        "    </tr>\n",
        "    <tr>\n",
        "      <th>Mississippi</th>\n",
        "      <td> 0</td>\n",
        "      <td> 0</td>\n",
        "      <td> 11</td>\n",
        "      <td> 0</td>\n",
        "    </tr>\n",
        "    <tr>\n",
        "      <th>North Carolina</th>\n",
        "      <td> 0</td>\n",
        "      <td> 0</td>\n",
        "      <td> 32</td>\n",
        "      <td> 0</td>\n",
        "    </tr>\n",
        "    <tr>\n",
        "      <th>Oklahoma</th>\n",
        "      <td> 0</td>\n",
        "      <td> 0</td>\n",
        "      <td> 14</td>\n",
        "      <td> 0</td>\n",
        "    </tr>\n",
        "    <tr>\n",
        "      <th>South Carolina</th>\n",
        "      <td> 0</td>\n",
        "      <td> 0</td>\n",
        "      <td> 12</td>\n",
        "      <td> 0</td>\n",
        "    </tr>\n",
        "    <tr>\n",
        "      <th>Tennessee</th>\n",
        "      <td> 0</td>\n",
        "      <td> 0</td>\n",
        "      <td> 17</td>\n",
        "      <td> 0</td>\n",
        "    </tr>\n",
        "    <tr>\n",
        "      <th>Texas</th>\n",
        "      <td> 0</td>\n",
        "      <td> 0</td>\n",
        "      <td> 72</td>\n",
        "      <td> 0</td>\n",
        "    </tr>\n",
        "    <tr>\n",
        "      <th>Virginia</th>\n",
        "      <td> 0</td>\n",
        "      <td> 0</td>\n",
        "      <td> 31</td>\n",
        "      <td> 0</td>\n",
        "    </tr>\n",
        "    <tr>\n",
        "      <th>West Virginia</th>\n",
        "      <td> 0</td>\n",
        "      <td> 0</td>\n",
        "      <td>  5</td>\n",
        "      <td> 0</td>\n",
        "    </tr>\n",
        "  </tbody>\n",
        "</table>\n",
        "<p>17 rows \u00d7 4 columns</p>\n",
        "</div>"
       ],
       "metadata": {},
       "output_type": "pyout",
       "prompt_number": 19,
       "text": [
        "Region                Midwest  Northeast  South  West\n",
        "State                                                \n",
        "Alabama                     0          0     11     0\n",
        "Arkansas                    0          0     10     0\n",
        "Delaware                    0          0      6     0\n",
        "District of Columbia        0          0      2     0\n",
        "Florida                     0          0     42     0\n",
        "Georgia                     0          0     34     0\n",
        "Kentucky                    0          0     25     0\n",
        "Louisiana                   0          0     17     0\n",
        "Maryland                    0          0     18     0\n",
        "Mississippi                 0          0     11     0\n",
        "North Carolina              0          0     32     0\n",
        "Oklahoma                    0          0     14     0\n",
        "South Carolina              0          0     12     0\n",
        "Tennessee                   0          0     17     0\n",
        "Texas                       0          0     72     0\n",
        "Virginia                    0          0     31     0\n",
        "West Virginia               0          0      5     0\n",
        "\n",
        "[17 rows x 4 columns]"
       ]
      }
     ],
     "prompt_number": 19
    },
    {
     "cell_type": "code",
     "collapsed": false,
     "input": [
      "pd.crosstab(poll['Smartphone'], poll['Internet.Use'])"
     ],
     "language": "python",
     "metadata": {},
     "outputs": [
      {
       "html": [
        "<div style=\"max-height:1000px;max-width:1500px;overflow:auto;\">\n",
        "<table border=\"1\" class=\"dataframe\">\n",
        "  <thead>\n",
        "    <tr style=\"text-align: right;\">\n",
        "      <th>Internet.Use</th>\n",
        "      <th>0.0</th>\n",
        "      <th>1.0</th>\n",
        "    </tr>\n",
        "    <tr>\n",
        "      <th>Smartphone</th>\n",
        "      <th></th>\n",
        "      <th></th>\n",
        "    </tr>\n",
        "  </thead>\n",
        "  <tbody>\n",
        "    <tr>\n",
        "      <th>0</th>\n",
        "      <td> 186</td>\n",
        "      <td> 285</td>\n",
        "    </tr>\n",
        "    <tr>\n",
        "      <th>1</th>\n",
        "      <td>  17</td>\n",
        "      <td> 470</td>\n",
        "    </tr>\n",
        "  </tbody>\n",
        "</table>\n",
        "<p>2 rows \u00d7 2 columns</p>\n",
        "</div>"
       ],
       "metadata": {},
       "output_type": "pyout",
       "prompt_number": 24,
       "text": [
        "Internet.Use    0    1\n",
        "Smartphone            \n",
        "0             186  285\n",
        "1              17  470\n",
        "\n",
        "[2 rows x 2 columns]"
       ]
      }
     ],
     "prompt_number": 24
    },
    {
     "cell_type": "code",
     "collapsed": false,
     "input": [
      "poll['Smartphone'].isnull().value_counts()"
     ],
     "language": "python",
     "metadata": {},
     "outputs": [
      {
       "metadata": {},
       "output_type": "pyout",
       "prompt_number": 25,
       "text": [
        "False    959\n",
        "True      43\n",
        "dtype: int64"
       ]
      }
     ],
     "prompt_number": 25
    },
    {
     "cell_type": "code",
     "collapsed": false,
     "input": [
      "poll['Internet.Use'].isnull().value_counts()"
     ],
     "language": "python",
     "metadata": {},
     "outputs": [
      {
       "metadata": {},
       "output_type": "pyout",
       "prompt_number": 26,
       "text": [
        "False    1001\n",
        "True        1\n",
        "dtype: int64"
       ]
      }
     ],
     "prompt_number": 26
    },
    {
     "cell_type": "code",
     "collapsed": false,
     "input": [
      "limited = poll.ix[(poll['Smartphone'] == 1) | (poll['Internet.Use'] == 1)]"
     ],
     "language": "python",
     "metadata": {},
     "outputs": [],
     "prompt_number": 37
    },
    {
     "cell_type": "code",
     "collapsed": false,
     "input": [
      "for c in limited:\n",
      "    print c\n",
      "    print limited[c].isnull().value_counts()"
     ],
     "language": "python",
     "metadata": {},
     "outputs": [
      {
       "output_type": "stream",
       "stream": "stdout",
       "text": [
        "Internet.Use\n",
        "False    792\n",
        "dtype: int64\n",
        "Smartphone\n",
        "False    772\n",
        "True      20\n",
        "dtype: int64\n",
        "Sex\n",
        "False    792\n",
        "dtype: int64\n",
        "Age\n",
        "False    770\n",
        "True      22\n",
        "dtype: int64\n",
        "State\n",
        "False    792\n",
        "dtype: int64\n",
        "Region\n",
        "False    792\n",
        "dtype: int64\n",
        "Conservativeness\n",
        "False    747\n",
        "True      45\n",
        "dtype: int64\n",
        "Info.On.Internet\n",
        "False    792\n",
        "dtype: int64\n",
        "Worry.About.Info\n",
        "False    790\n",
        "True       2\n",
        "dtype: int64\n",
        "Privacy.Importance\n",
        "False    787\n",
        "True       5\n",
        "dtype: int64\n",
        "Anonymity.Possible\n",
        "False    753\n",
        "True      39\n",
        "dtype: int64\n",
        "Tried.Masking.Identity\n",
        "False    784\n",
        "True       8\n",
        "dtype: int64\n",
        "Privacy.Laws.Effective\n",
        "False    727\n",
        "True      65\n",
        "dtype: int64\n"
       ]
      }
     ],
     "prompt_number": 45
    },
    {
     "cell_type": "code",
     "collapsed": false,
     "input": [
      "limited['Info.On.Internet'].mean()"
     ],
     "language": "python",
     "metadata": {},
     "outputs": [
      {
       "metadata": {},
       "output_type": "pyout",
       "prompt_number": 47,
       "text": [
        "3.7954545454545454"
       ]
      }
     ],
     "prompt_number": 47
    },
    {
     "cell_type": "code",
     "collapsed": false,
     "input": [
      "limited['Info.On.Internet'].value_counts(sort=False)"
     ],
     "language": "python",
     "metadata": {},
     "outputs": [
      {
       "metadata": {},
       "output_type": "pyout",
       "prompt_number": 64,
       "text": [
        "0     0.132576\n",
        "1     0.106061\n",
        "2     0.119949\n",
        "3     0.127525\n",
        "4     0.131313\n",
        "5     0.118687\n",
        "6     0.084596\n",
        "7     0.079545\n",
        "8     0.050505\n",
        "9     0.022727\n",
        "10    0.016414\n",
        "11    0.010101\n",
        "dtype: float64"
       ]
      }
     ],
     "prompt_number": 64
    },
    {
     "cell_type": "code",
     "collapsed": false,
     "input": [
      "limited['Worry.About.Info'][limited['Worry.About.Info'].notnull()].value_counts(normalize=True)"
     ],
     "language": "python",
     "metadata": {},
     "outputs": [
      {
       "metadata": {},
       "output_type": "pyout",
       "prompt_number": 72,
       "text": [
        "0    0.511392\n",
        "1    0.488608\n",
        "dtype: float64"
       ]
      }
     ],
     "prompt_number": 72
    },
    {
     "cell_type": "code",
     "collapsed": false,
     "input": [
      "limited['Anonymity.Possible'][limited['Anonymity.Possible'].notnull()].value_counts(normalize=True)"
     ],
     "language": "python",
     "metadata": {},
     "outputs": [
      {
       "metadata": {},
       "output_type": "pyout",
       "prompt_number": 73,
       "text": [
        "0    0.63081\n",
        "1    0.36919\n",
        "dtype: float64"
       ]
      }
     ],
     "prompt_number": 73
    },
    {
     "cell_type": "code",
     "collapsed": false,
     "input": [
      "limited['Tried.Masking.Identity'][limited['Tried.Masking.Identity'].notnull()].value_counts(normalize=True)"
     ],
     "language": "python",
     "metadata": {},
     "outputs": [
      {
       "metadata": {},
       "output_type": "pyout",
       "prompt_number": 74,
       "text": [
        "0    0.836735\n",
        "1    0.163265\n",
        "dtype: float64"
       ]
      }
     ],
     "prompt_number": 74
    },
    {
     "cell_type": "code",
     "collapsed": false,
     "input": [
      "limited['Privacy.Laws.Effective'][limited['Privacy.Laws.Effective'].notnull()].value_counts(normalize=True)"
     ],
     "language": "python",
     "metadata": {},
     "outputs": [
      {
       "metadata": {},
       "output_type": "pyout",
       "prompt_number": 75,
       "text": [
        "0    0.744154\n",
        "1    0.255846\n",
        "dtype: float64"
       ]
      }
     ],
     "prompt_number": 75
    },
    {
     "cell_type": "code",
     "collapsed": false,
     "input": [
      "limited['Age'].hist()"
     ],
     "language": "python",
     "metadata": {},
     "outputs": [
      {
       "metadata": {},
       "output_type": "pyout",
       "prompt_number": 77,
       "text": [
        "<matplotlib.axes.AxesSubplot at 0x1086c2350>"
       ]
      },
      {
       "metadata": {},
       "output_type": "display_data",
       "png": "[encoded data removed]",
       "text": [
        "<matplotlib.figure.Figure at 0x107c9fd50>"
       ]
      }
     ],
     "prompt_number": 77
    },
    {
     "cell_type": "code",
     "collapsed": false,
     "input": [
      "pd.crosstab(limited['Age'], limited['Info.On.Internet']).mean(axis=1).plot()"
     ],
     "language": "python",
     "metadata": {},
     "outputs": [
      {
       "metadata": {},
       "output_type": "pyout",
       "prompt_number": 108,
       "text": [
        "<matplotlib.axes.AxesSubplot at 0x10b6e1d90>"
       ]
      },
      {
       "metadata": {},
       "output_type": "display_data",
       "png": "[encoded data removed]",
       "text": [
        "<matplotlib.figure.Figure at 0x10b6ec390>"
       ]
      }
     ],
     "prompt_number": 108
    },
    {
     "cell_type": "code",
     "collapsed": false,
     "input": [
      "pd.crosstab(limited['Age'], limited['Info.On.Internet']).plot(figsize=(20,8))"
     ],
     "language": "python",
     "metadata": {},
     "outputs": [
      {
       "metadata": {},
       "output_type": "pyout",
       "prompt_number": 93,
       "text": [
        "<matplotlib.axes.AxesSubplot at 0x10ad28bd0>"
       ]
      },
      {
       "metadata": {},
       "output_type": "display_data",
       "png": "[encoded data removed]",
       "text": [
        "<matplotlib.figure.Figure at 0x10ad29450>"
       ]
      }
     ],
     "prompt_number": 93
    },
    {
     "cell_type": "code",
     "collapsed": false,
     "input": [
      "limited.plot(x='Age', y='Info.On.Internet', kind='scatter')"
     ],
     "language": "python",
     "metadata": {},
     "outputs": [
      {
       "metadata": {},
       "output_type": "pyout",
       "prompt_number": 104,
       "text": [
        "<matplotlib.axes.AxesSubplot at 0x10b6401d0>"
       ]
      },
      {
       "metadata": {},
       "output_type": "display_data",
       "png": "[encoded data removed]",
       "text": [
        "<matplotlib.figure.Figure at 0x10a299990>"
       ]
      }
     ],
     "prompt_number": 104
    },
    {
     "cell_type": "code",
     "collapsed": false,
     "input": [
      "sp_groups = limited.groupby('Smartphone')\n",
      "sp_groups['Info.On.Internet'].mean()"
     ],
     "language": "python",
     "metadata": {},
     "outputs": [
      {
       "metadata": {},
       "output_type": "pyout",
       "prompt_number": 114,
       "text": [
        "Smartphone\n",
        "0             2.922807\n",
        "1             4.367556\n",
        "Name: Info.On.Internet, dtype: float64"
       ]
      }
     ],
     "prompt_number": 114
    },
    {
     "cell_type": "code",
     "collapsed": false,
     "input": [
      "pd.crosstab(limited['Smartphone'], limited['Tried.Masking.Identity']).ix[1.0,:] / pd.crosstab(limited['Smartphone'], limited['Tried.Masking.Identity']).ix[1.0,:].sum() "
     ],
     "language": "python",
     "metadata": {},
     "outputs": [
      {
       "metadata": {},
       "output_type": "pyout",
       "prompt_number": 147,
       "text": [
        "Tried.Masking.Identity\n",
        "0                         0.807453\n",
        "1                         0.192547\n",
        "Name: 1.0, dtype: float64"
       ]
      }
     ],
     "prompt_number": 147
    },
    {
     "cell_type": "code",
     "collapsed": false,
     "input": [
      "pd.crosstab(limited['Smartphone'], limited['Tried.Masking.Identity']).ix[0.0,:] / pd.crosstab(limited['Smartphone'], limited['Tried.Masking.Identity']).ix[0.0,:].sum() "
     ],
     "language": "python",
     "metadata": {},
     "outputs": [
      {
       "metadata": {},
       "output_type": "pyout",
       "prompt_number": 148,
       "text": [
        "Tried.Masking.Identity\n",
        "0                         0.882562\n",
        "1                         0.117438\n",
        "Name: 0.0, dtype: float64"
       ]
      }
     ],
     "prompt_number": 148
    },
    {
     "cell_type": "markdown",
     "metadata": {},
     "source": [
      "##DEMOGRAPHICS AND EMPLOYMENT IN THE UNITED STATES"
     ]
    },
    {
     "cell_type": "code",
     "collapsed": false,
     "input": [
      "CPS =  pd.read_csv('https://courses.edx.org/c4x/MITx/15.071x/asset/CPSData.csv')"
     ],
     "language": "python",
     "metadata": {},
     "outputs": [],
     "prompt_number": 3
    },
    {
     "cell_type": "code",
     "collapsed": false,
     "input": [
      "CPS.shape"
     ],
     "language": "python",
     "metadata": {},
     "outputs": [
      {
       "metadata": {},
       "output_type": "pyout",
       "prompt_number": 3,
       "text": [
        "(131302, 14)"
       ]
      }
     ],
     "prompt_number": 3
    },
    {
     "cell_type": "code",
     "collapsed": false,
     "input": [
      "CPS.columns"
     ],
     "language": "python",
     "metadata": {},
     "outputs": [
      {
       "metadata": {},
       "output_type": "pyout",
       "prompt_number": 4,
       "text": [
        "Index([u'PeopleInHousehold', u'Region', u'State', u'MetroAreaCode', u'Age', u'Married', u'Sex', u'Education', u'Race', u'Hispanic', u'CountryOfBirthCode', u'Citizenship', u'EmploymentStatus', u'Industry'], dtype='object')"
       ]
      }
     ],
     "prompt_number": 4
    },
    {
     "cell_type": "code",
     "collapsed": false,
     "input": [
      "CPS[u'Industry'].value_counts()"
     ],
     "language": "python",
     "metadata": {},
     "outputs": [
      {
       "metadata": {},
       "output_type": "pyout",
       "prompt_number": 5,
       "text": [
        "Educational and health services                15017\n",
        "Trade                                           8933\n",
        "Professional and business services              7519\n",
        "Manufacturing                                   6791\n",
        "Leisure and hospitality                         6364\n",
        "Construction                                    4387\n",
        "Financial                                       4347\n",
        "Transportation and utilities                    3260\n",
        "Other services                                  3224\n",
        "Public administration                           3186\n",
        "Information                                     1328\n",
        "Agriculture, forestry, fishing, and hunting     1307\n",
        "Mining                                           550\n",
        "Armed forces                                      29\n",
        "dtype: int64"
       ]
      }
     ],
     "prompt_number": 5
    },
    {
     "cell_type": "code",
     "collapsed": false,
     "input": [
      "CPS[u'State'].value_counts()"
     ],
     "language": "python",
     "metadata": {},
     "outputs": [
      {
       "metadata": {},
       "output_type": "pyout",
       "prompt_number": 6,
       "text": [
        "California              11570\n",
        "Texas                    7077\n",
        "New York                 5595\n",
        "Florida                  5149\n",
        "Pennsylvania             3930\n",
        "Illinois                 3912\n",
        "Ohio                     3678\n",
        "Maryland                 3200\n",
        "Minnesota                3139\n",
        "Michigan                 3063\n",
        "Virginia                 2953\n",
        "Colorado                 2925\n",
        "Connecticut              2836\n",
        "Georgia                  2807\n",
        "Wisconsin                2686\n",
        "New Hampshire            2662\n",
        "North Carolina           2619\n",
        "New Jersey               2567\n",
        "Iowa                     2528\n",
        "Washington               2366\n",
        "Maine                    2263\n",
        "Delaware                 2214\n",
        "Rhode Island             2209\n",
        "Missouri                 2145\n",
        "Hawaii                   2099\n",
        "Indiana                  2004\n",
        "South Dakota             2000\n",
        "Massachusetts            1987\n",
        "Nebraska                 1949\n",
        "Oregon                   1943\n",
        "Kansas                   1935\n",
        "Vermont                  1890\n",
        "Nevada                   1856\n",
        "Utah                     1842\n",
        "Kentucky                 1841\n",
        "District of Columbia     1791\n",
        "Tennessee                1784\n",
        "South Carolina           1658\n",
        "North Dakota             1645\n",
        "Wyoming                  1624\n",
        "Alaska                   1590\n",
        "Arizona                  1528\n",
        "Oklahoma                 1523\n",
        "Idaho                    1518\n",
        "Louisiana                1450\n",
        "Arkansas                 1421\n",
        "West Virginia            1409\n",
        "Alabama                  1376\n",
        "Mississippi              1230\n",
        "Montana                  1214\n",
        "New Mexico               1102\n",
        "Length: 51, dtype: int64"
       ]
      }
     ],
     "prompt_number": 6
    },
    {
     "cell_type": "code",
     "collapsed": false,
     "input": [
      "CPS[u'Citizenship'].value_counts()/len(CPS)"
     ],
     "language": "python",
     "metadata": {},
     "outputs": [
      {
       "metadata": {},
       "output_type": "pyout",
       "prompt_number": 13,
       "text": [
        "Citizen, Native         0.888326\n",
        "Non-Citizen             0.057806\n",
        "Citizen, Naturalized    0.053868\n",
        "dtype: float64"
       ]
      }
     ],
     "prompt_number": 13
    },
    {
     "cell_type": "code",
     "collapsed": false,
     "input": [
      "pd.crosstab(CPS[u'Race'], CPS[u'Hispanic'])"
     ],
     "language": "python",
     "metadata": {},
     "outputs": [
      {
       "html": [
        "<div style=\"max-height:1000px;max-width:1500px;overflow:auto;\">\n",
        "<table border=\"1\" class=\"dataframe\">\n",
        "  <thead>\n",
        "    <tr style=\"text-align: right;\">\n",
        "      <th>Hispanic</th>\n",
        "      <th>0</th>\n",
        "      <th>1</th>\n",
        "    </tr>\n",
        "    <tr>\n",
        "      <th>Race</th>\n",
        "      <th></th>\n",
        "      <th></th>\n",
        "    </tr>\n",
        "  </thead>\n",
        "  <tbody>\n",
        "    <tr>\n",
        "      <th>American Indian</th>\n",
        "      <td>  1129</td>\n",
        "      <td>   304</td>\n",
        "    </tr>\n",
        "    <tr>\n",
        "      <th>Asian</th>\n",
        "      <td>  6407</td>\n",
        "      <td>   113</td>\n",
        "    </tr>\n",
        "    <tr>\n",
        "      <th>Black</th>\n",
        "      <td> 13292</td>\n",
        "      <td>   621</td>\n",
        "    </tr>\n",
        "    <tr>\n",
        "      <th>Multiracial</th>\n",
        "      <td>  2449</td>\n",
        "      <td>   448</td>\n",
        "    </tr>\n",
        "    <tr>\n",
        "      <th>Pacific Islander</th>\n",
        "      <td>   541</td>\n",
        "      <td>    77</td>\n",
        "    </tr>\n",
        "    <tr>\n",
        "      <th>White</th>\n",
        "      <td> 89190</td>\n",
        "      <td> 16731</td>\n",
        "    </tr>\n",
        "  </tbody>\n",
        "</table>\n",
        "<p>6 rows \u00d7 2 columns</p>\n",
        "</div>"
       ],
       "metadata": {},
       "output_type": "pyout",
       "prompt_number": 14,
       "text": [
        "Hispanic              0      1\n",
        "Race                          \n",
        "American Indian    1129    304\n",
        "Asian              6407    113\n",
        "Black             13292    621\n",
        "Multiracial        2449    448\n",
        "Pacific Islander    541     77\n",
        "White             89190  16731\n",
        "\n",
        "[6 rows x 2 columns]"
       ]
      }
     ],
     "prompt_number": 14
    },
    {
     "cell_type": "code",
     "collapsed": false,
     "input": [
      "for c in CPS:\n",
      "    print c\n",
      "    print CPS[c].isnull().value_counts()\n",
      "    print ''"
     ],
     "language": "python",
     "metadata": {},
     "outputs": [
      {
       "output_type": "stream",
       "stream": "stdout",
       "text": [
        "PeopleInHousehold\n",
        "False    131302\n",
        "dtype: int64\n",
        "\n",
        "Region\n",
        "False    131302\n",
        "dtype: int64\n",
        "\n",
        "State\n",
        "False    131302\n",
        "dtype: int64\n",
        "\n",
        "MetroAreaCode\n",
        "False    97064\n",
        "True     34238\n",
        "dtype: int64"
       ]
      },
      {
       "output_type": "stream",
       "stream": "stdout",
       "text": [
        "\n",
        "\n",
        "Age\n",
        "False    131302\n",
        "dtype: int64\n",
        "\n",
        "Married\n",
        "False    105964\n",
        "True      25338\n",
        "dtype: int64\n",
        "\n",
        "Sex\n",
        "False    131302\n",
        "dtype: int64"
       ]
      },
      {
       "output_type": "stream",
       "stream": "stdout",
       "text": [
        "\n",
        "\n",
        "Education\n",
        "False    105964\n",
        "True      25338\n",
        "dtype: int64\n",
        "\n",
        "Race\n",
        "False    131302\n",
        "dtype: int64\n",
        "\n",
        "Hispanic\n",
        "False    131302\n",
        "dtype: int64\n",
        "\n",
        "CountryOfBirthCode\n",
        "False    131302\n",
        "dtype: int64"
       ]
      },
      {
       "output_type": "stream",
       "stream": "stdout",
       "text": [
        "\n",
        "\n",
        "Citizenship\n",
        "False    131302\n",
        "dtype: int64\n",
        "\n",
        "EmploymentStatus\n",
        "False    105513\n",
        "True      25789\n",
        "dtype: int64\n",
        "\n",
        "Industry\n",
        "False    66242\n",
        "True     65060\n",
        "dtype: int64"
       ]
      },
      {
       "output_type": "stream",
       "stream": "stdout",
       "text": [
        "\n",
        "\n"
       ]
      }
     ],
     "prompt_number": 37
    },
    {
     "cell_type": "code",
     "collapsed": false,
     "input": [
      "CPS['Region'], CPS['Married'].isnull())"
     ],
     "language": "python",
     "metadata": {},
     "outputs": [
      {
       "html": [
        "<div style=\"max-height:1000px;max-width:1500px;overflow:auto;\">\n",
        "<table border=\"1\" class=\"dataframe\">\n",
        "  <thead>\n",
        "    <tr style=\"text-align: right;\">\n",
        "      <th>Married</th>\n",
        "      <th>False</th>\n",
        "      <th>True</th>\n",
        "    </tr>\n",
        "    <tr>\n",
        "      <th>Region</th>\n",
        "      <th></th>\n",
        "      <th></th>\n",
        "    </tr>\n",
        "  </thead>\n",
        "  <tbody>\n",
        "    <tr>\n",
        "      <th>Midwest</th>\n",
        "      <td> 24609</td>\n",
        "      <td> 6075</td>\n",
        "    </tr>\n",
        "    <tr>\n",
        "      <th>Northeast</th>\n",
        "      <td> 21432</td>\n",
        "      <td> 4507</td>\n",
        "    </tr>\n",
        "    <tr>\n",
        "      <th>South</th>\n",
        "      <td> 33535</td>\n",
        "      <td> 7967</td>\n",
        "    </tr>\n",
        "    <tr>\n",
        "      <th>West</th>\n",
        "      <td> 26388</td>\n",
        "      <td> 6789</td>\n",
        "    </tr>\n",
        "  </tbody>\n",
        "</table>\n",
        "<p>4 rows \u00d7 2 columns</p>\n",
        "</div>"
       ],
       "metadata": {},
       "output_type": "pyout",
       "prompt_number": 38,
       "text": [
        "Married    False  True \n",
        "Region                 \n",
        "Midwest    24609   6075\n",
        "Northeast  21432   4507\n",
        "South      33535   7967\n",
        "West       26388   6789\n",
        "\n",
        "[4 rows x 2 columns]"
       ]
      }
     ],
     "prompt_number": 38
    },
    {
     "cell_type": "code",
     "collapsed": false,
     "input": [
      "pd.crosstab(CPS['Sex'], CPS['Married'].isnull())"
     ],
     "language": "python",
     "metadata": {},
     "outputs": [
      {
       "html": [
        "<div style=\"max-height:1000px;max-width:1500px;overflow:auto;\">\n",
        "<table border=\"1\" class=\"dataframe\">\n",
        "  <thead>\n",
        "    <tr style=\"text-align: right;\">\n",
        "      <th>Married</th>\n",
        "      <th>False</th>\n",
        "      <th>True</th>\n",
        "    </tr>\n",
        "    <tr>\n",
        "      <th>Sex</th>\n",
        "      <th></th>\n",
        "      <th></th>\n",
        "    </tr>\n",
        "  </thead>\n",
        "  <tbody>\n",
        "    <tr>\n",
        "      <th>Female</th>\n",
        "      <td> 55264</td>\n",
        "      <td> 12217</td>\n",
        "    </tr>\n",
        "    <tr>\n",
        "      <th>Male</th>\n",
        "      <td> 50700</td>\n",
        "      <td> 13121</td>\n",
        "    </tr>\n",
        "  </tbody>\n",
        "</table>\n",
        "<p>2 rows \u00d7 2 columns</p>\n",
        "</div>"
       ],
       "metadata": {},
       "output_type": "pyout",
       "prompt_number": 44,
       "text": [
        "Married  False  True \n",
        "Sex                  \n",
        "Female   55264  12217\n",
        "Male     50700  13121\n",
        "\n",
        "[2 rows x 2 columns]"
       ]
      }
     ],
     "prompt_number": 44
    },
    {
     "cell_type": "code",
     "collapsed": false,
     "input": [
      "pd.crosstab(CPS['Age'], CPS['Married'].isnull())"
     ],
     "language": "python",
     "metadata": {},
     "outputs": [
      {
       "html": [
        "<div style=\"max-height:1000px;max-width:1500px;overflow:auto;\">\n",
        "<table border=\"1\" class=\"dataframe\">\n",
        "  <thead>\n",
        "    <tr style=\"text-align: right;\">\n",
        "      <th>Married</th>\n",
        "      <th>False</th>\n",
        "      <th>True</th>\n",
        "    </tr>\n",
        "    <tr>\n",
        "      <th>Age</th>\n",
        "      <th></th>\n",
        "      <th></th>\n",
        "    </tr>\n",
        "  </thead>\n",
        "  <tbody>\n",
        "    <tr>\n",
        "      <th>0 </th>\n",
        "      <td>    0</td>\n",
        "      <td> 1283</td>\n",
        "    </tr>\n",
        "    <tr>\n",
        "      <th>1 </th>\n",
        "      <td>    0</td>\n",
        "      <td> 1559</td>\n",
        "    </tr>\n",
        "    <tr>\n",
        "      <th>2 </th>\n",
        "      <td>    0</td>\n",
        "      <td> 1574</td>\n",
        "    </tr>\n",
        "    <tr>\n",
        "      <th>3 </th>\n",
        "      <td>    0</td>\n",
        "      <td> 1693</td>\n",
        "    </tr>\n",
        "    <tr>\n",
        "      <th>4 </th>\n",
        "      <td>    0</td>\n",
        "      <td> 1695</td>\n",
        "    </tr>\n",
        "    <tr>\n",
        "      <th>5 </th>\n",
        "      <td>    0</td>\n",
        "      <td> 1795</td>\n",
        "    </tr>\n",
        "    <tr>\n",
        "      <th>6 </th>\n",
        "      <td>    0</td>\n",
        "      <td> 1721</td>\n",
        "    </tr>\n",
        "    <tr>\n",
        "      <th>7 </th>\n",
        "      <td>    0</td>\n",
        "      <td> 1681</td>\n",
        "    </tr>\n",
        "    <tr>\n",
        "      <th>8 </th>\n",
        "      <td>    0</td>\n",
        "      <td> 1729</td>\n",
        "    </tr>\n",
        "    <tr>\n",
        "      <th>9 </th>\n",
        "      <td>    0</td>\n",
        "      <td> 1748</td>\n",
        "    </tr>\n",
        "    <tr>\n",
        "      <th>10</th>\n",
        "      <td>    0</td>\n",
        "      <td> 1750</td>\n",
        "    </tr>\n",
        "    <tr>\n",
        "      <th>11</th>\n",
        "      <td>    0</td>\n",
        "      <td> 1721</td>\n",
        "    </tr>\n",
        "    <tr>\n",
        "      <th>12</th>\n",
        "      <td>    0</td>\n",
        "      <td> 1797</td>\n",
        "    </tr>\n",
        "    <tr>\n",
        "      <th>13</th>\n",
        "      <td>    0</td>\n",
        "      <td> 1802</td>\n",
        "    </tr>\n",
        "    <tr>\n",
        "      <th>14</th>\n",
        "      <td>    0</td>\n",
        "      <td> 1790</td>\n",
        "    </tr>\n",
        "    <tr>\n",
        "      <th>15</th>\n",
        "      <td> 1795</td>\n",
        "      <td>    0</td>\n",
        "    </tr>\n",
        "    <tr>\n",
        "      <th>16</th>\n",
        "      <td> 1751</td>\n",
        "      <td>    0</td>\n",
        "    </tr>\n",
        "    <tr>\n",
        "      <th>17</th>\n",
        "      <td> 1764</td>\n",
        "      <td>    0</td>\n",
        "    </tr>\n",
        "    <tr>\n",
        "      <th>18</th>\n",
        "      <td> 1596</td>\n",
        "      <td>    0</td>\n",
        "    </tr>\n",
        "    <tr>\n",
        "      <th>19</th>\n",
        "      <td> 1517</td>\n",
        "      <td>    0</td>\n",
        "    </tr>\n",
        "    <tr>\n",
        "      <th>20</th>\n",
        "      <td> 1398</td>\n",
        "      <td>    0</td>\n",
        "    </tr>\n",
        "    <tr>\n",
        "      <th>21</th>\n",
        "      <td> 1525</td>\n",
        "      <td>    0</td>\n",
        "    </tr>\n",
        "    <tr>\n",
        "      <th>22</th>\n",
        "      <td> 1536</td>\n",
        "      <td>    0</td>\n",
        "    </tr>\n",
        "    <tr>\n",
        "      <th>23</th>\n",
        "      <td> 1638</td>\n",
        "      <td>    0</td>\n",
        "    </tr>\n",
        "    <tr>\n",
        "      <th>24</th>\n",
        "      <td> 1627</td>\n",
        "      <td>    0</td>\n",
        "    </tr>\n",
        "    <tr>\n",
        "      <th>25</th>\n",
        "      <td> 1604</td>\n",
        "      <td>    0</td>\n",
        "    </tr>\n",
        "    <tr>\n",
        "      <th>26</th>\n",
        "      <td> 1643</td>\n",
        "      <td>    0</td>\n",
        "    </tr>\n",
        "    <tr>\n",
        "      <th>27</th>\n",
        "      <td> 1657</td>\n",
        "      <td>    0</td>\n",
        "    </tr>\n",
        "    <tr>\n",
        "      <th>28</th>\n",
        "      <td> 1736</td>\n",
        "      <td>    0</td>\n",
        "    </tr>\n",
        "    <tr>\n",
        "      <th>29</th>\n",
        "      <td> 1645</td>\n",
        "      <td>    0</td>\n",
        "    </tr>\n",
        "    <tr>\n",
        "      <th>30</th>\n",
        "      <td> 1854</td>\n",
        "      <td>    0</td>\n",
        "    </tr>\n",
        "    <tr>\n",
        "      <th>31</th>\n",
        "      <td> 1762</td>\n",
        "      <td>    0</td>\n",
        "    </tr>\n",
        "    <tr>\n",
        "      <th>32</th>\n",
        "      <td> 1790</td>\n",
        "      <td>    0</td>\n",
        "    </tr>\n",
        "    <tr>\n",
        "      <th>33</th>\n",
        "      <td> 1804</td>\n",
        "      <td>    0</td>\n",
        "    </tr>\n",
        "    <tr>\n",
        "      <th>34</th>\n",
        "      <td> 1653</td>\n",
        "      <td>    0</td>\n",
        "    </tr>\n",
        "    <tr>\n",
        "      <th>35</th>\n",
        "      <td> 1716</td>\n",
        "      <td>    0</td>\n",
        "    </tr>\n",
        "    <tr>\n",
        "      <th>36</th>\n",
        "      <td> 1663</td>\n",
        "      <td>    0</td>\n",
        "    </tr>\n",
        "    <tr>\n",
        "      <th>37</th>\n",
        "      <td> 1531</td>\n",
        "      <td>    0</td>\n",
        "    </tr>\n",
        "    <tr>\n",
        "      <th>38</th>\n",
        "      <td> 1530</td>\n",
        "      <td>    0</td>\n",
        "    </tr>\n",
        "    <tr>\n",
        "      <th>39</th>\n",
        "      <td> 1542</td>\n",
        "      <td>    0</td>\n",
        "    </tr>\n",
        "    <tr>\n",
        "      <th>40</th>\n",
        "      <td> 1571</td>\n",
        "      <td>    0</td>\n",
        "    </tr>\n",
        "    <tr>\n",
        "      <th>41</th>\n",
        "      <td> 1673</td>\n",
        "      <td>    0</td>\n",
        "    </tr>\n",
        "    <tr>\n",
        "      <th>42</th>\n",
        "      <td> 1711</td>\n",
        "      <td>    0</td>\n",
        "    </tr>\n",
        "    <tr>\n",
        "      <th>43</th>\n",
        "      <td> 1819</td>\n",
        "      <td>    0</td>\n",
        "    </tr>\n",
        "    <tr>\n",
        "      <th>44</th>\n",
        "      <td> 1764</td>\n",
        "      <td>    0</td>\n",
        "    </tr>\n",
        "    <tr>\n",
        "      <th>45</th>\n",
        "      <td> 1749</td>\n",
        "      <td>    0</td>\n",
        "    </tr>\n",
        "    <tr>\n",
        "      <th>46</th>\n",
        "      <td> 1665</td>\n",
        "      <td>    0</td>\n",
        "    </tr>\n",
        "    <tr>\n",
        "      <th>47</th>\n",
        "      <td> 1647</td>\n",
        "      <td>    0</td>\n",
        "    </tr>\n",
        "    <tr>\n",
        "      <th>48</th>\n",
        "      <td> 1791</td>\n",
        "      <td>    0</td>\n",
        "    </tr>\n",
        "    <tr>\n",
        "      <th>49</th>\n",
        "      <td> 1989</td>\n",
        "      <td>    0</td>\n",
        "    </tr>\n",
        "    <tr>\n",
        "      <th>50</th>\n",
        "      <td> 1966</td>\n",
        "      <td>    0</td>\n",
        "    </tr>\n",
        "    <tr>\n",
        "      <th>51</th>\n",
        "      <td> 1931</td>\n",
        "      <td>    0</td>\n",
        "    </tr>\n",
        "    <tr>\n",
        "      <th>52</th>\n",
        "      <td> 1935</td>\n",
        "      <td>    0</td>\n",
        "    </tr>\n",
        "    <tr>\n",
        "      <th>53</th>\n",
        "      <td> 1994</td>\n",
        "      <td>    0</td>\n",
        "    </tr>\n",
        "    <tr>\n",
        "      <th>54</th>\n",
        "      <td> 1912</td>\n",
        "      <td>    0</td>\n",
        "    </tr>\n",
        "    <tr>\n",
        "      <th>55</th>\n",
        "      <td> 1895</td>\n",
        "      <td>    0</td>\n",
        "    </tr>\n",
        "    <tr>\n",
        "      <th>56</th>\n",
        "      <td> 1935</td>\n",
        "      <td>    0</td>\n",
        "    </tr>\n",
        "    <tr>\n",
        "      <th>57</th>\n",
        "      <td> 1827</td>\n",
        "      <td>    0</td>\n",
        "    </tr>\n",
        "    <tr>\n",
        "      <th>58</th>\n",
        "      <td> 1874</td>\n",
        "      <td>    0</td>\n",
        "    </tr>\n",
        "    <tr>\n",
        "      <th>59</th>\n",
        "      <td> 1758</td>\n",
        "      <td>    0</td>\n",
        "    </tr>\n",
        "    <tr>\n",
        "      <th></th>\n",
        "      <td>...</td>\n",
        "      <td>...</td>\n",
        "    </tr>\n",
        "  </tbody>\n",
        "</table>\n",
        "<p>82 rows \u00d7 2 columns</p>\n",
        "</div>"
       ],
       "metadata": {},
       "output_type": "pyout",
       "prompt_number": 45,
       "text": [
        "Married  False  True \n",
        "Age                  \n",
        "0            0   1283\n",
        "1            0   1559\n",
        "2            0   1574\n",
        "3            0   1693\n",
        "4            0   1695\n",
        "5            0   1795\n",
        "6            0   1721\n",
        "7            0   1681\n",
        "8            0   1729\n",
        "9            0   1748\n",
        "10           0   1750\n",
        "11           0   1721\n",
        "12           0   1797\n",
        "13           0   1802\n",
        "14           0   1790\n",
        "15        1795      0\n",
        "16        1751      0\n",
        "17        1764      0\n",
        "18        1596      0\n",
        "19        1517      0\n",
        "20        1398      0\n",
        "21        1525      0\n",
        "22        1536      0\n",
        "23        1638      0\n",
        "24        1627      0\n",
        "25        1604      0\n",
        "26        1643      0\n",
        "27        1657      0\n",
        "28        1736      0\n",
        "29        1645      0\n",
        "30        1854      0\n",
        "31        1762      0\n",
        "32        1790      0\n",
        "33        1804      0\n",
        "34        1653      0\n",
        "35        1716      0\n",
        "36        1663      0\n",
        "37        1531      0\n",
        "38        1530      0\n",
        "39        1542      0\n",
        "40        1571      0\n",
        "41        1673      0\n",
        "42        1711      0\n",
        "43        1819      0\n",
        "44        1764      0\n",
        "45        1749      0\n",
        "46        1665      0\n",
        "47        1647      0\n",
        "48        1791      0\n",
        "49        1989      0\n",
        "50        1966      0\n",
        "51        1931      0\n",
        "52        1935      0\n",
        "53        1994      0\n",
        "54        1912      0\n",
        "55        1895      0\n",
        "56        1935      0\n",
        "57        1827      0\n",
        "58        1874      0\n",
        "59        1758      0\n",
        "           ...    ...\n",
        "\n",
        "[82 rows x 2 columns]"
       ]
      }
     ],
     "prompt_number": 45
    },
    {
     "cell_type": "code",
     "collapsed": false,
     "input": [
      "pd.crosstab(CPS[u'Citizenship'], CPS['Married'].isnull())"
     ],
     "language": "python",
     "metadata": {},
     "outputs": [
      {
       "html": [
        "<div style=\"max-height:1000px;max-width:1500px;overflow:auto;\">\n",
        "<table border=\"1\" class=\"dataframe\">\n",
        "  <thead>\n",
        "    <tr style=\"text-align: right;\">\n",
        "      <th>Married</th>\n",
        "      <th>False</th>\n",
        "      <th>True</th>\n",
        "    </tr>\n",
        "    <tr>\n",
        "      <th>Citizenship</th>\n",
        "      <th></th>\n",
        "      <th></th>\n",
        "    </tr>\n",
        "  </thead>\n",
        "  <tbody>\n",
        "    <tr>\n",
        "      <th>Citizen, Native</th>\n",
        "      <td> 91956</td>\n",
        "      <td> 24683</td>\n",
        "    </tr>\n",
        "    <tr>\n",
        "      <th>Citizen, Naturalized</th>\n",
        "      <td>  6910</td>\n",
        "      <td>   163</td>\n",
        "    </tr>\n",
        "    <tr>\n",
        "      <th>Non-Citizen</th>\n",
        "      <td>  7098</td>\n",
        "      <td>   492</td>\n",
        "    </tr>\n",
        "  </tbody>\n",
        "</table>\n",
        "<p>3 rows \u00d7 2 columns</p>\n",
        "</div>"
       ],
       "metadata": {},
       "output_type": "pyout",
       "prompt_number": 46,
       "text": [
        "Married               False  True \n",
        "Citizenship                       \n",
        "Citizen, Native       91956  24683\n",
        "Citizen, Naturalized   6910    163\n",
        "Non-Citizen            7098    492\n",
        "\n",
        "[3 rows x 2 columns]"
       ]
      }
     ],
     "prompt_number": 46
    },
    {
     "cell_type": "code",
     "collapsed": false,
     "input": [
      "pd.crosstab(CPS[u'State'], CPS['MetroAreaCode'].isnull())"
     ],
     "language": "python",
     "metadata": {},
     "outputs": [
      {
       "html": [
        "<div style=\"max-height:1000px;max-width:1500px;overflow:auto;\">\n",
        "<table border=\"1\" class=\"dataframe\">\n",
        "  <thead>\n",
        "    <tr style=\"text-align: right;\">\n",
        "      <th>MetroAreaCode</th>\n",
        "      <th>False</th>\n",
        "      <th>True</th>\n",
        "    </tr>\n",
        "    <tr>\n",
        "      <th>State</th>\n",
        "      <th></th>\n",
        "      <th></th>\n",
        "    </tr>\n",
        "  </thead>\n",
        "  <tbody>\n",
        "    <tr>\n",
        "      <th>Alabama</th>\n",
        "      <td>  1020</td>\n",
        "      <td>  356</td>\n",
        "    </tr>\n",
        "    <tr>\n",
        "      <th>Alaska</th>\n",
        "      <td>     0</td>\n",
        "      <td> 1590</td>\n",
        "    </tr>\n",
        "    <tr>\n",
        "      <th>Arizona</th>\n",
        "      <td>  1327</td>\n",
        "      <td>  201</td>\n",
        "    </tr>\n",
        "    <tr>\n",
        "      <th>Arkansas</th>\n",
        "      <td>   724</td>\n",
        "      <td>  697</td>\n",
        "    </tr>\n",
        "    <tr>\n",
        "      <th>California</th>\n",
        "      <td> 11333</td>\n",
        "      <td>  237</td>\n",
        "    </tr>\n",
        "    <tr>\n",
        "      <th>Colorado</th>\n",
        "      <td>  2545</td>\n",
        "      <td>  380</td>\n",
        "    </tr>\n",
        "    <tr>\n",
        "      <th>Connecticut</th>\n",
        "      <td>  2593</td>\n",
        "      <td>  243</td>\n",
        "    </tr>\n",
        "    <tr>\n",
        "      <th>Delaware</th>\n",
        "      <td>  1696</td>\n",
        "      <td>  518</td>\n",
        "    </tr>\n",
        "    <tr>\n",
        "      <th>District of Columbia</th>\n",
        "      <td>  1791</td>\n",
        "      <td>    0</td>\n",
        "    </tr>\n",
        "    <tr>\n",
        "      <th>Florida</th>\n",
        "      <td>  4947</td>\n",
        "      <td>  202</td>\n",
        "    </tr>\n",
        "    <tr>\n",
        "      <th>Georgia</th>\n",
        "      <td>  2250</td>\n",
        "      <td>  557</td>\n",
        "    </tr>\n",
        "    <tr>\n",
        "      <th>Hawaii</th>\n",
        "      <td>  1576</td>\n",
        "      <td>  523</td>\n",
        "    </tr>\n",
        "    <tr>\n",
        "      <th>Idaho</th>\n",
        "      <td>   761</td>\n",
        "      <td>  757</td>\n",
        "    </tr>\n",
        "    <tr>\n",
        "      <th>Illinois</th>\n",
        "      <td>  3473</td>\n",
        "      <td>  439</td>\n",
        "    </tr>\n",
        "    <tr>\n",
        "      <th>Indiana</th>\n",
        "      <td>  1420</td>\n",
        "      <td>  584</td>\n",
        "    </tr>\n",
        "    <tr>\n",
        "      <th>Iowa</th>\n",
        "      <td>  1297</td>\n",
        "      <td> 1231</td>\n",
        "    </tr>\n",
        "    <tr>\n",
        "      <th>Kansas</th>\n",
        "      <td>  1234</td>\n",
        "      <td>  701</td>\n",
        "    </tr>\n",
        "    <tr>\n",
        "      <th>Kentucky</th>\n",
        "      <td>   908</td>\n",
        "      <td>  933</td>\n",
        "    </tr>\n",
        "    <tr>\n",
        "      <th>Louisiana</th>\n",
        "      <td>  1216</td>\n",
        "      <td>  234</td>\n",
        "    </tr>\n",
        "    <tr>\n",
        "      <th>Maine</th>\n",
        "      <td>   909</td>\n",
        "      <td> 1354</td>\n",
        "    </tr>\n",
        "    <tr>\n",
        "      <th>Maryland</th>\n",
        "      <td>  2978</td>\n",
        "      <td>  222</td>\n",
        "    </tr>\n",
        "    <tr>\n",
        "      <th>Massachusetts</th>\n",
        "      <td>  1858</td>\n",
        "      <td>  129</td>\n",
        "    </tr>\n",
        "    <tr>\n",
        "      <th>Michigan</th>\n",
        "      <td>  2517</td>\n",
        "      <td>  546</td>\n",
        "    </tr>\n",
        "    <tr>\n",
        "      <th>Minnesota</th>\n",
        "      <td>  2150</td>\n",
        "      <td>  989</td>\n",
        "    </tr>\n",
        "    <tr>\n",
        "      <th>Mississippi</th>\n",
        "      <td>   376</td>\n",
        "      <td>  854</td>\n",
        "    </tr>\n",
        "    <tr>\n",
        "      <th>Missouri</th>\n",
        "      <td>  1440</td>\n",
        "      <td>  705</td>\n",
        "    </tr>\n",
        "    <tr>\n",
        "      <th>Montana</th>\n",
        "      <td>   199</td>\n",
        "      <td> 1015</td>\n",
        "    </tr>\n",
        "    <tr>\n",
        "      <th>Nebraska</th>\n",
        "      <td>   816</td>\n",
        "      <td> 1133</td>\n",
        "    </tr>\n",
        "    <tr>\n",
        "      <th>Nevada</th>\n",
        "      <td>  1609</td>\n",
        "      <td>  247</td>\n",
        "    </tr>\n",
        "    <tr>\n",
        "      <th>New Hampshire</th>\n",
        "      <td>  1148</td>\n",
        "      <td> 1514</td>\n",
        "    </tr>\n",
        "    <tr>\n",
        "      <th>New Jersey</th>\n",
        "      <td>  2567</td>\n",
        "      <td>    0</td>\n",
        "    </tr>\n",
        "    <tr>\n",
        "      <th>New Mexico</th>\n",
        "      <td>   832</td>\n",
        "      <td>  270</td>\n",
        "    </tr>\n",
        "    <tr>\n",
        "      <th>New York</th>\n",
        "      <td>  5144</td>\n",
        "      <td>  451</td>\n",
        "    </tr>\n",
        "    <tr>\n",
        "      <th>North Carolina</th>\n",
        "      <td>  1642</td>\n",
        "      <td>  977</td>\n",
        "    </tr>\n",
        "    <tr>\n",
        "      <th>North Dakota</th>\n",
        "      <td>   432</td>\n",
        "      <td> 1213</td>\n",
        "    </tr>\n",
        "    <tr>\n",
        "      <th>Ohio</th>\n",
        "      <td>  2754</td>\n",
        "      <td>  924</td>\n",
        "    </tr>\n",
        "    <tr>\n",
        "      <th>Oklahoma</th>\n",
        "      <td>  1024</td>\n",
        "      <td>  499</td>\n",
        "    </tr>\n",
        "    <tr>\n",
        "      <th>Oregon</th>\n",
        "      <td>  1519</td>\n",
        "      <td>  424</td>\n",
        "    </tr>\n",
        "    <tr>\n",
        "      <th>Pennsylvania</th>\n",
        "      <td>  3245</td>\n",
        "      <td>  685</td>\n",
        "    </tr>\n",
        "    <tr>\n",
        "      <th>Rhode Island</th>\n",
        "      <td>  2209</td>\n",
        "      <td>    0</td>\n",
        "    </tr>\n",
        "    <tr>\n",
        "      <th>South Carolina</th>\n",
        "      <td>  1139</td>\n",
        "      <td>  519</td>\n",
        "    </tr>\n",
        "    <tr>\n",
        "      <th>South Dakota</th>\n",
        "      <td>   595</td>\n",
        "      <td> 1405</td>\n",
        "    </tr>\n",
        "    <tr>\n",
        "      <th>Tennessee</th>\n",
        "      <td>  1149</td>\n",
        "      <td>  635</td>\n",
        "    </tr>\n",
        "    <tr>\n",
        "      <th>Texas</th>\n",
        "      <td>  6060</td>\n",
        "      <td> 1017</td>\n",
        "    </tr>\n",
        "    <tr>\n",
        "      <th>Utah</th>\n",
        "      <td>  1455</td>\n",
        "      <td>  387</td>\n",
        "    </tr>\n",
        "    <tr>\n",
        "      <th>Vermont</th>\n",
        "      <td>   657</td>\n",
        "      <td> 1233</td>\n",
        "    </tr>\n",
        "    <tr>\n",
        "      <th>Virginia</th>\n",
        "      <td>  2367</td>\n",
        "      <td>  586</td>\n",
        "    </tr>\n",
        "    <tr>\n",
        "      <th>Washington</th>\n",
        "      <td>  1937</td>\n",
        "      <td>  429</td>\n",
        "    </tr>\n",
        "    <tr>\n",
        "      <th>West Virginia</th>\n",
        "      <td>   344</td>\n",
        "      <td> 1065</td>\n",
        "    </tr>\n",
        "    <tr>\n",
        "      <th>Wisconsin</th>\n",
        "      <td>  1882</td>\n",
        "      <td>  804</td>\n",
        "    </tr>\n",
        "    <tr>\n",
        "      <th>Wyoming</th>\n",
        "      <td>     0</td>\n",
        "      <td> 1624</td>\n",
        "    </tr>\n",
        "  </tbody>\n",
        "</table>\n",
        "<p>51 rows \u00d7 2 columns</p>\n",
        "</div>"
       ],
       "metadata": {},
       "output_type": "pyout",
       "prompt_number": 49,
       "text": [
        "MetroAreaCode         False  True \n",
        "State                             \n",
        "Alabama                1020    356\n",
        "Alaska                    0   1590\n",
        "Arizona                1327    201\n",
        "Arkansas                724    697\n",
        "California            11333    237\n",
        "Colorado               2545    380\n",
        "Connecticut            2593    243\n",
        "Delaware               1696    518\n",
        "District of Columbia   1791      0\n",
        "Florida                4947    202\n",
        "Georgia                2250    557\n",
        "Hawaii                 1576    523\n",
        "Idaho                   761    757\n",
        "Illinois               3473    439\n",
        "Indiana                1420    584\n",
        "Iowa                   1297   1231\n",
        "Kansas                 1234    701\n",
        "Kentucky                908    933\n",
        "Louisiana              1216    234\n",
        "Maine                   909   1354\n",
        "Maryland               2978    222\n",
        "Massachusetts          1858    129\n",
        "Michigan               2517    546\n",
        "Minnesota              2150    989\n",
        "Mississippi             376    854\n",
        "Missouri               1440    705\n",
        "Montana                 199   1015\n",
        "Nebraska                816   1133\n",
        "Nevada                 1609    247\n",
        "New Hampshire          1148   1514\n",
        "New Jersey             2567      0\n",
        "New Mexico              832    270\n",
        "New York               5144    451\n",
        "North Carolina         1642    977\n",
        "North Dakota            432   1213\n",
        "Ohio                   2754    924\n",
        "Oklahoma               1024    499\n",
        "Oregon                 1519    424\n",
        "Pennsylvania           3245    685\n",
        "Rhode Island           2209      0\n",
        "South Carolina         1139    519\n",
        "South Dakota            595   1405\n",
        "Tennessee              1149    635\n",
        "Texas                  6060   1017\n",
        "Utah                   1455    387\n",
        "Vermont                 657   1233\n",
        "Virginia               2367    586\n",
        "Washington             1937    429\n",
        "West Virginia           344   1065\n",
        "Wisconsin              1882    804\n",
        "Wyoming                   0   1624\n",
        "\n",
        "[51 rows x 2 columns]"
       ]
      }
     ],
     "prompt_number": 49
    },
    {
     "cell_type": "code",
     "collapsed": false,
     "input": [
      "ct_rm = pd.crosstab(CPS[u'Region'], CPS['MetroAreaCode'].isnull())\n",
      "ct_rm.astype('float').div(ct_rm.sum(axis=1), axis=0)"
     ],
     "language": "python",
     "metadata": {},
     "outputs": [
      {
       "html": [
        "<div style=\"max-height:1000px;max-width:1500px;overflow:auto;\">\n",
        "<table border=\"1\" class=\"dataframe\">\n",
        "  <thead>\n",
        "    <tr style=\"text-align: right;\">\n",
        "      <th>MetroAreaCode</th>\n",
        "      <th>False</th>\n",
        "      <th>True</th>\n",
        "    </tr>\n",
        "    <tr>\n",
        "      <th>Region</th>\n",
        "      <th></th>\n",
        "      <th></th>\n",
        "    </tr>\n",
        "  </thead>\n",
        "  <tbody>\n",
        "    <tr>\n",
        "      <th>Midwest</th>\n",
        "      <td> 0.652131</td>\n",
        "      <td> 0.347869</td>\n",
        "    </tr>\n",
        "    <tr>\n",
        "      <th>Northeast</th>\n",
        "      <td> 0.783762</td>\n",
        "      <td> 0.216238</td>\n",
        "    </tr>\n",
        "    <tr>\n",
        "      <th>South</th>\n",
        "      <td> 0.762156</td>\n",
        "      <td> 0.237844</td>\n",
        "    </tr>\n",
        "    <tr>\n",
        "      <th>West</th>\n",
        "      <td> 0.756337</td>\n",
        "      <td> 0.243663</td>\n",
        "    </tr>\n",
        "  </tbody>\n",
        "</table>\n",
        "<p>4 rows \u00d7 2 columns</p>\n",
        "</div>"
       ],
       "metadata": {},
       "output_type": "pyout",
       "prompt_number": 100,
       "text": [
        "MetroAreaCode     False     True \n",
        "Region                           \n",
        "Midwest        0.652131  0.347869\n",
        "Northeast      0.783762  0.216238\n",
        "South          0.762156  0.237844\n",
        "West           0.756337  0.243663\n",
        "\n",
        "[4 rows x 2 columns]"
       ]
      }
     ],
     "prompt_number": 100
    },
    {
     "cell_type": "code",
     "collapsed": false,
     "input": [
      "ct_rm.apply(lambda x : x.astype('float')/x.sum(), axis=1)"
     ],
     "language": "python",
     "metadata": {},
     "outputs": [
      {
       "html": [
        "<div style=\"max-height:1000px;max-width:1500px;overflow:auto;\">\n",
        "<table border=\"1\" class=\"dataframe\">\n",
        "  <thead>\n",
        "    <tr style=\"text-align: right;\">\n",
        "      <th>MetroAreaCode</th>\n",
        "      <th>False</th>\n",
        "      <th>True</th>\n",
        "    </tr>\n",
        "    <tr>\n",
        "      <th>Region</th>\n",
        "      <th></th>\n",
        "      <th></th>\n",
        "    </tr>\n",
        "  </thead>\n",
        "  <tbody>\n",
        "    <tr>\n",
        "      <th>Midwest</th>\n",
        "      <td> 0.652131</td>\n",
        "      <td> 0.347869</td>\n",
        "    </tr>\n",
        "    <tr>\n",
        "      <th>Northeast</th>\n",
        "      <td> 0.783762</td>\n",
        "      <td> 0.216238</td>\n",
        "    </tr>\n",
        "    <tr>\n",
        "      <th>South</th>\n",
        "      <td> 0.762156</td>\n",
        "      <td> 0.237844</td>\n",
        "    </tr>\n",
        "    <tr>\n",
        "      <th>West</th>\n",
        "      <td> 0.756337</td>\n",
        "      <td> 0.243663</td>\n",
        "    </tr>\n",
        "  </tbody>\n",
        "</table>\n",
        "<p>4 rows \u00d7 2 columns</p>\n",
        "</div>"
       ],
       "metadata": {},
       "output_type": "pyout",
       "prompt_number": 105,
       "text": [
        "MetroAreaCode     False     True \n",
        "Region                           \n",
        "Midwest        0.652131  0.347869\n",
        "Northeast      0.783762  0.216238\n",
        "South          0.762156  0.237844\n",
        "West           0.756337  0.243663\n",
        "\n",
        "[4 rows x 2 columns]"
       ]
      }
     ],
     "prompt_number": 105
    },
    {
     "cell_type": "code",
     "collapsed": false,
     "input": [
      "ct_sm = pd.crosstab(CPS[u'State'], CPS['MetroAreaCode'].isnull())\n",
      "ct_sm.apply(lambda x : x.astype('float')/x.sum(), axis=1)"
     ],
     "language": "python",
     "metadata": {},
     "outputs": [
      {
       "html": [
        "<div style=\"max-height:1000px;max-width:1500px;overflow:auto;\">\n",
        "<table border=\"1\" class=\"dataframe\">\n",
        "  <thead>\n",
        "    <tr style=\"text-align: right;\">\n",
        "      <th>MetroAreaCode</th>\n",
        "      <th>False</th>\n",
        "      <th>True</th>\n",
        "    </tr>\n",
        "    <tr>\n",
        "      <th>State</th>\n",
        "      <th></th>\n",
        "      <th></th>\n",
        "    </tr>\n",
        "  </thead>\n",
        "  <tbody>\n",
        "    <tr>\n",
        "      <th>Alabama</th>\n",
        "      <td> 0.741279</td>\n",
        "      <td> 0.258721</td>\n",
        "    </tr>\n",
        "    <tr>\n",
        "      <th>Alaska</th>\n",
        "      <td> 0.000000</td>\n",
        "      <td> 1.000000</td>\n",
        "    </tr>\n",
        "    <tr>\n",
        "      <th>Arizona</th>\n",
        "      <td> 0.868455</td>\n",
        "      <td> 0.131545</td>\n",
        "    </tr>\n",
        "    <tr>\n",
        "      <th>Arkansas</th>\n",
        "      <td> 0.509500</td>\n",
        "      <td> 0.490500</td>\n",
        "    </tr>\n",
        "    <tr>\n",
        "      <th>California</th>\n",
        "      <td> 0.979516</td>\n",
        "      <td> 0.020484</td>\n",
        "    </tr>\n",
        "    <tr>\n",
        "      <th>Colorado</th>\n",
        "      <td> 0.870085</td>\n",
        "      <td> 0.129915</td>\n",
        "    </tr>\n",
        "    <tr>\n",
        "      <th>Connecticut</th>\n",
        "      <td> 0.914316</td>\n",
        "      <td> 0.085684</td>\n",
        "    </tr>\n",
        "    <tr>\n",
        "      <th>Delaware</th>\n",
        "      <td> 0.766034</td>\n",
        "      <td> 0.233966</td>\n",
        "    </tr>\n",
        "    <tr>\n",
        "      <th>District of Columbia</th>\n",
        "      <td> 1.000000</td>\n",
        "      <td> 0.000000</td>\n",
        "    </tr>\n",
        "    <tr>\n",
        "      <th>Florida</th>\n",
        "      <td> 0.960769</td>\n",
        "      <td> 0.039231</td>\n",
        "    </tr>\n",
        "    <tr>\n",
        "      <th>Georgia</th>\n",
        "      <td> 0.801568</td>\n",
        "      <td> 0.198432</td>\n",
        "    </tr>\n",
        "    <tr>\n",
        "      <th>Hawaii</th>\n",
        "      <td> 0.750834</td>\n",
        "      <td> 0.249166</td>\n",
        "    </tr>\n",
        "    <tr>\n",
        "      <th>Idaho</th>\n",
        "      <td> 0.501318</td>\n",
        "      <td> 0.498682</td>\n",
        "    </tr>\n",
        "    <tr>\n",
        "      <th>Illinois</th>\n",
        "      <td> 0.887781</td>\n",
        "      <td> 0.112219</td>\n",
        "    </tr>\n",
        "    <tr>\n",
        "      <th>Indiana</th>\n",
        "      <td> 0.708583</td>\n",
        "      <td> 0.291417</td>\n",
        "    </tr>\n",
        "    <tr>\n",
        "      <th>Iowa</th>\n",
        "      <td> 0.513054</td>\n",
        "      <td> 0.486946</td>\n",
        "    </tr>\n",
        "    <tr>\n",
        "      <th>Kansas</th>\n",
        "      <td> 0.637726</td>\n",
        "      <td> 0.362274</td>\n",
        "    </tr>\n",
        "    <tr>\n",
        "      <th>Kentucky</th>\n",
        "      <td> 0.493210</td>\n",
        "      <td> 0.506790</td>\n",
        "    </tr>\n",
        "    <tr>\n",
        "      <th>Louisiana</th>\n",
        "      <td> 0.838621</td>\n",
        "      <td> 0.161379</td>\n",
        "    </tr>\n",
        "    <tr>\n",
        "      <th>Maine</th>\n",
        "      <td> 0.401679</td>\n",
        "      <td> 0.598321</td>\n",
        "    </tr>\n",
        "    <tr>\n",
        "      <th>Maryland</th>\n",
        "      <td> 0.930625</td>\n",
        "      <td> 0.069375</td>\n",
        "    </tr>\n",
        "    <tr>\n",
        "      <th>Massachusetts</th>\n",
        "      <td> 0.935078</td>\n",
        "      <td> 0.064922</td>\n",
        "    </tr>\n",
        "    <tr>\n",
        "      <th>Michigan</th>\n",
        "      <td> 0.821743</td>\n",
        "      <td> 0.178257</td>\n",
        "    </tr>\n",
        "    <tr>\n",
        "      <th>Minnesota</th>\n",
        "      <td> 0.684932</td>\n",
        "      <td> 0.315068</td>\n",
        "    </tr>\n",
        "    <tr>\n",
        "      <th>Mississippi</th>\n",
        "      <td> 0.305691</td>\n",
        "      <td> 0.694309</td>\n",
        "    </tr>\n",
        "    <tr>\n",
        "      <th>Missouri</th>\n",
        "      <td> 0.671329</td>\n",
        "      <td> 0.328671</td>\n",
        "    </tr>\n",
        "    <tr>\n",
        "      <th>Montana</th>\n",
        "      <td> 0.163921</td>\n",
        "      <td> 0.836079</td>\n",
        "    </tr>\n",
        "    <tr>\n",
        "      <th>Nebraska</th>\n",
        "      <td> 0.418676</td>\n",
        "      <td> 0.581324</td>\n",
        "    </tr>\n",
        "    <tr>\n",
        "      <th>Nevada</th>\n",
        "      <td> 0.866918</td>\n",
        "      <td> 0.133082</td>\n",
        "    </tr>\n",
        "    <tr>\n",
        "      <th>New Hampshire</th>\n",
        "      <td> 0.431255</td>\n",
        "      <td> 0.568745</td>\n",
        "    </tr>\n",
        "    <tr>\n",
        "      <th>New Jersey</th>\n",
        "      <td> 1.000000</td>\n",
        "      <td> 0.000000</td>\n",
        "    </tr>\n",
        "    <tr>\n",
        "      <th>New Mexico</th>\n",
        "      <td> 0.754991</td>\n",
        "      <td> 0.245009</td>\n",
        "    </tr>\n",
        "    <tr>\n",
        "      <th>New York</th>\n",
        "      <td> 0.919392</td>\n",
        "      <td> 0.080608</td>\n",
        "    </tr>\n",
        "    <tr>\n",
        "      <th>North Carolina</th>\n",
        "      <td> 0.626957</td>\n",
        "      <td> 0.373043</td>\n",
        "    </tr>\n",
        "    <tr>\n",
        "      <th>North Dakota</th>\n",
        "      <td> 0.262614</td>\n",
        "      <td> 0.737386</td>\n",
        "    </tr>\n",
        "    <tr>\n",
        "      <th>Ohio</th>\n",
        "      <td> 0.748777</td>\n",
        "      <td> 0.251223</td>\n",
        "    </tr>\n",
        "    <tr>\n",
        "      <th>Oklahoma</th>\n",
        "      <td> 0.672357</td>\n",
        "      <td> 0.327643</td>\n",
        "    </tr>\n",
        "    <tr>\n",
        "      <th>Oregon</th>\n",
        "      <td> 0.781781</td>\n",
        "      <td> 0.218219</td>\n",
        "    </tr>\n",
        "    <tr>\n",
        "      <th>Pennsylvania</th>\n",
        "      <td> 0.825700</td>\n",
        "      <td> 0.174300</td>\n",
        "    </tr>\n",
        "    <tr>\n",
        "      <th>Rhode Island</th>\n",
        "      <td> 1.000000</td>\n",
        "      <td> 0.000000</td>\n",
        "    </tr>\n",
        "    <tr>\n",
        "      <th>South Carolina</th>\n",
        "      <td> 0.686972</td>\n",
        "      <td> 0.313028</td>\n",
        "    </tr>\n",
        "    <tr>\n",
        "      <th>South Dakota</th>\n",
        "      <td> 0.297500</td>\n",
        "      <td> 0.702500</td>\n",
        "    </tr>\n",
        "    <tr>\n",
        "      <th>Tennessee</th>\n",
        "      <td> 0.644058</td>\n",
        "      <td> 0.355942</td>\n",
        "    </tr>\n",
        "    <tr>\n",
        "      <th>Texas</th>\n",
        "      <td> 0.856295</td>\n",
        "      <td> 0.143705</td>\n",
        "    </tr>\n",
        "    <tr>\n",
        "      <th>Utah</th>\n",
        "      <td> 0.789902</td>\n",
        "      <td> 0.210098</td>\n",
        "    </tr>\n",
        "    <tr>\n",
        "      <th>Vermont</th>\n",
        "      <td> 0.347619</td>\n",
        "      <td> 0.652381</td>\n",
        "    </tr>\n",
        "    <tr>\n",
        "      <th>Virginia</th>\n",
        "      <td> 0.801558</td>\n",
        "      <td> 0.198442</td>\n",
        "    </tr>\n",
        "    <tr>\n",
        "      <th>Washington</th>\n",
        "      <td> 0.818681</td>\n",
        "      <td> 0.181319</td>\n",
        "    </tr>\n",
        "    <tr>\n",
        "      <th>West Virginia</th>\n",
        "      <td> 0.244145</td>\n",
        "      <td> 0.755855</td>\n",
        "    </tr>\n",
        "    <tr>\n",
        "      <th>Wisconsin</th>\n",
        "      <td> 0.700670</td>\n",
        "      <td> 0.299330</td>\n",
        "    </tr>\n",
        "    <tr>\n",
        "      <th>Wyoming</th>\n",
        "      <td> 0.000000</td>\n",
        "      <td> 1.000000</td>\n",
        "    </tr>\n",
        "  </tbody>\n",
        "</table>\n",
        "<p>51 rows \u00d7 2 columns</p>\n",
        "</div>"
       ],
       "metadata": {},
       "output_type": "pyout",
       "prompt_number": 110,
       "text": [
        "MetroAreaCode            False     True \n",
        "State                                   \n",
        "Alabama               0.741279  0.258721\n",
        "Alaska                0.000000  1.000000\n",
        "Arizona               0.868455  0.131545\n",
        "Arkansas              0.509500  0.490500\n",
        "California            0.979516  0.020484\n",
        "Colorado              0.870085  0.129915\n",
        "Connecticut           0.914316  0.085684\n",
        "Delaware              0.766034  0.233966\n",
        "District of Columbia  1.000000  0.000000\n",
        "Florida               0.960769  0.039231\n",
        "Georgia               0.801568  0.198432\n",
        "Hawaii                0.750834  0.249166\n",
        "Idaho                 0.501318  0.498682\n",
        "Illinois              0.887781  0.112219\n",
        "Indiana               0.708583  0.291417\n",
        "Iowa                  0.513054  0.486946\n",
        "Kansas                0.637726  0.362274\n",
        "Kentucky              0.493210  0.506790\n",
        "Louisiana             0.838621  0.161379\n",
        "Maine                 0.401679  0.598321\n",
        "Maryland              0.930625  0.069375\n",
        "Massachusetts         0.935078  0.064922\n",
        "Michigan              0.821743  0.178257\n",
        "Minnesota             0.684932  0.315068\n",
        "Mississippi           0.305691  0.694309\n",
        "Missouri              0.671329  0.328671\n",
        "Montana               0.163921  0.836079\n",
        "Nebraska              0.418676  0.581324\n",
        "Nevada                0.866918  0.133082\n",
        "New Hampshire         0.431255  0.568745\n",
        "New Jersey            1.000000  0.000000\n",
        "New Mexico            0.754991  0.245009\n",
        "New York              0.919392  0.080608\n",
        "North Carolina        0.626957  0.373043\n",
        "North Dakota          0.262614  0.737386\n",
        "Ohio                  0.748777  0.251223\n",
        "Oklahoma              0.672357  0.327643\n",
        "Oregon                0.781781  0.218219\n",
        "Pennsylvania          0.825700  0.174300\n",
        "Rhode Island          1.000000  0.000000\n",
        "South Carolina        0.686972  0.313028\n",
        "South Dakota          0.297500  0.702500\n",
        "Tennessee             0.644058  0.355942\n",
        "Texas                 0.856295  0.143705\n",
        "Utah                  0.789902  0.210098\n",
        "Vermont               0.347619  0.652381\n",
        "Virginia              0.801558  0.198442\n",
        "Washington            0.818681  0.181319\n",
        "West Virginia         0.244145  0.755855\n",
        "Wisconsin             0.700670  0.299330\n",
        "Wyoming               0.000000  1.000000\n",
        "\n",
        "[51 rows x 2 columns]"
       ]
      }
     ],
     "prompt_number": 110
    },
    {
     "cell_type": "code",
     "collapsed": false,
     "input": [
      "MetroAreaMap = pd.read_csv('https://courses.edx.org/c4x/MITx/15.071x/asset/MetroAreaCodes.csv')\n",
      "CountryMap = pd.read_csv('https://courses.edx.org/c4x/MITx/15.071x/asset/CountryCodes.csv')"
     ],
     "language": "python",
     "metadata": {},
     "outputs": [],
     "prompt_number": 111
    },
    {
     "cell_type": "code",
     "collapsed": false,
     "input": [
      "MetroAreaMap.shape"
     ],
     "language": "python",
     "metadata": {},
     "outputs": [
      {
       "metadata": {},
       "output_type": "pyout",
       "prompt_number": 112,
       "text": [
        "(271, 2)"
       ]
      }
     ],
     "prompt_number": 112
    },
    {
     "cell_type": "code",
     "collapsed": false,
     "input": [
      "CountryMap.shape"
     ],
     "language": "python",
     "metadata": {},
     "outputs": [
      {
       "metadata": {},
       "output_type": "pyout",
       "prompt_number": 113,
       "text": [
        "(149, 2)"
       ]
      }
     ],
     "prompt_number": 113
    },
    {
     "cell_type": "code",
     "collapsed": false,
     "input": [
      "CPS = pd.merge(CPS, MetroAreaMap, left_on='MetroAreaCode', right_on='Code', how='left')"
     ],
     "language": "python",
     "metadata": {},
     "outputs": []
    },
    {
     "cell_type": "code",
     "collapsed": false,
     "input": [
      "CPS['MetroArea'].value_counts()"
     ],
     "language": "python",
     "metadata": {},
     "outputs": [
      {
       "metadata": {},
       "output_type": "pyout",
       "prompt_number": 117,
       "text": [
        "New York-Northern New Jersey-Long Island, NY-NJ-PA    5409\n",
        "Washington-Arlington-Alexandria, DC-VA-MD-WV          4177\n",
        "Los Angeles-Long Beach-Santa Ana, CA                  4102\n",
        "Philadelphia-Camden-Wilmington, PA-NJ-DE              2855\n",
        "Chicago-Naperville-Joliet, IN-IN-WI                   2772\n",
        "Providence-Fall River-Warwick, MA-RI                  2284\n",
        "Boston-Cambridge-Quincy, MA-NH                        2229\n",
        "Minneapolis-St Paul-Bloomington, MN-WI                1942\n",
        "Dallas-Fort Worth-Arlington, TX                       1863\n",
        "Houston-Baytown-Sugar Land, TX                        1649\n",
        "Honolulu, HI                                          1576\n",
        "Miami-Fort Lauderdale-Miami Beach, FL                 1554\n",
        "Atlanta-Sandy Springs-Marietta, GA                    1552\n",
        "Denver-Aurora, CO                                     1504\n",
        "Baltimore-Towson, MD                                  1483\n",
        "...\n",
        "Prescott, AZ                        54\n",
        "Vineland-Millville-Bridgeton, NJ    54\n",
        "Santa Fe, NM                        52\n",
        "Johnson City, TN                    52\n",
        "Niles-Benton Harbor, MI             51\n",
        "Midland, TX                         51\n",
        "Punta Gorda, FL                     48\n",
        "Columbia, MO                        47\n",
        "Tallahassee, FL                     43\n",
        "Warner Robins, GA                   42\n",
        "Valdosta, GA                        42\n",
        "Bloomington-Normal IL               40\n",
        "Springfield, OH                     34\n",
        "Ocean City, NJ                      30\n",
        "Bowling Green, KY                   29\n",
        "Length: 264, dtype: int64"
       ]
      }
     ],
     "prompt_number": 117
    },
    {
     "cell_type": "code",
     "collapsed": false,
     "input": [
      "ct_mh = pd.crosstab(CPS[u'MetroArea'], CPS[u'Hispanic'])\n",
      "ct_mh.apply(lambda x : x.astype('float')/x.sum(), axis=1).sort(1, ascending=False)"
     ],
     "language": "python",
     "metadata": {},
     "outputs": [
      {
       "html": [
        "<div style=\"max-height:1000px;max-width:1500px;overflow:auto;\">\n",
        "<table border=\"1\" class=\"dataframe\">\n",
        "  <thead>\n",
        "    <tr style=\"text-align: right;\">\n",
        "      <th>Hispanic</th>\n",
        "      <th>0</th>\n",
        "      <th>1</th>\n",
        "    </tr>\n",
        "    <tr>\n",
        "      <th>MetroArea</th>\n",
        "      <th></th>\n",
        "      <th></th>\n",
        "    </tr>\n",
        "  </thead>\n",
        "  <tbody>\n",
        "    <tr>\n",
        "      <th>Laredo, TX</th>\n",
        "      <td> 0.033708</td>\n",
        "      <td> 0.966292</td>\n",
        "    </tr>\n",
        "    <tr>\n",
        "      <th>McAllen-Edinburg-Pharr, TX</th>\n",
        "      <td> 0.051282</td>\n",
        "      <td> 0.948718</td>\n",
        "    </tr>\n",
        "    <tr>\n",
        "      <th>Brownsville-Harlingen, TX</th>\n",
        "      <td> 0.202532</td>\n",
        "      <td> 0.797468</td>\n",
        "    </tr>\n",
        "    <tr>\n",
        "      <th>El Paso, TX</th>\n",
        "      <td> 0.209016</td>\n",
        "      <td> 0.790984</td>\n",
        "    </tr>\n",
        "    <tr>\n",
        "      <th>El Centro, CA</th>\n",
        "      <td> 0.313131</td>\n",
        "      <td> 0.686869</td>\n",
        "    </tr>\n",
        "    <tr>\n",
        "      <th>San Antonio, TX</th>\n",
        "      <td> 0.355848</td>\n",
        "      <td> 0.644152</td>\n",
        "    </tr>\n",
        "    <tr>\n",
        "      <th>Madera, CA</th>\n",
        "      <td> 0.385965</td>\n",
        "      <td> 0.614035</td>\n",
        "    </tr>\n",
        "    <tr>\n",
        "      <th>Corpus Christi, TX</th>\n",
        "      <td> 0.393939</td>\n",
        "      <td> 0.606061</td>\n",
        "    </tr>\n",
        "    <tr>\n",
        "      <th>Merced, CA</th>\n",
        "      <td> 0.433962</td>\n",
        "      <td> 0.566038</td>\n",
        "    </tr>\n",
        "    <tr>\n",
        "      <th>Salinas, CA</th>\n",
        "      <td> 0.442308</td>\n",
        "      <td> 0.557692</td>\n",
        "    </tr>\n",
        "    <tr>\n",
        "      <th>Las Cruses, NM</th>\n",
        "      <td> 0.457944</td>\n",
        "      <td> 0.542056</td>\n",
        "    </tr>\n",
        "    <tr>\n",
        "      <th>Tucson, AZ</th>\n",
        "      <td> 0.493377</td>\n",
        "      <td> 0.506623</td>\n",
        "    </tr>\n",
        "    <tr>\n",
        "      <th>Riverside-San Bernardino, CA</th>\n",
        "      <td> 0.497674</td>\n",
        "      <td> 0.502326</td>\n",
        "    </tr>\n",
        "    <tr>\n",
        "      <th>Bakersfield, CA</th>\n",
        "      <td> 0.510204</td>\n",
        "      <td> 0.489796</td>\n",
        "    </tr>\n",
        "    <tr>\n",
        "      <th>Miami-Fort Lauderdale-Miami Beach, FL</th>\n",
        "      <td> 0.532175</td>\n",
        "      <td> 0.467825</td>\n",
        "    </tr>\n",
        "    <tr>\n",
        "      <th>Victoria, TX</th>\n",
        "      <td> 0.534483</td>\n",
        "      <td> 0.465517</td>\n",
        "    </tr>\n",
        "    <tr>\n",
        "      <th>Santa Fe, NM</th>\n",
        "      <td> 0.538462</td>\n",
        "      <td> 0.461538</td>\n",
        "    </tr>\n",
        "    <tr>\n",
        "      <th>Los Angeles-Long Beach-Santa Ana, CA</th>\n",
        "      <td> 0.539737</td>\n",
        "      <td> 0.460263</td>\n",
        "    </tr>\n",
        "    <tr>\n",
        "      <th>Albuquerque, NM</th>\n",
        "      <td> 0.558292</td>\n",
        "      <td> 0.441708</td>\n",
        "    </tr>\n",
        "    <tr>\n",
        "      <th>Cape Coral-Fort Myers, FL</th>\n",
        "      <td> 0.561644</td>\n",
        "      <td> 0.438356</td>\n",
        "    </tr>\n",
        "    <tr>\n",
        "      <th>Visalia-Porterville, CA</th>\n",
        "      <td> 0.561983</td>\n",
        "      <td> 0.438017</td>\n",
        "    </tr>\n",
        "    <tr>\n",
        "      <th>Fresno, CA</th>\n",
        "      <td> 0.590759</td>\n",
        "      <td> 0.409241</td>\n",
        "    </tr>\n",
        "    <tr>\n",
        "      <th>Vineland-Millville-Bridgeton, NJ</th>\n",
        "      <td> 0.592593</td>\n",
        "      <td> 0.407407</td>\n",
        "    </tr>\n",
        "    <tr>\n",
        "      <th>Santa Barbara-Santa Maria-Goleta, CA</th>\n",
        "      <td> 0.598485</td>\n",
        "      <td> 0.401515</td>\n",
        "    </tr>\n",
        "    <tr>\n",
        "      <th>Killeen-Temple-Fort Hood, TX</th>\n",
        "      <td> 0.613861</td>\n",
        "      <td> 0.386139</td>\n",
        "    </tr>\n",
        "    <tr>\n",
        "      <th>Oxnard-Thousand Oaks-Ventura, CA</th>\n",
        "      <td> 0.640449</td>\n",
        "      <td> 0.359551</td>\n",
        "    </tr>\n",
        "    <tr>\n",
        "      <th>Houston-Baytown-Sugar Land, TX</th>\n",
        "      <td> 0.640995</td>\n",
        "      <td> 0.359005</td>\n",
        "    </tr>\n",
        "    <tr>\n",
        "      <th>Yakima, WA</th>\n",
        "      <td> 0.642857</td>\n",
        "      <td> 0.357143</td>\n",
        "    </tr>\n",
        "    <tr>\n",
        "      <th>Midland, TX</th>\n",
        "      <td> 0.647059</td>\n",
        "      <td> 0.352941</td>\n",
        "    </tr>\n",
        "    <tr>\n",
        "      <th>Modesto, CA</th>\n",
        "      <td> 0.658228</td>\n",
        "      <td> 0.341772</td>\n",
        "    </tr>\n",
        "    <tr>\n",
        "      <th>Danbury, CT</th>\n",
        "      <td> 0.660714</td>\n",
        "      <td> 0.339286</td>\n",
        "    </tr>\n",
        "    <tr>\n",
        "      <th>Waco, TX</th>\n",
        "      <td> 0.670886</td>\n",
        "      <td> 0.329114</td>\n",
        "    </tr>\n",
        "    <tr>\n",
        "      <th>Stockton, CA</th>\n",
        "      <td> 0.678756</td>\n",
        "      <td> 0.321244</td>\n",
        "    </tr>\n",
        "    <tr>\n",
        "      <th>San Jose-Sunnyvale-Santa Clara, CA</th>\n",
        "      <td> 0.683582</td>\n",
        "      <td> 0.316418</td>\n",
        "    </tr>\n",
        "    <tr>\n",
        "      <th>Austin-Round Rock, TX</th>\n",
        "      <td> 0.689922</td>\n",
        "      <td> 0.310078</td>\n",
        "    </tr>\n",
        "    <tr>\n",
        "      <th>Pueblo, CO</th>\n",
        "      <td> 0.692308</td>\n",
        "      <td> 0.307692</td>\n",
        "    </tr>\n",
        "    <tr>\n",
        "      <th>Longview, TX</th>\n",
        "      <td> 0.707692</td>\n",
        "      <td> 0.292308</td>\n",
        "    </tr>\n",
        "    <tr>\n",
        "      <th>Lubbock, TX</th>\n",
        "      <td> 0.714286</td>\n",
        "      <td> 0.285714</td>\n",
        "    </tr>\n",
        "    <tr>\n",
        "      <th>Dallas-Fort Worth-Arlington, TX</th>\n",
        "      <td> 0.716049</td>\n",
        "      <td> 0.283951</td>\n",
        "    </tr>\n",
        "    <tr>\n",
        "      <th>Poughkeepsie-Newburgh-Middletown, NY</th>\n",
        "      <td> 0.726368</td>\n",
        "      <td> 0.273632</td>\n",
        "    </tr>\n",
        "    <tr>\n",
        "      <th>San Diego-Carlsbad-San Marcos, CA</th>\n",
        "      <td> 0.730981</td>\n",
        "      <td> 0.269019</td>\n",
        "    </tr>\n",
        "    <tr>\n",
        "      <th>Sacramento-Arden-Arcade-Roseville, CA</th>\n",
        "      <td> 0.736132</td>\n",
        "      <td> 0.263868</td>\n",
        "    </tr>\n",
        "    <tr>\n",
        "      <th>Amarillo, TX</th>\n",
        "      <td> 0.738636</td>\n",
        "      <td> 0.261364</td>\n",
        "    </tr>\n",
        "    <tr>\n",
        "      <th>Phoenix-Mesa-Scottsdale, AZ</th>\n",
        "      <td> 0.745623</td>\n",
        "      <td> 0.254377</td>\n",
        "    </tr>\n",
        "    <tr>\n",
        "      <th>Las Vegas-Paradise, NV</th>\n",
        "      <td> 0.748268</td>\n",
        "      <td> 0.251732</td>\n",
        "    </tr>\n",
        "    <tr>\n",
        "      <th>Waterbury, CT</th>\n",
        "      <td> 0.751592</td>\n",
        "      <td> 0.248408</td>\n",
        "    </tr>\n",
        "    <tr>\n",
        "      <th>San Luis Obispo-Paso Robles, CA</th>\n",
        "      <td> 0.753247</td>\n",
        "      <td> 0.246753</td>\n",
        "    </tr>\n",
        "    <tr>\n",
        "      <th>Farmington, NM</th>\n",
        "      <td> 0.765625</td>\n",
        "      <td> 0.234375</td>\n",
        "    </tr>\n",
        "    <tr>\n",
        "      <th>Santa Rosa-Petaluma, CA</th>\n",
        "      <td> 0.767442</td>\n",
        "      <td> 0.232558</td>\n",
        "    </tr>\n",
        "    <tr>\n",
        "      <th>Denver-Aurora, CO</th>\n",
        "      <td> 0.767952</td>\n",
        "      <td> 0.232048</td>\n",
        "    </tr>\n",
        "    <tr>\n",
        "      <th>Napa, CA</th>\n",
        "      <td> 0.770492</td>\n",
        "      <td> 0.229508</td>\n",
        "    </tr>\n",
        "    <tr>\n",
        "      <th>New York-Northern New Jersey-Long Island, NY-NJ-PA</th>\n",
        "      <td> 0.771492</td>\n",
        "      <td> 0.228508</td>\n",
        "    </tr>\n",
        "    <tr>\n",
        "      <th>Beaumont-Port Author, TX</th>\n",
        "      <td> 0.772358</td>\n",
        "      <td> 0.227642</td>\n",
        "    </tr>\n",
        "    <tr>\n",
        "      <th>Springfield, MA-CT</th>\n",
        "      <td> 0.780645</td>\n",
        "      <td> 0.219355</td>\n",
        "    </tr>\n",
        "    <tr>\n",
        "      <th>Orlando, FL</th>\n",
        "      <td> 0.786885</td>\n",
        "      <td> 0.213115</td>\n",
        "    </tr>\n",
        "    <tr>\n",
        "      <th>Salem, OR</th>\n",
        "      <td> 0.788235</td>\n",
        "      <td> 0.211765</td>\n",
        "    </tr>\n",
        "    <tr>\n",
        "      <th>Reading, PA</th>\n",
        "      <td> 0.788732</td>\n",
        "      <td> 0.211268</td>\n",
        "    </tr>\n",
        "    <tr>\n",
        "      <th>Vallejo-Fairfield, CA</th>\n",
        "      <td> 0.789474</td>\n",
        "      <td> 0.210526</td>\n",
        "    </tr>\n",
        "    <tr>\n",
        "      <th>Columbus, GA-AL</th>\n",
        "      <td> 0.796610</td>\n",
        "      <td> 0.203390</td>\n",
        "    </tr>\n",
        "    <tr>\n",
        "      <th>San Francisco-Oakland-Fremont, CA</th>\n",
        "      <td> 0.800144</td>\n",
        "      <td> 0.199856</td>\n",
        "    </tr>\n",
        "    <tr>\n",
        "      <th></th>\n",
        "      <td>...</td>\n",
        "      <td>...</td>\n",
        "    </tr>\n",
        "  </tbody>\n",
        "</table>\n",
        "<p>264 rows \u00d7 2 columns</p>\n",
        "</div>"
       ],
       "metadata": {},
       "output_type": "pyout",
       "prompt_number": 139,
       "text": [
        "Hispanic                                                   0         1\n",
        "MetroArea                                                             \n",
        "Laredo, TX                                          0.033708  0.966292\n",
        "McAllen-Edinburg-Pharr, TX                          0.051282  0.948718\n",
        "Brownsville-Harlingen, TX                           0.202532  0.797468\n",
        "El Paso, TX                                         0.209016  0.790984\n",
        "El Centro, CA                                       0.313131  0.686869\n",
        "San Antonio, TX                                     0.355848  0.644152\n",
        "Madera, CA                                          0.385965  0.614035\n",
        "Corpus Christi, TX                                  0.393939  0.606061\n",
        "Merced, CA                                          0.433962  0.566038\n",
        "Salinas, CA                                         0.442308  0.557692\n",
        "Las Cruses, NM                                      0.457944  0.542056\n",
        "Tucson, AZ                                          0.493377  0.506623\n",
        "Riverside-San Bernardino, CA                        0.497674  0.502326\n",
        "Bakersfield, CA                                     0.510204  0.489796\n",
        "Miami-Fort Lauderdale-Miami Beach, FL               0.532175  0.467825\n",
        "Victoria, TX                                        0.534483  0.465517\n",
        "Santa Fe, NM                                        0.538462  0.461538\n",
        "Los Angeles-Long Beach-Santa Ana, CA                0.539737  0.460263\n",
        "Albuquerque, NM                                     0.558292  0.441708\n",
        "Cape Coral-Fort Myers, FL                           0.561644  0.438356\n",
        "Visalia-Porterville, CA                             0.561983  0.438017\n",
        "Fresno, CA                                          0.590759  0.409241\n",
        "Vineland-Millville-Bridgeton, NJ                    0.592593  0.407407\n",
        "Santa Barbara-Santa Maria-Goleta, CA                0.598485  0.401515\n",
        "Killeen-Temple-Fort Hood, TX                        0.613861  0.386139\n",
        "Oxnard-Thousand Oaks-Ventura, CA                    0.640449  0.359551\n",
        "Houston-Baytown-Sugar Land, TX                      0.640995  0.359005\n",
        "Yakima, WA                                          0.642857  0.357143\n",
        "Midland, TX                                         0.647059  0.352941\n",
        "Modesto, CA                                         0.658228  0.341772\n",
        "Danbury, CT                                         0.660714  0.339286\n",
        "Waco, TX                                            0.670886  0.329114\n",
        "Stockton, CA                                        0.678756  0.321244\n",
        "San Jose-Sunnyvale-Santa Clara, CA                  0.683582  0.316418\n",
        "Austin-Round Rock, TX                               0.689922  0.310078\n",
        "Pueblo, CO                                          0.692308  0.307692\n",
        "Longview, TX                                        0.707692  0.292308\n",
        "Lubbock, TX                                         0.714286  0.285714\n",
        "Dallas-Fort Worth-Arlington, TX                     0.716049  0.283951\n",
        "Poughkeepsie-Newburgh-Middletown, NY                0.726368  0.273632\n",
        "San Diego-Carlsbad-San Marcos, CA                   0.730981  0.269019\n",
        "Sacramento-Arden-Arcade-Roseville, CA               0.736132  0.263868\n",
        "Amarillo, TX                                        0.738636  0.261364\n",
        "Phoenix-Mesa-Scottsdale, AZ                         0.745623  0.254377\n",
        "Las Vegas-Paradise, NV                              0.748268  0.251732\n",
        "Waterbury, CT                                       0.751592  0.248408\n",
        "San Luis Obispo-Paso Robles, CA                     0.753247  0.246753\n",
        "Farmington, NM                                      0.765625  0.234375\n",
        "Santa Rosa-Petaluma, CA                             0.767442  0.232558\n",
        "Denver-Aurora, CO                                   0.767952  0.232048\n",
        "Napa, CA                                            0.770492  0.229508\n",
        "New York-Northern New Jersey-Long Island, NY-NJ-PA  0.771492  0.228508\n",
        "Beaumont-Port Author, TX                            0.772358  0.227642\n",
        "Springfield, MA-CT                                  0.780645  0.219355\n",
        "Orlando, FL                                         0.786885  0.213115\n",
        "Salem, OR                                           0.788235  0.211765\n",
        "Reading, PA                                         0.788732  0.211268\n",
        "Vallejo-Fairfield, CA                               0.789474  0.210526\n",
        "Columbus, GA-AL                                     0.796610  0.203390\n",
        "San Francisco-Oakland-Fremont, CA                   0.800144  0.199856\n",
        "                                                         ...       ...\n",
        "\n",
        "[264 rows x 2 columns]"
       ]
      }
     ],
     "prompt_number": 139
    },
    {
     "cell_type": "code",
     "collapsed": false,
     "input": [
      "(CPS.ix[CPS['Race'] == \"Asian\"]['MetroArea'].value_counts() / CPS['MetroArea'].value_counts())[(CPS.ix[CPS['Race'] == \"Asian\"]['MetroArea'].value_counts() / CPS['MetroArea'].value_counts())>=0.2].order()"
     ],
     "language": "python",
     "metadata": {},
     "outputs": [
      {
       "metadata": {},
       "output_type": "pyout",
       "prompt_number": 167,
       "text": [
        "Vallejo-Fairfield, CA                 0.203008\n",
        "San Jose-Sunnyvale-Santa Clara, CA    0.241791\n",
        "San Francisco-Oakland-Fremont, CA     0.246753\n",
        "Honolulu, HI                          0.501904\n",
        "dtype: float64"
       ]
      }
     ],
     "prompt_number": 167
    },
    {
     "cell_type": "code",
     "collapsed": false,
     "input": [
      "(CPS[CPS['Education']=='No high school diploma']['MetroArea'].value_counts()/CPS['MetroArea'].value_counts()).order()"
     ],
     "language": "python",
     "metadata": {},
     "outputs": [
      {
       "metadata": {},
       "output_type": "pyout",
       "prompt_number": 176,
       "text": [
        "Iowa City, IA                        0.022901\n",
        "Bowling Green, KY                    0.034483\n",
        "Kalamazoo-Portage, MI                0.039370\n",
        "Champaign-Urbana, IL                 0.040984\n",
        "Bremerton-Silverdale, WA             0.045977\n",
        "Jacksonville, NC                     0.047619\n",
        "Bloomington-Normal IL                0.050000\n",
        "Lawrence, KS                         0.051020\n",
        "Salisbury, MD                        0.054054\n",
        "Eau Claire, WI                       0.054545\n",
        "Gainesville, FL                      0.057143\n",
        "Fort Collins-Loveland, CO            0.058252\n",
        "Palm Bay-Melbourne-Titusville, FL    0.059524\n",
        "Madison, WI                          0.059859\n",
        "Fargo, ND-MN                         0.060185\n",
        "...\n",
        "Montgomery, AL                0.203883\n",
        "Tucson, AZ                    0.205298\n",
        "Lawton, OK                    0.216495\n",
        "Lancaster, PA                 0.217949\n",
        "El Paso, TX                   0.225410\n",
        "Corpus Christi, TX            0.227273\n",
        "Laredo, TX                    0.235955\n",
        "Madera, CA                    0.263158\n",
        "Springfield, OH               0.264706\n",
        "Florence, AL                  0.269841\n",
        "Longview, TX                  0.276923\n",
        "McAllen-Edinburg-Pharr, TX    0.276923\n",
        "Salinas, CA                   0.288462\n",
        "Kingsport-Bristol, TN-VA      0.298507\n",
        "Macon, GA                     0.307692\n",
        "Length: 264, dtype: float64"
       ]
      }
     ],
     "prompt_number": 176
    },
    {
     "cell_type": "code",
     "collapsed": false,
     "input": [
      "CPS = pd.merge(CPS, CountryMap, left_on=u'CountryOfBirthCode', right_on='Code', how='left')"
     ],
     "language": "python",
     "metadata": {},
     "outputs": [],
     "prompt_number": 184
    },
    {
     "cell_type": "code",
     "collapsed": false,
     "input": [
      "CPS.columns"
     ],
     "language": "python",
     "metadata": {},
     "outputs": [
      {
       "metadata": {},
       "output_type": "pyout",
       "prompt_number": 185,
       "text": [
        "Index([u'PeopleInHousehold', u'Region', u'State', u'MetroAreaCode', u'Age', u'Married', u'Sex', u'Education', u'Race', u'Hispanic', u'CountryOfBirthCode', u'Citizenship', u'EmploymentStatus', u'Industry', u'Code_x', u'MetroArea', u'Code_y', u'Country_x', u'Code_x', u'Country_y', u'Code_y', u'Country'], dtype='object')"
       ]
      }
     ],
     "prompt_number": 185
    },
    {
     "cell_type": "code",
     "collapsed": false,
     "input": [
      "CPS[u'CountryOfBirthCode'].isnull().value_counts()"
     ],
     "language": "python",
     "metadata": {},
     "outputs": [
      {
       "metadata": {},
       "output_type": "pyout",
       "prompt_number": 197,
       "text": [
        "False    131126\n",
        "dtype: int64"
       ]
      }
     ],
     "prompt_number": 197
    },
    {
     "cell_type": "code",
     "collapsed": false,
     "input": [
      "CPS.ix[CPS['MetroArea'] == 'New York-Northern New Jersey-Long Island, NY-NJ-PA']['Country'].value_counts()/CPS.ix[CPS['MetroArea'] == 'New York-Northern New Jersey-Long Island, NY-NJ-PA']['Country'].value_counts().sum()"
     ],
     "language": "python",
     "metadata": {},
     "outputs": []
    },
    {
     "cell_type": "code",
     "collapsed": false,
     "input": [
      "CPS['MetroArea'].isin(['New York-Northern', 'New Jersey-Long Island', 'NY-NJ-PA'])"
     ],
     "language": "python",
     "metadata": {},
     "outputs": [
      {
       "metadata": {},
       "output_type": "pyout",
       "prompt_number": 204,
       "text": [
        "0     False\n",
        "1     False\n",
        "2     False\n",
        "3     False\n",
        "4     False\n",
        "5     False\n",
        "6     False\n",
        "7     False\n",
        "8     False\n",
        "9     False\n",
        "10    False\n",
        "11    False\n",
        "12    False\n",
        "13    False\n",
        "14    False\n",
        "...\n",
        "131111    False\n",
        "131112    False\n",
        "131113    False\n",
        "131114    False\n",
        "131115    False\n",
        "131116    False\n",
        "131117    False\n",
        "131118    False\n",
        "131119    False\n",
        "131120    False\n",
        "131121    False\n",
        "131122    False\n",
        "131123    False\n",
        "131124    False\n",
        "131125    False\n",
        "Name: MetroArea, Length: 131126, dtype: bool"
       ]
      }
     ],
     "prompt_number": 204
    },
    {
     "cell_type": "code",
     "collapsed": false,
     "input": [
      "CPS['MetroArea'].value_counts()"
     ],
     "language": "python",
     "metadata": {},
     "outputs": [
      {
       "metadata": {},
       "output_type": "pyout",
       "prompt_number": 205,
       "text": [
        "New York-Northern New Jersey-Long Island, NY-NJ-PA    5404\n",
        "Washington-Arlington-Alexandria, DC-VA-MD-WV          4171\n",
        "Los Angeles-Long Beach-Santa Ana, CA                  4100\n",
        "Philadelphia-Camden-Wilmington, PA-NJ-DE              2853\n",
        "Chicago-Naperville-Joliet, IN-IN-WI                   2770\n",
        "Providence-Fall River-Warwick, MA-RI                  2277\n",
        "Boston-Cambridge-Quincy, MA-NH                        2229\n",
        "Minneapolis-St Paul-Bloomington, MN-WI                1938\n",
        "Dallas-Fort Worth-Arlington, TX                       1861\n",
        "Houston-Baytown-Sugar Land, TX                        1639\n",
        "Honolulu, HI                                          1555\n",
        "Miami-Fort Lauderdale-Miami Beach, FL                 1554\n",
        "Atlanta-Sandy Springs-Marietta, GA                    1545\n",
        "Denver-Aurora, CO                                     1504\n",
        "Baltimore-Towson, MD                                  1481\n",
        "...\n",
        "Prescott, AZ                        54\n",
        "Vineland-Millville-Bridgeton, NJ    54\n",
        "Santa Fe, NM                        52\n",
        "Johnson City, TN                    52\n",
        "Niles-Benton Harbor, MI             51\n",
        "Midland, TX                         51\n",
        "Punta Gorda, FL                     48\n",
        "Columbia, MO                        47\n",
        "Tallahassee, FL                     43\n",
        "Warner Robins, GA                   42\n",
        "Valdosta, GA                        42\n",
        "Bloomington-Normal IL               40\n",
        "Springfield, OH                     34\n",
        "Ocean City, NJ                      30\n",
        "Bowling Green, KY                   29\n",
        "Length: 264, dtype: int64"
       ]
      }
     ],
     "prompt_number": 205
    },
    {
     "cell_type": "code",
     "collapsed": false,
     "input": [
      "CPS.ix[CPS['Country']=='India']['MetroArea'].value_counts()"
     ],
     "language": "python",
     "metadata": {},
     "outputs": []
    }
   ],
   "metadata": {}
  }
 ]
}