{
 "metadata": {
  "name": ""
 },
 "nbformat": 3,
 "nbformat_minor": 0,
 "worksheets": [
  {
   "cells": [
    {
     "cell_type": "code",
     "collapsed": false,
     "input": [
      "%matplotlib inline\n",
      "import pandas as pd\n",
      "from rpy2.robjects import r\n",
      "from rpy2 import robjects\n",
      "import pandas.rpy.common as com"
     ],
     "language": "python",
     "metadata": {},
     "outputs": [],
     "prompt_number": 71
    },
    {
     "cell_type": "code",
     "collapsed": false,
     "input": [
      "%load_ext rmagic"
     ],
     "language": "python",
     "metadata": {},
     "outputs": [],
     "prompt_number": 231
    },
    {
     "cell_type": "code",
     "collapsed": false,
     "input": [
      "stevens = pd.read_csv('https://courses.edx.org/c4x/MITx/15.071x/asset/stevens.csv')"
     ],
     "language": "python",
     "metadata": {},
     "outputs": [],
     "prompt_number": 187
    },
    {
     "cell_type": "code",
     "collapsed": false,
     "input": [
      "stevens.dtypes"
     ],
     "language": "python",
     "metadata": {},
     "outputs": [
      {
       "metadata": {},
       "output_type": "pyout",
       "prompt_number": 188,
       "text": [
        "Docket        object\n",
        "Term           int64\n",
        "Circuit       object\n",
        "Issue         object\n",
        "Petitioner    object\n",
        "Respondent    object\n",
        "LowerCourt    object\n",
        "Unconst        int64\n",
        "Reverse        int64\n",
        "dtype: object"
       ]
      }
     ],
     "prompt_number": 188
    },
    {
     "cell_type": "code",
     "collapsed": false,
     "input": [
      "%R Stevens =read.csv('stevens.csv')"
     ],
     "language": "python",
     "metadata": {},
     "outputs": [
      {
       "metadata": {},
       "output_type": "pyout",
       "prompt_number": 219,
       "text": [
        "array([[  63,   69,   70, ...,  559,  383,   17],\n",
        "       [1994, 1994, 1994, ..., 2000, 1997, 2000],\n",
        "       [   4,   11,    7, ...,   11,   12,   11],\n",
        "       ..., \n",
        "       [   2,    2,    2, ...,    1,    1,    2],\n",
        "       [   0,    0,    0, ...,    1,    0,    0],\n",
        "       [   1,    1,    1, ...,    0,    0,    0]], dtype=int32)"
       ]
      }
     ],
     "prompt_number": 219
    },
    {
     "cell_type": "code",
     "collapsed": false,
     "input": [
      "%R library(caTools)"
     ],
     "language": "python",
     "metadata": {},
     "outputs": [
      {
       "metadata": {},
       "output_type": "pyout",
       "prompt_number": 211,
       "text": [
        "array(['randomForest', 'ROCR', 'gplots', 'rpart.plot', 'rpart', 'caTools',\n",
        "       'tools', 'stats', 'graphics', 'grDevices', 'utils', 'datasets',\n",
        "       'methods', 'base'], \n",
        "      dtype='|S12')"
       ]
      }
     ],
     "prompt_number": 211
    },
    {
     "cell_type": "code",
     "collapsed": false,
     "input": [
      "%R set.seed(3000)"
     ],
     "language": "python",
     "metadata": {},
     "outputs": [],
     "prompt_number": 212
    },
    {
     "cell_type": "code",
     "collapsed": false,
     "input": [
      "%R split=sample.split(stevens$Reverse, SplitRatio = 0.7)"
     ],
     "language": "python",
     "metadata": {},
     "outputs": [
      {
       "metadata": {},
       "output_type": "pyout",
       "prompt_number": 213,
       "text": [
        "array([0, 1, 0, 0, 1, 0, 1, 0, 1, 1, 1, 1, 1, 1, 1, 1, 1, 1, 1, 1, 0, 1, 1,\n",
        "       1, 1, 1, 1, 1, 1, 1, 1, 0, 1, 1, 1, 0, 1, 1, 1, 0, 1, 0, 1, 1, 1, 0,\n",
        "       0, 1, 1, 1, 1, 1, 0, 1, 0, 1, 1, 1, 0, 0, 1, 1, 1, 1, 1, 0, 0, 0, 1,\n",
        "       1, 1, 0, 1, 1, 1, 1, 1, 1, 0, 0, 1, 1, 1, 1, 1, 1, 0, 0, 1, 1, 1, 0,\n",
        "       1, 1, 0, 1, 1, 1, 1, 1, 1, 0, 1, 1, 1, 0, 1, 1, 1, 0, 1, 0, 1, 0, 1,\n",
        "       1, 1, 1, 1, 1, 1, 1, 1, 1, 0, 1, 1, 1, 1, 0, 1, 1, 1, 0, 1, 1, 1, 0,\n",
        "       1, 1, 1, 1, 1, 1, 0, 0, 1, 0, 0, 1, 1, 0, 1, 0, 1, 1, 1, 1, 1, 1, 0,\n",
        "       1, 1, 0, 1, 1, 0, 1, 0, 1, 0, 1, 1, 1, 0, 0, 0, 0, 1, 0, 1, 1, 1, 1,\n",
        "       1, 1, 0, 0, 1, 0, 1, 0, 1, 1, 1, 0, 0, 1, 1, 1, 1, 1, 1, 1, 1, 1, 1,\n",
        "       0, 1, 0, 1, 1, 1, 1, 1, 0, 1, 0, 1, 0, 1, 1, 1, 0, 1, 0, 0, 0, 1, 1,\n",
        "       1, 1, 1, 1, 0, 1, 1, 1, 0, 1, 1, 0, 1, 0, 1, 1, 0, 1, 1, 1, 1, 1, 1,\n",
        "       1, 0, 1, 1, 1, 1, 0, 0, 1, 1, 0, 0, 1, 1, 0, 1, 1, 1, 0, 0, 0, 0, 1,\n",
        "       1, 1, 1, 1, 1, 0, 1, 1, 1, 0, 1, 1, 1, 1, 0, 1, 1, 0, 1, 1, 1, 1, 1,\n",
        "       1, 1, 1, 1, 1, 0, 0, 1, 0, 1, 1, 0, 1, 0, 0, 0, 1, 0, 1, 1, 0, 0, 1,\n",
        "       0, 1, 1, 1, 1, 1, 1, 1, 0, 1, 1, 1, 0, 1, 1, 0, 1, 1, 0, 1, 1, 1, 0,\n",
        "       0, 1, 1, 1, 0, 1, 0, 0, 1, 0, 0, 1, 0, 0, 0, 0, 0, 1, 0, 1, 1, 1, 0,\n",
        "       1, 1, 1, 1, 1, 1, 1, 1, 1, 1, 1, 1, 0, 0, 1, 0, 1, 1, 0, 1, 0, 0, 1,\n",
        "       1, 1, 0, 1, 1, 1, 1, 1, 0, 1, 0, 1, 1, 0, 1, 1, 0, 1, 0, 1, 1, 1, 1,\n",
        "       1, 0, 1, 1, 1, 1, 1, 0, 1, 1, 1, 1, 1, 1, 1, 1, 1, 0, 1, 0, 1, 0, 1,\n",
        "       1, 1, 1, 0, 1, 1, 0, 1, 1, 1, 0, 1, 0, 0, 0, 1, 0, 1, 0, 1, 1, 0, 1,\n",
        "       1, 0, 1, 0, 1, 1, 0, 0, 1, 0, 1, 1, 0, 1, 1, 0, 1, 0, 1, 0, 1, 0, 0,\n",
        "       0, 1, 1, 1, 1, 1, 1, 1, 1, 1, 0, 1, 1, 1, 0, 1, 1, 1, 1, 1, 0, 1, 1,\n",
        "       1, 1, 0, 1, 1, 1, 1, 1, 1, 1, 1, 1, 1, 1, 0, 1, 1, 1, 1, 1, 0, 1, 1,\n",
        "       1, 0, 1, 1, 1, 0, 1, 1, 0, 0, 0, 1, 1, 0, 1, 0, 0, 1, 1, 1, 1, 0, 0,\n",
        "       1, 1, 1, 0, 1, 0, 1, 1, 1, 1, 1, 1, 1, 1], dtype=int32)"
       ]
      }
     ],
     "prompt_number": 213
    },
    {
     "cell_type": "code",
     "collapsed": false,
     "input": [
      "%Rpull split"
     ],
     "language": "python",
     "metadata": {},
     "outputs": [],
     "prompt_number": 21
    },
    {
     "cell_type": "code",
     "collapsed": false,
     "input": [
      "len(split)"
     ],
     "language": "python",
     "metadata": {},
     "outputs": [
      {
       "metadata": {},
       "output_type": "pyout",
       "prompt_number": 23,
       "text": [
        "566"
       ]
      }
     ],
     "prompt_number": 23
    },
    {
     "cell_type": "code",
     "collapsed": false,
     "input": [
      "len(stevens)"
     ],
     "language": "python",
     "metadata": {},
     "outputs": [
      {
       "metadata": {},
       "output_type": "pyout",
       "prompt_number": 24,
       "text": [
        "566"
       ]
      }
     ],
     "prompt_number": 24
    },
    {
     "cell_type": "code",
     "collapsed": false,
     "input": [
      "split = pd.Series(map(lambda x : bool(x), split))"
     ],
     "language": "python",
     "metadata": {},
     "outputs": [],
     "prompt_number": 68
    },
    {
     "cell_type": "code",
     "collapsed": false,
     "input": [
      "Train = stevens[split]"
     ],
     "language": "python",
     "metadata": {},
     "outputs": [],
     "prompt_number": 69
    },
    {
     "cell_type": "code",
     "collapsed": false,
     "input": [
      "Test = stevens[-split]"
     ],
     "language": "python",
     "metadata": {},
     "outputs": [],
     "prompt_number": 70
    },
    {
     "cell_type": "code",
     "collapsed": false,
     "input": [
      "%R library(rpart)"
     ],
     "language": "python",
     "metadata": {},
     "outputs": [
      {
       "metadata": {},
       "output_type": "pyout",
       "prompt_number": 74,
       "text": [
        "array(['rpart', 'caTools', 'tools', 'stats', 'graphics', 'grDevices',\n",
        "       'utils', 'datasets', 'methods', 'base'], \n",
        "      dtype='|S9')"
       ]
      }
     ],
     "prompt_number": 74
    },
    {
     "cell_type": "code",
     "collapsed": false,
     "input": [
      "%R library(rpart.plot)"
     ],
     "language": "python",
     "metadata": {},
     "outputs": [
      {
       "metadata": {},
       "output_type": "pyout",
       "prompt_number": 76,
       "text": [
        "array(['rpart.plot', 'rpart', 'caTools', 'tools', 'stats', 'graphics',\n",
        "       'grDevices', 'utils', 'datasets', 'methods', 'base'], \n",
        "      dtype='|S10')"
       ]
      }
     ],
     "prompt_number": 76
    },
    {
     "cell_type": "code",
     "collapsed": false,
     "input": [
      "from sklearn import tree"
     ],
     "language": "python",
     "metadata": {},
     "outputs": [],
     "prompt_number": 77
    },
    {
     "cell_type": "code",
     "collapsed": false,
     "input": [
      "columns = ['Circuit', 'Issue', 'Petitioner', 'Respondent', 'LowerCourt', 'Unconst']\n",
      "x = Train[columns]\n",
      "y = Train[['Reverse']]\n",
      "from sklearn.feature_extraction import DictVectorizer\n",
      "v = DictVectorizer()\n",
      "x = v.fit_transform(x.to_dict(outtype='records')).toarray()\n",
      "clf = tree.DecisionTreeClassifier(min_samples_leaf=25)\n",
      "clf = clf.fit(x, y)"
     ],
     "language": "python",
     "metadata": {},
     "outputs": [],
     "prompt_number": 98
    },
    {
     "cell_type": "code",
     "collapsed": false,
     "input": [
      "test_x = Test[columns]\n",
      "test_x = v.transform(test_x.to_dict(outtype='records')).toarray()\n",
      "predictTest = pd.Series(clf.predict(test_x), name='predictTest')"
     ],
     "language": "python",
     "metadata": {},
     "outputs": [],
     "prompt_number": 102
    },
    {
     "cell_type": "code",
     "collapsed": false,
     "input": [
      "pd.crosstab(Test['Reverse'].reset_index(drop=True), predictTest)"
     ],
     "language": "python",
     "metadata": {},
     "outputs": [
      {
       "html": [
        "<div style=\"max-height:1000px;max-width:1500px;overflow:auto;\">\n",
        "<table border=\"1\" class=\"dataframe\">\n",
        "  <thead>\n",
        "    <tr style=\"text-align: right;\">\n",
        "      <th>predictTest</th>\n",
        "      <th>0</th>\n",
        "      <th>1</th>\n",
        "    </tr>\n",
        "    <tr>\n",
        "      <th>Reverse</th>\n",
        "      <th></th>\n",
        "      <th></th>\n",
        "    </tr>\n",
        "  </thead>\n",
        "  <tbody>\n",
        "    <tr>\n",
        "      <th>0</th>\n",
        "      <td> 49</td>\n",
        "      <td> 28</td>\n",
        "    </tr>\n",
        "    <tr>\n",
        "      <th>1</th>\n",
        "      <td> 23</td>\n",
        "      <td> 70</td>\n",
        "    </tr>\n",
        "  </tbody>\n",
        "</table>\n",
        "<p>2 rows \u00d7 2 columns</p>\n",
        "</div>"
       ],
       "metadata": {},
       "output_type": "pyout",
       "prompt_number": 112,
       "text": [
        "predictTest   0   1\n",
        "Reverse            \n",
        "0            49  28\n",
        "1            23  70\n",
        "\n",
        "[2 rows x 2 columns]"
       ]
      }
     ],
     "prompt_number": 112
    },
    {
     "cell_type": "code",
     "collapsed": false,
     "input": [
      "%R Train = subset(Stevens, split==TRUE)\n",
      "%R Test = subset(Stevens, split==FALSE)\n",
      "%R StevensTree = rpart(Reverse ~ Circuit + Issue + Petitioner + Respondent + LowerCourt + Unconst, data=Train, method='class', control=rpart.control(minbucket=25))"
     ],
     "language": "python",
     "metadata": {},
     "outputs": [
      {
       "metadata": {},
       "output_type": "pyout",
       "prompt_number": 220,
       "text": [
        "array([ <DataFrame - Python:0x112a7f950 / R:0x11074f950>\n",
        "[Facto..., IntVe..., Float..., ..., IntVe..., IntVe..., Matrix]\n",
        "  var: <class 'rpy2.robjects.vectors.FactorVector'>\n",
        "  <FactorVector - Python:0x112aa4908 / R:0x11505def0>\n",
        "[       4,        6,        1, ...,        1,        1,        1]\n",
        "  n: <class 'rpy2.robjects.vectors.IntVector'>\n",
        "  <IntVector - Python:0x112aa4ab8 / R:0x10ed8ee20>\n",
        "[     396,      185,       67, ...,       95,       38,       53]\n",
        "  wt: <class 'rpy2.robjects.vectors.FloatVector'>\n",
        "  <FloatVector - Python:0x112aa4758 / R:0x11074f9f8>\n",
        "[396.000000, 185.000000, 67.000000, ..., 95.000000, 38.000000, 53.000000]\n",
        "  ...\n",
        "  var: <class 'rpy2.robjects.vectors.IntVector'>\n",
        "  <IntVector - Python:0x112aa4e60 / R:0x10ed8ee88>\n",
        "[       4,        4,        0, ...,        0,        0,        0]\n",
        "  n: <class 'rpy2.robjects.vectors.IntVector'>\n",
        "  <IntVector - Python:0x112aa4a70 / R:0x10ed8eef0>\n",
        "[       5,        3,        0, ...,        0,        0,        0]\n",
        "  wt: <class 'rpy2.robjects.vectors.Matrix'>\n",
        "  <Matrix - Python:0x112a88a70 / R:0x113041b80>\n",
        "[2.000000, 1.000000, 1.000000, ..., 0.239899, 0.095960, 0.133838],\n",
        "       <IntVector - Python:0x112a7f320 / R:0x113aa2200>\n",
        "[       8,       13,       13, ...,       13,       13,        3],\n",
        "       <Vector - Python:0x112a7fab8 / R:0x101638778>\n",
        "[RNULLType, Vector, Vector, Vector, Vector],\n",
        "       <Formula - Python:0x112a7f1b8 / R:0x101636f78>,\n",
        "       <Matrix - Python:0x112a7f170 / R:0x113042020>\n",
        "[0.216667, 0.052778, 0.024074, ..., 0.054303, 0.053958, 0.053958],\n",
        "       <StrVector - Python:0x112a7f5a8 / R:0x11480a368>\n",
        "['class'],\n",
        "       <ListVector - Python:0x112a7fd88 / R:0x10ef278e0>\n",
        "[Array, Matrix, FloatVector]\n",
        "  prior: <class 'rpy2.robjects.vectors.Array'>\n",
        "  <Array - Python:0x112aa4a70 / R:0x11393cb10>\n",
        "[0.454545, 0.545455]\n",
        "  loss: <class 'rpy2.robjects.vectors.Matrix'>\n",
        "  <Matrix - Python:0x112aa4710 / R:0x10ef27c88>\n",
        "[0.000000, 1.000000, 1.000000, 0.000000]\n",
        "  split: <class 'rpy2.robjects.vectors.FloatVector'>\n",
        "  <FloatVector - Python:0x112aa4e60 / R:0x11480a428>\n",
        "[1.000000],\n",
        "       <ListVector - Python:0x112a7f830 / R:0x10161db50>\n",
        "[Float..., Float..., Float..., ..., IntVe..., IntVe..., IntVe...]\n",
        "  minsplit: <class 'rpy2.robjects.vectors.FloatVector'>\n",
        "  <FloatVector - Python:0x112aa4a28 / R:0x11480a458>\n",
        "[75.000000]\n",
        "  minbucket: <class 'rpy2.robjects.vectors.FloatVector'>\n",
        "  <FloatVector - Python:0x112aa4758 / R:0x11480a488>\n",
        "[25.000000]\n",
        "  cp: <class 'rpy2.robjects.vectors.FloatVector'>\n",
        "  <FloatVector - Python:0x112a7fa70 / R:0x11480a4e8>\n",
        "[0.010000]\n",
        "  ...\n",
        "  minsplit: <class 'rpy2.robjects.vectors.IntVector'>\n",
        "  <IntVector - Python:0x112a7fb90 / R:0x11480a5a8>\n",
        "[       0]\n",
        "  minbucket: <class 'rpy2.robjects.vectors.IntVector'>\n",
        "  <IntVector - Python:0x112a7f4d0 / R:0x11480a5d8>\n",
        "[      30]\n",
        "  cp: <class 'rpy2.robjects.vectors.IntVector'>\n",
        "  <IntVector - Python:0x112a95248 / R:0x11480a608>\n",
        "[      10],\n",
        "       <ListVector - Python:0x112a7fef0 / R:0x10ef27d18>\n",
        "[SignatureTrans..., SignatureTrans..., SignatureTrans...]\n",
        "  summary: <class 'rpy2.robjects.functions.SignatureTranslatedFunction'>\n",
        "  <SignatureTranslatedFunction - Python:0x112a90e60 / R:0x101633840>\n",
        "  print: <class 'rpy2.robjects.functions.SignatureTranslatedFunction'>\n",
        "  <SignatureTranslatedFunction - Python:0x112a90440 / R:0x101633878>\n",
        "  text: <class 'rpy2.robjects.functions.SignatureTranslatedFunction'>\n",
        "  <SignatureTranslatedFunction - Python:0x112a90e60 / R:0x1016338b0>,\n",
        "       <IntVector - Python:0x112a7f5f0 / R:0x11480a638>\n",
        "[       4],\n",
        "       <Matrix - Python:0x112a7f0e0 / R:0x113aa3800>\n",
        "[396.000000, 396.000000, 396.000000, ..., 0.000000, 0.280000, 0.080000],\n",
        "       <Matrix - Python:0x112a7f2d8 / R:0x113aa4000>\n",
        "[       3,        3,        1, ...,        1,        2,        2],\n",
        "       <FloatVector - Python:0x112a7fea8 / R:0x1015c6d30>\n",
        "[23.620359, 16.301806, 15.803831, 12.265104, 11.069112, 1.110539],\n",
        "       <IntVector - Python:0x112a7f440 / R:0x113a58400>\n",
        "[       2,        2,        2, ...,        1,        1,        1],\n",
        "       <Vector - Python:0x112a7f7a0 / R:0x1015cb5f0>\n",
        "[       0,        0,        0,        0,        0,        0]], dtype=object)"
       ]
      }
     ],
     "prompt_number": 220
    },
    {
     "cell_type": "code",
     "collapsed": false,
     "input": [
      "%R PredictCART = predict(StevensTree, newdata=Test, type='class')"
     ],
     "language": "python",
     "metadata": {},
     "outputs": [
      {
       "metadata": {},
       "output_type": "pyout",
       "prompt_number": 194,
       "text": [
        "array([2, 2, 2, 2, 2, 2, 1, 1, 2, 1, 1, 2, 1, 2, 2, 2, 2, 2, 2, 2, 2, 1, 1,\n",
        "       2, 1, 1, 1, 1, 1, 1, 1, 1, 1, 1, 1, 1, 1, 2, 2, 2, 1, 1, 2, 1, 2, 1,\n",
        "       1, 2, 2, 2, 2, 2, 1, 2, 2, 2, 2, 2, 2, 1, 1, 2, 2, 1, 2, 1, 2, 1, 1,\n",
        "       1, 2, 2, 1, 1, 2, 2, 2, 1, 2, 1, 2, 2, 1, 2, 2, 2, 2, 1, 1, 1, 1, 1,\n",
        "       1, 1, 1, 2, 2, 2, 1, 1, 1, 2, 2, 2, 2, 2, 2, 2, 2, 2, 2, 1, 2, 2, 2,\n",
        "       2, 2, 2, 2, 2, 2, 1, 2, 1, 2, 2, 2, 1, 2, 1, 2, 1, 2, 2, 2, 2, 1, 2,\n",
        "       2, 2, 2, 2, 2, 2, 2, 2, 2, 2, 2, 2, 2, 2, 1, 2, 2, 2, 1, 2, 2, 2, 1,\n",
        "       2, 2, 1, 2, 1, 1, 1, 2, 2], dtype=int32)"
       ]
      }
     ],
     "prompt_number": 194
    },
    {
     "cell_type": "code",
     "collapsed": false,
     "input": [
      "%R table(Test$Reverse, PredictCART)"
     ],
     "language": "python",
     "metadata": {},
     "outputs": [
      {
       "metadata": {},
       "output_type": "pyout",
       "prompt_number": 215,
       "text": [
        "array([[41, 36],\n",
        "       [22, 71]], dtype=int32)"
       ]
      }
     ],
     "prompt_number": 215
    },
    {
     "cell_type": "code",
     "collapsed": false,
     "input": [
      "%Rpull PredictCART\n",
      "from sklearn.metrics import roc_curve, auc\n",
      "fpr, tpr, thresholds = roc_curve(Test['Reverse'].reset_index(drop=True), (PredictCART-1))"
     ],
     "language": "python",
     "metadata": {},
     "outputs": [],
     "prompt_number": 149
    },
    {
     "cell_type": "code",
     "collapsed": false,
     "input": [
      "plt.plot(fpr, tpr)"
     ],
     "language": "python",
     "metadata": {},
     "outputs": [
      {
       "metadata": {},
       "output_type": "pyout",
       "prompt_number": 150,
       "text": [
        "[<matplotlib.lines.Line2D at 0x11200d690>]"
       ]
      },
      {
       "metadata": {},
       "output_type": "display_data",
       "png": "[encoded data removed]",
       "text": [
        "<matplotlib.figure.Figure at 0x111c60410>"
       ]
      }
     ],
     "prompt_number": 150
    },
    {
     "cell_type": "code",
     "collapsed": false,
     "input": [
      "roc_auc = auc(fpr, tpr)"
     ],
     "language": "python",
     "metadata": {},
     "outputs": [],
     "prompt_number": 151
    },
    {
     "cell_type": "code",
     "collapsed": false,
     "input": [
      "roc_auc"
     ],
     "language": "python",
     "metadata": {},
     "outputs": [
      {
       "metadata": {},
       "output_type": "pyout",
       "prompt_number": 154,
       "text": [
        "0.64795419634129314"
       ]
      }
     ],
     "prompt_number": 154
    },
    {
     "cell_type": "code",
     "collapsed": false,
     "input": [
      "%R library(ROCR)\n",
      "%R PredictROC = predict(StevensTree, newdata=Test)\n",
      "%R pred = prediction(PredictROC[,2], Test$Reverse)\n",
      "%R as.numeric(performance(pred, \"auc\")@y.values)"
     ],
     "language": "python",
     "metadata": {},
     "outputs": [
      {
       "output_type": "stream",
       "stream": "stdout",
       "text": [
        "Error in prediction(PredictROC[, 2], Test$Reverse) : \n",
        "  Format of labels is invalid.\n"
       ]
      },
      {
       "output_type": "stream",
       "stream": "stdout",
       "text": [
        "Error in performance(pred, \"auc\") : object 'pred' not found\n"
       ]
      }
     ],
     "prompt_number": 157
    },
    {
     "cell_type": "code",
     "collapsed": false,
     "input": [
      "%R prp(StevensTree)"
     ],
     "language": "python",
     "metadata": {},
     "outputs": [
      {
       "metadata": {},
       "output_type": "display_data",
       "png": "[encoded data removed]"
      },
      {
       "metadata": {},
       "output_type": "pyout",
       "prompt_number": 161,
       "text": [
        "array([ <ListVector - Python:0x1123f7ea8 / R:0x1105a55f8>\n",
        "[DataF..., IntVe..., Vector, ..., Float..., IntVe..., Vector]\n",
        "<ListVector - Python:0x1123f7ea8 / R:0x1105a55f8>\n",
        "[DataF..., IntVe..., Vector, ..., Float..., IntVe..., Vector]\n",
        "  where: <class 'rpy2.robjects.vectors.IntVector'>\n",
        "  <IntVector - Python:0x1123f7ab8 / R:0x113910400>\n",
        "[       8,       13,       13, ...,       13,       13,        3]\n",
        "  call: <class 'rpy2.robjects.vectors.Vector'>\n",
        "  <Vector - Python:0x1123f70e0 / R:0x101551808>\n",
        "[RNULLType, Vector, Vector, Vector, Vector]\n",
        "  ...\n",
        "  frame: <class 'rpy2.robjects.vectors.FloatVector'>\n",
        "  <FloatVector - Python:0x1123f7950 / R:0x11047dc80>\n",
        "[23.620359, 16.301806, 15.803831, 12.265104, 11.069112, 1.110539]\n",
        "  where: <class 'rpy2.robjects.vectors.IntVector'>\n",
        "  <IntVector - Python:0x1123f77e8 / R:0x113912c00>\n",
        "[       2,        2,        2, ...,        1,        1,        1]\n",
        "  call: <class 'rpy2.robjects.vectors.Vector'>\n",
        "  <Vector - Python:0x1123f75f0 / R:0x1014f5040>\n",
        "[       0,        0,        0,        0,        0,        0],\n",
        "       rpy2.rinterface.NULL,\n",
        "       <FloatVector - Python:0x1123f7ef0 / R:0x1023895b8>\n",
        "[0.000000, 1.000000],\n",
        "       <FloatVector - Python:0x1123f7f38 / R:0x102389628>\n",
        "[0.000000, 1.000000],\n",
        "       <FloatVector - Python:0x1123f7dd0 / R:0x110372000>\n",
        "[0.457820, 0.166127, 0.089220, ..., 0.665677, 0.748820, 0.826420],\n",
        "       <FloatVector - Python:0x1123f7fc8 / R:0x110371f58>\n",
        "[0.969273, 0.696537, 0.467285, ..., 0.052262, 0.281515, 0.510768],\n",
        "       <Matrix - Python:0x1123fa098 / R:0x1130152d0>\n",
        "[0.457820, NA_real_, NA_real_, ..., 0.826420, 0.764894, 0.749513],\n",
        "       <Matrix - Python:0x1123fa050 / R:0x113016a20>\n",
        "[0.972452, NA_real_, NA_real_, ..., 0.539489, 0.740020, 0.740020],\n",
        "       <StrVector - Python:0x1123f7e60 / R:0x110371eb0>\n",
        "[NA_character_, NA_character_, '0', ..., '1', '1', '1'],\n",
        "       <FloatVector - Python:0x1123f7f80 / R:0x10270f678>\n",
        "[0.931250],\n",
        "       <ListVector - Python:0x1123f7e18 / R:0x1014f4f68>\n",
        "[FloatVector, FloatVector, FloatVector, FloatVector]\n",
        "  x1: <class 'rpy2.robjects.vectors.FloatVector'>\n",
        "  <FloatVector - Python:0x111ff1758 / R:0x110371e08>\n",
        "[NA_real_, NA_real_, 0.070641, ..., 0.647098, 0.730241, 0.807841]\n",
        "  y1: <class 'rpy2.robjects.vectors.FloatVector'>\n",
        "  <FloatVector - Python:0x111fe8050 / R:0x110706c98>\n",
        "[NA_real_, NA_real_, 0.457711, ..., 0.042689, 0.271941, 0.501194]\n",
        "  x2: <class 'rpy2.robjects.vectors.FloatVector'>\n",
        "  <FloatVector - Python:0x111ff6170 / R:0x110706bf0>\n",
        "[NA_real_, NA_real_, 0.107799, ..., 0.684256, 0.767399, 0.844999]\n",
        "  y2: <class 'rpy2.robjects.vectors.FloatVector'>\n",
        "  <FloatVector - Python:0x111ff6cb0 / R:0x110706b48>\n",
        "[NA_real_, NA_real_, 0.496005, ..., 0.080983, 0.310236, 0.539489],\n",
        "       <StrVector - Python:0x1123fa170 / R:0x10270f648>\n",
        "[''],\n",
        "       <FloatVector - Python:0x1123fa1b8 / R:0x10270f618>\n",
        "[1.000000],\n",
        "       <ListVector - Python:0x1123fa128 / R:0x1014f4ed8>\n",
        "[FloatVector, FloatVector, FloatVector, FloatVector]\n",
        "  x1: <class 'rpy2.robjects.vectors.FloatVector'>\n",
        "  <FloatVector - Python:0x1123fa200 / R:0x110706aa0>\n",
        "[0.348964, -0.056437, NA_real_, ..., NA_real_, NA_real_, NA_real_]\n",
        "  y1: <class 'rpy2.robjects.vectors.FloatVector'>\n",
        "  <FloatVector - Python:0x1123fa368 / R:0x1107069f8>\n",
        "[0.959699, 0.686964, NA_real_, ..., NA_real_, NA_real_, NA_real_]\n",
        "  x2: <class 'rpy2.robjects.vectors.FloatVector'>\n",
        "  <FloatVector - Python:0x1123fa488 / R:0x110706950>\n",
        "[0.566676, 0.388691, NA_real_, ..., NA_real_, NA_real_, NA_real_]\n",
        "  y2: <class 'rpy2.robjects.vectors.FloatVector'>\n",
        "  <FloatVector - Python:0x1123fa5a8 / R:0x1107068a8>\n",
        "[0.997994, 0.725258, NA_real_, ..., NA_real_, NA_real_, NA_real_]], dtype=object)"
       ]
      }
     ],
     "prompt_number": 161
    },
    {
     "cell_type": "code",
     "collapsed": false,
     "input": [
      "%R StevensTree = rpart(Reverse ~ Circuit + Issue + Petitioner + Respondent + LowerCourt + Unconst, data=Train, method='class', control=rpart.control(minbucket=5))\n",
      "%R prp(StevensTree)"
     ],
     "language": "python",
     "metadata": {},
     "outputs": [
      {
       "metadata": {},
       "output_type": "display_data",
       "png": "[encoded data removed]"
      },
      {
       "metadata": {},
       "output_type": "pyout",
       "prompt_number": 162,
       "text": [
        "array([ <ListVector - Python:0x1123fa488 / R:0x10ea45808>\n",
        "[DataF..., IntVe..., Vector, ..., Float..., IntVe..., Vector]\n",
        "<ListVector - Python:0x1123fa488 / R:0x10ea45808>\n",
        "[DataF..., IntVe..., Vector, ..., Float..., IntVe..., Vector]\n",
        "  where: <class 'rpy2.robjects.vectors.IntVector'>\n",
        "  <IntVector - Python:0x1123faf80 / R:0x1148daa00>\n",
        "[      11,       29,       29, ...,       30,       23,        3]\n",
        "  call: <class 'rpy2.robjects.vectors.Vector'>\n",
        "  <Vector - Python:0x1120120e0 / R:0x114841740>\n",
        "[RNULLType, Vector, Vector, Vector, Vector]\n",
        "  ...\n",
        "  frame: <class 'rpy2.robjects.vectors.FloatVector'>\n",
        "  <FloatVector - Python:0x1123f7998 / R:0x100e60778>\n",
        "[33.840941, 23.919352, 18.844512, 17.598083, 15.803831, 3.127915]\n",
        "  where: <class 'rpy2.robjects.vectors.IntVector'>\n",
        "  <IntVector - Python:0x1123f75a8 / R:0x1148de600>\n",
        "[       2,        2,        2, ...,        1,        1,        1]\n",
        "  call: <class 'rpy2.robjects.vectors.Vector'>\n",
        "  <Vector - Python:0x1123f7710 / R:0x101536318>\n",
        "[       0,        0,        0,        0,        0,        0],\n",
        "       rpy2.rinterface.NULL,\n",
        "       <FloatVector - Python:0x1123fa758 / R:0x1107ab238>\n",
        "[0.000000, 1.000000],\n",
        "       <FloatVector - Python:0x1123faab8 / R:0x1107ab200>\n",
        "[0.000000, 1.000000],\n",
        "       <FloatVector - Python:0x1123fa7a0 / R:0x1143ce780>\n",
        "[0.452541, 0.103894, 0.034476, ..., 0.915172, 0.812714, 0.871887],\n",
        "       <FloatVector - Python:0x1123fa8c0 / R:0x1143ce8b0>\n",
        "[0.983285, 0.851786, 0.745910, ..., 0.453904, 0.665656, 0.771533],\n",
        "       <Matrix - Python:0x1123fa248 / R:0x1143ce9e0>\n",
        "[0.452541, NA_real_, NA_real_, ..., 0.871887, 0.815327, 0.801187],\n",
        "       <Matrix - Python:0x1123fa7e8 / R:0x1143ced20>\n",
        "[0.984949, NA_real_, NA_real_, ..., 0.786568, 0.877409, 0.877409],\n",
        "       <StrVector - Python:0x1123fa9e0 / R:0x1143cf060>\n",
        "[NA_character_, NA_character_, '0', ..., '1', '1', '1'],\n",
        "       <FloatVector - Python:0x1123fab90 / R:0x1107f5dd8>\n",
        "[0.487500],\n",
        "       <ListVector - Python:0x1123fa5a8 / R:0x101536240>\n",
        "[FloatVector, FloatVector, FloatVector, FloatVector]\n",
        "  x1: <class 'rpy2.robjects.vectors.FloatVector'>\n",
        "  <FloatVector - Python:0x1123f75a8 / R:0x1143cf190>\n",
        "[NA_real_, NA_real_, 0.024750, ..., 0.905446, 0.802988, 0.862161]\n",
        "  y1: <class 'rpy2.robjects.vectors.FloatVector'>\n",
        "  <FloatVector - Python:0x1123f77e8 / R:0x1143cf2c0>\n",
        "[NA_real_, NA_real_, 0.740898, ..., 0.448892, 0.660645, 0.766521]\n",
        "  x2: <class 'rpy2.robjects.vectors.FloatVector'>\n",
        "  <FloatVector - Python:0x1123f7908 / R:0x1143a3120>\n",
        "[NA_real_, NA_real_, 0.044202, ..., 0.924898, 0.822440, 0.881613]\n",
        "  y2: <class 'rpy2.robjects.vectors.FloatVector'>\n",
        "  <FloatVector - Python:0x1123f7c20 / R:0x1143a3250>\n",
        "[NA_real_, NA_real_, 0.760945, ..., 0.468939, 0.680692, 0.786568],\n",
        "       <StrVector - Python:0x1123fa320 / R:0x1107f5da8>\n",
        "[''],\n",
        "       <FloatVector - Python:0x1123fa638 / R:0x1107f5d78>\n",
        "[1.000000],\n",
        "       <ListVector - Python:0x1123facb0 / R:0x1015361b0>\n",
        "[FloatVector, FloatVector, FloatVector, FloatVector]\n",
        "  x1: <class 'rpy2.robjects.vectors.FloatVector'>\n",
        "  <FloatVector - Python:0x1123fad88 / R:0x1143a3380>\n",
        "[0.395556, -0.012616, NA_real_, ..., NA_real_, NA_real_, NA_real_]\n",
        "  y1: <class 'rpy2.robjects.vectors.FloatVector'>\n",
        "  <FloatVector - Python:0x111fe8bd8 / R:0x1143a34b0>\n",
        "[0.978274, 0.846775, NA_real_, ..., NA_real_, NA_real_, NA_real_]\n",
        "  x2: <class 'rpy2.robjects.vectors.FloatVector'>\n",
        "  <FloatVector - Python:0x111ff60e0 / R:0x1143a35e0>\n",
        "[0.509526, 0.220404, NA_real_, ..., NA_real_, NA_real_, NA_real_]\n",
        "  y2: <class 'rpy2.robjects.vectors.FloatVector'>\n",
        "  <FloatVector - Python:0x1123fabd8 / R:0x1143a3710>\n",
        "[0.998321, 0.866821, NA_real_, ..., NA_real_, NA_real_, NA_real_]], dtype=object)"
       ]
      }
     ],
     "prompt_number": 162
    },
    {
     "cell_type": "code",
     "collapsed": false,
     "input": [
      "%R StevensTree = rpart(Reverse ~ Circuit + Issue + Petitioner + Respondent + LowerCourt + Unconst, data=Train, method='class', control=rpart.control(minbucket=100))\n",
      "%R prp(StevensTree)"
     ],
     "language": "python",
     "metadata": {},
     "outputs": [
      {
       "metadata": {},
       "output_type": "display_data",
       "png": "[encoded data removed]"
      },
      {
       "metadata": {},
       "output_type": "pyout",
       "prompt_number": 186,
       "text": [
        "array([ <ListVector - Python:0x10cd28368 / R:0x10ef6c6a0>\n",
        "[DataF..., IntVe..., Vector, ..., Float..., IntVe..., Vector]\n",
        "<ListVector - Python:0x10cd28368 / R:0x10ef6c6a0>\n",
        "[DataF..., IntVe..., Vector, ..., Float..., IntVe..., Vector]\n",
        "  where: <class 'rpy2.robjects.vectors.IntVector'>\n",
        "  <IntVector - Python:0x112a727e8 / R:0x11055a600>\n",
        "[       2,        3,        3, ...,        3,        3,        2]\n",
        "  call: <class 'rpy2.robjects.vectors.Vector'>\n",
        "  <Vector - Python:0x112a722d8 / R:0x1106c1178>\n",
        "[RNULLType, Vector, Vector, Vector, Vector]\n",
        "  ...\n",
        "  frame: <class 'rpy2.robjects.vectors.FloatVector'>\n",
        "  <FloatVector - Python:0x112a72d40 / R:0x1104f8ae8>\n",
        "[15.803831, 6.406959, 6.321532, 3.758749, 1.537670, 1.110539]\n",
        "  where: <class 'rpy2.robjects.vectors.IntVector'>\n",
        "  <IntVector - Python:0x112a72d88 / R:0x114a65600>\n",
        "[       2,        2,        2, ...,        1,        1,        1]\n",
        "  call: <class 'rpy2.robjects.vectors.Vector'>\n",
        "  <Vector - Python:0x112a72b48 / R:0x1014dbd10>\n",
        "[       0,        0,        0,        0,        0,        0],\n",
        "       rpy2.rinterface.NULL,\n",
        "       <FloatVector - Python:0x10cd28d40 / R:0x1015e28e8>\n",
        "[-0.650000, 1.650000],\n",
        "       <FloatVector - Python:0x10cd28998 / R:0x1015e2920>\n",
        "[-1.950000, 2.950000],\n",
        "       <FloatVector - Python:0x10cd28d88 / R:0x1014dbd58>\n",
        "[0.500000, 0.021935, 0.978065],\n",
        "       <FloatVector - Python:0x10cd28488 / R:0x10ee48808>\n",
        "[0.965610, 0.009826, 0.009826],\n",
        "       <Matrix - Python:0x10cd28cb0 / R:0x10ef6bf48>\n",
        "[0.500000, NA_real_, NA_real_, ..., 0.978065, 0.595613, 0.500000],\n",
        "       <Matrix - Python:0x10cd28ef0 / R:0x10ef6bff0>\n",
        "[0.982334, NA_real_, NA_real_, ..., 0.160948, 0.965610, 0.965610],\n",
        "       <StrVector - Python:0x10cd285a8 / R:0x10ee488e0>\n",
        "[NA_character_, '0', '1'],\n",
        "       <FloatVector - Python:0x10cd28a28 / R:0x1027ab588>\n",
        "[1.000000],\n",
        "       <ListVector - Python:0x10cd1d320 / R:0x10ee48928>\n",
        "[FloatVector, FloatVector, FloatVector, FloatVector]\n",
        "  x1: <class 'rpy2.robjects.vectors.FloatVector'>\n",
        "  <FloatVector - Python:0x112a72248 / R:0x10ee48970>\n",
        "[NA_real_, -0.023952, 0.932178]\n",
        "  y1: <class 'rpy2.robjects.vectors.FloatVector'>\n",
        "  <FloatVector - Python:0x112a72320 / R:0x10ee489b8>\n",
        "[NA_real_, -0.040548, -0.040548]\n",
        "  x2: <class 'rpy2.robjects.vectors.FloatVector'>\n",
        "  <FloatVector - Python:0x112a72ef0 / R:0x10ee48a00>\n",
        "[NA_real_, 0.067822, 1.023952]\n",
        "  y2: <class 'rpy2.robjects.vectors.FloatVector'>\n",
        "  <FloatVector - Python:0x112a72e60 / R:0x10ee48a48>\n",
        "[NA_real_, 0.160948, 0.160948],\n",
        "       <StrVector - Python:0x10cd1de18 / R:0x1027ab5b8>\n",
        "[''],\n",
        "       <FloatVector - Python:0x10cd1db90 / R:0x1027ab5e8>\n",
        "[1.000000],\n",
        "       <ListVector - Python:0x10cd1d560 / R:0x10ee48ad8>\n",
        "[FloatVector, FloatVector, FloatVector, FloatVector]\n",
        "  x1: <class 'rpy2.robjects.vectors.FloatVector'>\n",
        "  <FloatVector - Python:0x112a72cf8 / R:0x10ee48b20>\n",
        "[0.231148, NA_real_, NA_real_]\n",
        "  y1: <class 'rpy2.robjects.vectors.FloatVector'>\n",
        "  <FloatVector - Python:0x112a72a28 / R:0x10ee48b68>\n",
        "[0.915236, NA_real_, NA_real_]\n",
        "  x2: <class 'rpy2.robjects.vectors.FloatVector'>\n",
        "  <FloatVector - Python:0x112a72ab8 / R:0x10ee48bb0>\n",
        "[0.768852, NA_real_, NA_real_]\n",
        "  y2: <class 'rpy2.robjects.vectors.FloatVector'>\n",
        "  <FloatVector - Python:0x112a722d8 / R:0x10ee48bf8>\n",
        "[1.116731, NA_real_, NA_real_]], dtype=object)"
       ]
      }
     ],
     "prompt_number": 186
    },
    {
     "cell_type": "code",
     "collapsed": false,
     "input": [
      "%R PredictROC[,2]"
     ],
     "language": "python",
     "metadata": {},
     "outputs": [
      {
       "metadata": {},
       "output_type": "pyout",
       "prompt_number": 172,
       "text": [
        "array([ 0.69642857,  0.69642857,  0.6       ,  0.6       ,  0.6       ,\n",
        "        0.69642857,  0.44827586,  0.44827586,  0.69642857,  0.44827586,\n",
        "        0.44827586,  0.6       ,  0.44827586,  0.69642857,  0.81578947,\n",
        "        0.6       ,  0.6       ,  0.6       ,  0.81578947,  0.69642857,\n",
        "        0.69642857,  0.44827586,  0.24      ,  0.81578947,  0.20895522,\n",
        "        0.20895522,  0.20895522,  0.20895522,  0.20895522,  0.20895522,\n",
        "        0.20895522,  0.20895522,  0.20895522,  0.20895522,  0.20895522,\n",
        "        0.20895522,  0.20895522,  0.69642857,  0.69642857,  0.69642857,\n",
        "        0.44827586,  0.21212121,  0.6       ,  0.21212121,  0.69642857,\n",
        "        0.24      ,  0.44827586,  0.9245283 ,  0.9245283 ,  0.9245283 ,\n",
        "        0.9245283 ,  0.9245283 ,  0.21212121,  0.9245283 ,  0.9245283 ,\n",
        "        0.9245283 ,  0.69642857,  0.69642857,  0.9245283 ,  0.20895522,\n",
        "        0.20895522,  0.9245283 ,  0.6       ,  0.24      ,  0.6       ,\n",
        "        0.21212121,  0.69642857,  0.21212121,  0.24      ,  0.24      ,\n",
        "        0.6       ,  0.69642857,  0.44827586,  0.24      ,  0.69642857,\n",
        "        0.69642857,  0.69642857,  0.44827586,  0.69642857,  0.44827586,\n",
        "        0.69642857,  0.6       ,  0.21212121,  0.6       ,  0.81578947,\n",
        "        0.6       ,  0.69642857,  0.21212121,  0.21212121,  0.21212121,\n",
        "        0.21212121,  0.21212121,  0.21212121,  0.21212121,  0.21212121,\n",
        "        0.6       ,  0.69642857,  0.69642857,  0.24      ,  0.44827586,\n",
        "        0.44827586,  0.69642857,  0.69642857,  0.69642857,  0.81578947,\n",
        "        0.69642857,  0.81578947,  0.69642857,  0.69642857,  0.6       ,\n",
        "        0.6       ,  0.44827586,  0.69642857,  0.69642857,  0.6       ,\n",
        "        0.81578947,  0.69642857,  0.81578947,  0.69642857,  0.6       ,\n",
        "        0.69642857,  0.21212121,  0.6       ,  0.21212121,  0.69642857,\n",
        "        0.69642857,  0.6       ,  0.24      ,  0.9245283 ,  0.20895522,\n",
        "        0.9245283 ,  0.20895522,  0.9245283 ,  0.9245283 ,  0.9245283 ,\n",
        "        0.9245283 ,  0.20895522,  0.9245283 ,  0.9245283 ,  0.9245283 ,\n",
        "        0.9245283 ,  0.9245283 ,  0.9245283 ,  0.9245283 ,  0.9245283 ,\n",
        "        0.9245283 ,  0.9245283 ,  0.9245283 ,  0.9245283 ,  0.9245283 ,\n",
        "        0.9245283 ,  0.9245283 ,  0.20895522,  0.81578947,  0.6       ,\n",
        "        0.6       ,  0.24      ,  0.6       ,  0.6       ,  0.6       ,\n",
        "        0.24      ,  0.81578947,  0.6       ,  0.24      ,  0.6       ,\n",
        "        0.20895522,  0.20895522,  0.20895522,  0.6       ,  0.81578947])"
       ]
      }
     ],
     "prompt_number": 172
    },
    {
     "cell_type": "code",
     "collapsed": false,
     "input": [
      "%R prediction(PredictROC[,2], Test$Reverse)"
     ],
     "language": "python",
     "metadata": {},
     "outputs": [
      {
       "output_type": "stream",
       "stream": "stdout",
       "text": [
        "Error in prediction(PredictROC[, 2], Test$Reverse) : \n",
        "  Format of labels is invalid.\n"
       ]
      }
     ],
     "prompt_number": 168
    },
    {
     "cell_type": "code",
     "collapsed": false,
     "input": [
      "%R prediction"
     ],
     "language": "python",
     "metadata": {},
     "outputs": [
      {
       "metadata": {},
       "output_type": "pyout",
       "prompt_number": 169,
       "text": [
        "array(<SignatureTranslatedFunction - Python:0x1123fd908 / R:0x10ecad950>, dtype=object)"
       ]
      }
     ],
     "prompt_number": 169
    },
    {
     "cell_type": "code",
     "collapsed": false,
     "input": [
      "%R pred = prediction(PredictROC[,2], Test$Reverse)"
     ],
     "language": "python",
     "metadata": {},
     "outputs": [
      {
       "output_type": "stream",
       "stream": "stdout",
       "text": [
        "Error in prediction(PredictROC[, 2], Test$Reverse) : \n",
        "  Format of labels is invalid.\n"
       ]
      }
     ],
     "prompt_number": 170
    },
    {
     "cell_type": "code",
     "collapsed": false,
     "input": [
      "columns = ['Circuit', 'Issue', 'Petitioner', 'Respondent', 'LowerCourt', 'Unconst']\n",
      "x = Train[columns]\n",
      "y = Train['Reverse']\n",
      "from sklearn.feature_extraction import DictVectorizer\n",
      "from sklearn.ensemble import RandomForestClassifier\n",
      "v = DictVectorizer()\n",
      "x = v.fit_transform(x.to_dict(outtype='records')).toarray()\n",
      "clf = RandomForestClassifier(n_estimators=200, min_samples_leaf=25)\n",
      "clf = clf.fit(x, y)"
     ],
     "language": "python",
     "metadata": {},
     "outputs": [],
     "prompt_number": 176
    },
    {
     "cell_type": "code",
     "collapsed": false,
     "input": [
      "%R library(randomForest)"
     ],
     "language": "python",
     "metadata": {},
     "outputs": [
      {
       "metadata": {},
       "output_type": "pyout",
       "prompt_number": 216,
       "text": [
        "array(['randomForest', 'ROCR', 'gplots', 'rpart.plot', 'rpart', 'caTools',\n",
        "       'tools', 'stats', 'graphics', 'grDevices', 'utils', 'datasets',\n",
        "       'methods', 'base'], \n",
        "      dtype='|S12')"
       ]
      }
     ],
     "prompt_number": 216
    },
    {
     "cell_type": "code",
     "collapsed": false,
     "input": [
      "%R Train$Reverse = as.factor(Train$Reverse)\n",
      "%R StevensForest = randomForest(Reverse ~ Circuit + Issue + Petitioner + Respondent + LowerCourt + Unconst, data=Train, nodesize=25, ntree=200)"
     ],
     "language": "python",
     "metadata": {},
     "outputs": [
      {
       "metadata": {},
       "output_type": "pyout",
       "prompt_number": 221,
       "text": [
        "array([ <Vector - Python:0x112a90638 / R:0x11485bcd8>\n",
        "[RNULLType, Vector, Vector, Vector, Vector],\n",
        "       <StrVector - Python:0x112a90050 / R:0x115163268>\n",
        "['classification'],\n",
        "       <FactorVector - Python:0x112a90d40 / R:0x1105d4400>\n",
        "[       2,        2,        1, ...,        2,        2,        1],\n",
        "       <Matrix - Python:0x112a90950 / R:0x113946400>\n",
        "[0.386667, 0.410042, 0.426117, ..., 0.273148, 0.273148, 0.268519],\n",
        "       <Matrix - Python:0x112a90c68 / R:0x113807de0>\n",
        "[95.000000, 58.000000, 85.000000, 158.000000, 0.472222, 0.268519],\n",
        "       <Matrix - Python:0x112a90e60 / R:0x1139d1800>\n",
        "[0.325000, 0.450704, 0.500000, ..., 0.675676, 0.514706, 0.240000],\n",
        "       <FloatVector - Python:0x112a90758 / R:0x113968200>\n",
        "[80.000000, 71.000000, 62.000000, ..., 74.000000, 68.000000, 75.000000],\n",
        "       <StrVector - Python:0x112a90f80 / R:0x1148cf078>\n",
        "['0', '1'],\n",
        "       <Matrix - Python:0x112a90248 / R:0x113807e38>\n",
        "[18.305715, 11.461162, 16.755558, 18.177739, 8.350007, 1.071992],\n",
        "       rpy2.rinterface.NULL, rpy2.rinterface.NULL, rpy2.rinterface.NULL,\n",
        "       <FloatVector - Python:0x112a909e0 / R:0x115160c38>\n",
        "[200.000000],\n",
        "       <FloatVector - Python:0x112a90368 / R:0x115160c68>\n",
        "[2.000000],\n",
        "       <ListVector - Python:0x112a90cf8 / R:0x10ef7c4a8>\n",
        "[IntVe..., Matrix, Matrix, ..., Float..., IntVe..., ListV...]\n",
        "  ndbigtree: <class 'rpy2.robjects.vectors.IntVector'>\n",
        "  <IntVector - Python:0x112a88320 / R:0x11301eac0>\n",
        "[      31,       31,       31, ...,       31,       31,       23]\n",
        "  nodestatus: <class 'rpy2.robjects.vectors.Matrix'>\n",
        "  <Matrix - Python:0x112a88128 / R:0x113aa4a00>\n",
        "[       1,        1,        1, ...,        0,        0,        0]\n",
        "  bestvar: <class 'rpy2.robjects.vectors.Matrix'>\n",
        "  <Matrix - Python:0x10cd25b90 / R:0x113aaac00>\n",
        "[       3,        2,        6, ...,        0,        0,        0]\n",
        "  ...\n",
        "  ndbigtree: <class 'rpy2.robjects.vectors.FloatVector'>\n",
        "  <FloatVector - Python:0x1123fde60 / R:0x115160ea8>\n",
        "[200.000000]\n",
        "  nodestatus: <class 'rpy2.robjects.vectors.IntVector'>\n",
        "  <IntVector - Python:0x112a88170 / R:0x115160ed8>\n",
        "[       2]\n",
        "<ListVector - Python:0x112a90cf8 / R:0x10ef7c4a8>\n",
        "[IntVe..., Matrix, Matrix, ..., Float..., IntVe..., ListV...],\n",
        "       <FactorVector - Python:0x112a90680 / R:0x110214000>\n",
        "[       2,        2,        2, ...,        1,        1,        1],\n",
        "       rpy2.rinterface.NULL, rpy2.rinterface.NULL,\n",
        "       <Formula - Python:0x112a90128 / R:0x115013468>], dtype=object)"
       ]
      }
     ],
     "prompt_number": 221
    },
    {
     "cell_type": "code",
     "collapsed": false,
     "input": [
      "%R Train$Circuit"
     ],
     "language": "python",
     "metadata": {},
     "outputs": [
      {
       "metadata": {},
       "output_type": "pyout",
       "prompt_number": 218,
       "text": [
        "array(['9th', '7th', 'FED', 'DC', '11th', '2nd', '6th', '9th', '7th',\n",
        "       '3rd', '9th', '10th', 'DC', '2nd', '8th', '6th', 'DC', '8th', '9th',\n",
        "       '9th', '10th', '9th', '8th', '6th', '9th', '8th', '7th', '7th',\n",
        "       'FED', '9th', '9th', '9th', '9th', '11th', '9th', '5th', '5th',\n",
        "       '7th', '11th', 'DC', '9th', '5th', 'FED', '7th', '6th', '10th',\n",
        "       'DC', '4th', '6th', '5th', '8th', '9th', '4th', 'FED', '6th', 'FED',\n",
        "       'DC', '3rd', '7th', 'FED', '7th', '8th', '11th', '7th', '2nd',\n",
        "       '2nd', '7th', '9th', '9th', '8th', '6th', '3rd', '2nd', '9th',\n",
        "       '9th', '9th', '4th', '6th', '9th', '9th', '8th', '10th', '7th',\n",
        "       '2nd', '2nd', '9th', '11th', '6th', '7th', '11th', '2nd', '11th',\n",
        "       '11th', '2nd', '9th', '5th', '3rd', '9th', '9th', '9th', '8th',\n",
        "       '10th', '1st', '9th', '9th', '8th', '3rd', '9th', '6th', '9th',\n",
        "       '9th', '9th', '9th', '6th', '9th', 'DC', '9th', '3rd', '4th', '9th',\n",
        "       '9th', '7th', '9th', '4th', 'FED', '7th', '2nd', 'FED', '4th',\n",
        "       '5th', '5th', '11th', '8th', '11th', '10th', '4th', '8th', '9th',\n",
        "       '5th', '4th', '10th', '10th', '10th', '9th', '8th', '10th', '9th',\n",
        "       '9th', '8th', '9th', '9th', '3rd', '11th', '6th', '11th', '2nd',\n",
        "       '4th', '5th', '5th', '9th', '8th', '6th', '5th', '8th', '11th',\n",
        "       '5th', '4th', '11th', '9th', '4th', '4th', '11th', '11th', '9th',\n",
        "       '3rd', 'FED', '7th', '10th', '11th', '3rd', '5th', '10th', '4th',\n",
        "       '11th', 'DC', '4th', '2nd', '8th', '8th', '1st', '6th', '3rd',\n",
        "       '3rd', '7th', '4th', '10th', '9th', '6th', '5th', '7th', '9th',\n",
        "       '7th', '9th', '7th', '11th', '9th', '3rd', '9th', '4th', '11th',\n",
        "       '3rd', '4th', '3rd', '1st', '5th', 'DC', '3rd', '9th', '4th',\n",
        "       '11th', '2nd', '9th', '9th', '11th', '1st', '8th', '11th', 'FED',\n",
        "       'DC', '6th', '2nd', '11th', '9th', '7th', '6th', '9th', '4th',\n",
        "       'FED', '9th', 'DC', '6th', 'DC', '9th', '2nd', '9th', '9th', '5th',\n",
        "       '9th', 'DC', '5th', '2nd', '4th', '9th', '7th', '9th', '11th',\n",
        "       '11th', '11th', '2nd', '11th', 'FED', '6th', '4th', '9th', '7th',\n",
        "       '11th', '9th', '6th', '5th', '2nd', '5th', '2nd', '5th', '5th',\n",
        "       '9th', '10th', '8th', 'FED', '10th', '11th', '9th', '8th', '10th',\n",
        "       '9th', 'DC', '10th', 'DC', '5th', '9th', '6th', '8th', 'FED', '5th',\n",
        "       '2nd', '4th', '9th', '8th', '8th', '11th', '5th', '5th', '4th',\n",
        "       '8th', '8th', 'DC', '10th', '4th', '9th', '11th', '1st', '11th',\n",
        "       '11th', '8th', '5th', '5th', '11th', '11th', '7th', '7th', '5th',\n",
        "       '8th', '4th', 'FED', '3rd', '4th', '5th', '4th', '4th', '4th',\n",
        "       '4th', '5th', '5th', '8th', '4th', '9th', '1st', '11th', '6th',\n",
        "       '10th', '10th', '10th', '5th', '9th', '4th', '11th', 'FED', '9th',\n",
        "       '10th', '5th', '10th', 'DC', '7th', '7th', '7th', '3rd', 'DC',\n",
        "       '2nd', '9th', '11th', '11th', '2nd', '5th', '5th', '7th', '2nd',\n",
        "       '8th', '7th', '8th', '10th', '9th', '2nd', '3rd', '3rd', '5th',\n",
        "       '5th', '4th', '3rd', '7th', '7th', '5th', '10th', '5th', '8th',\n",
        "       'DC', '6th', 'FED', 'FED', 'FED', 'DC', '11th', '2nd', '6th', '5th',\n",
        "       '9th', 'DC', '9th'], \n",
        "      dtype='|S4')"
       ]
      }
     ],
     "prompt_number": 218
    },
    {
     "cell_type": "code",
     "collapsed": false,
     "input": [
      "%R str(Train)"
     ],
     "language": "python",
     "metadata": {},
     "outputs": [
      {
       "metadata": {},
       "output_type": "display_data",
       "text": [
        "'data.frame':\t396 obs. of  9 variables:\n",
        " $ Docket    :Class 'AsIs'  chr [1:396] \"93-1577\" \"94-1175\" \"95-728\" \"96-843\" ...\n",
        " $ Term      :Class 'AsIs'  int [1:396] 1994 1995 1996 1997 1999 1999 2000 2000 1994 1999 ...\n",
        " $ Circuit   :Class 'AsIs'  chr [1:396] \"9th\" \"7th\" \"FED\" \"DC\" ...\n",
        " $ Issue     :Class 'AsIs'  chr [1:396] \"EconomicActivity\" \"JudicialPower\" \"EconomicActivity\" \"EconomicActivity\" ...\n",
        " $ Petitioner:Class 'AsIs'  chr [1:396] \"BUSINESS\" \"BUSINESS\" \"BUSINESS\" \"BUSINESS\" ...\n",
        " $ Respondent:Class 'AsIs'  chr [1:396] \"BUSINESS\" \"BUSINESS\" \"BUSINESS\" \"BUSINESS\" ...\n",
        " $ LowerCourt:Class 'AsIs'  chr [1:396] \"liberal\" \"conser\" \"conser\" \"conser\" ...\n",
        " $ Unconst   :Class 'AsIs'  int [1:396] 0 0 0 0 0 0 1 1 0 0 ...\n",
        " $ Reverse   : Factor w/ 2 levels \"0\",\"1\": 2 2 2 2 2 2 2 2 1 1 ...\n"
       ]
      }
     ],
     "prompt_number": 197
    },
    {
     "cell_type": "code",
     "collapsed": false,
     "input": [
      "test_x = Test[columns]\n",
      "test_x = v.transform(test_x.to_dict(outtype='records')).toarray()\n",
      "predictTest = pd.Series(clf.predict(test_x), name='predictTest')\n",
      "pd.crosstab(Test['Reverse'].reset_index(drop=True), predictTest)"
     ],
     "language": "python",
     "metadata": {},
     "outputs": [
      {
       "html": [
        "<div style=\"max-height:1000px;max-width:1500px;overflow:auto;\">\n",
        "<table border=\"1\" class=\"dataframe\">\n",
        "  <thead>\n",
        "    <tr style=\"text-align: right;\">\n",
        "      <th>predictTest</th>\n",
        "      <th>0</th>\n",
        "      <th>1</th>\n",
        "    </tr>\n",
        "    <tr>\n",
        "      <th>Reverse</th>\n",
        "      <th></th>\n",
        "      <th></th>\n",
        "    </tr>\n",
        "  </thead>\n",
        "  <tbody>\n",
        "    <tr>\n",
        "      <th>0</th>\n",
        "      <td> 51</td>\n",
        "      <td> 26</td>\n",
        "    </tr>\n",
        "    <tr>\n",
        "      <th>1</th>\n",
        "      <td> 22</td>\n",
        "      <td> 71</td>\n",
        "    </tr>\n",
        "  </tbody>\n",
        "</table>\n",
        "<p>2 rows \u00d7 2 columns</p>\n",
        "</div>"
       ],
       "metadata": {},
       "output_type": "pyout",
       "prompt_number": 184,
       "text": [
        "predictTest   0   1\n",
        "Reverse            \n",
        "0            51  26\n",
        "1            22  71\n",
        "\n",
        "[2 rows x 2 columns]"
       ]
      }
     ],
     "prompt_number": 184
    },
    {
     "cell_type": "code",
     "collapsed": false,
     "input": [
      "%R Train"
     ],
     "language": "python",
     "metadata": {},
     "outputs": [
      {
       "metadata": {},
       "output_type": "pyout",
       "prompt_number": 185,
       "text": [
        "array([['93-1577', '94-1175', '95-728', ..., '99-8508', '97-29', '00-189'],\n",
        "       ['1994', '1995', '1996', ..., '2000', '1997', '2000'],\n",
        "       ['9th', '7th', 'FED', ..., '9th', 'DC', '9th'],\n",
        "       ..., \n",
        "       ['liberal', 'conser', 'conser', ..., 'conser', 'conser', 'liberal'],\n",
        "       ['0', '0', '0', ..., '1', '0', '0'],\n",
        "       ['2', '2', '2', ..., '1', '1', '1']], \n",
        "      dtype='|S32')"
       ]
      }
     ],
     "prompt_number": 185
    },
    {
     "cell_type": "code",
     "collapsed": false,
     "input": [
      "Train['Term'].isnull().value_counts()"
     ],
     "language": "python",
     "metadata": {},
     "outputs": [
      {
       "metadata": {},
       "output_type": "pyout",
       "prompt_number": 209,
       "text": [
        "False    396\n",
        "dtype: int64"
       ]
      }
     ],
     "prompt_number": 209
    },
    {
     "cell_type": "code",
     "collapsed": false,
     "input": [
      "%R set.seed(100)\n",
      "%R StevensForest = randomForest(Reverse ~ Circuit + Issue + Petitioner + Respondent + LowerCourt + Unconst, data=Train, nodesize=25, ntree=200)"
     ],
     "language": "python",
     "metadata": {},
     "outputs": [
      {
       "metadata": {},
       "output_type": "pyout",
       "prompt_number": 222,
       "text": [
        "array([ <Vector - Python:0x112aa4200 / R:0x1107eca38>\n",
        "[RNULLType, Vector, Vector, Vector, Vector],\n",
        "       <StrVector - Python:0x112aa4c20 / R:0x11384c6a8>\n",
        "['classification'],\n",
        "       <FactorVector - Python:0x112407440 / R:0x11800c000>\n",
        "[       2,        1,        2, ...,        2,        1,        1],\n",
        "       <Matrix - Python:0x112a903b0 / R:0x113a42800>\n",
        "[0.418440, 0.391667, 0.429530, ..., 0.277778, 0.277778, 0.277778],\n",
        "       <Matrix - Python:0x112a90518 / R:0x1100c3f88>\n",
        "[99.000000, 60.000000, 81.000000, 156.000000, 0.450000, 0.277778],\n",
        "       <Matrix - Python:0x112407680 / R:0x113a43c00>\n",
        "[0.302632, 0.579710, 0.445946, ..., 0.679487, 0.428571, 0.266667],\n",
        "       <FloatVector - Python:0x112aa4488 / R:0x113a46400>\n",
        "[76.000000, 69.000000, 74.000000, ..., 78.000000, 70.000000, 75.000000],\n",
        "       <StrVector - Python:0x112aa4560 / R:0x114851778>\n",
        "['0', '1'],\n",
        "       <Matrix - Python:0x112a90440 / R:0x1100c4038>\n",
        "[18.983005, 11.628641, 15.458450, 18.596479, 8.148092, 1.325255],\n",
        "       rpy2.rinterface.NULL, rpy2.rinterface.NULL, rpy2.rinterface.NULL,\n",
        "       <FloatVector - Python:0x112a90200 / R:0x11384c7f8>\n",
        "[200.000000],\n",
        "       <FloatVector - Python:0x112a906c8 / R:0x11384c828>\n",
        "[2.000000],\n",
        "       <ListVector - Python:0x112a90a70 / R:0x1148472a8>\n",
        "[IntVe..., Matrix, Matrix, ..., Float..., IntVe..., ListV...]\n",
        "  ndbigtree: <class 'rpy2.robjects.vectors.IntVector'>\n",
        "  <IntVector - Python:0x112a88290 / R:0x11301a1e0>\n",
        "[      31,       31,       31, ...,       31,       25,       31]\n",
        "  nodestatus: <class 'rpy2.robjects.vectors.Matrix'>\n",
        "  <Matrix - Python:0x10cd251b8 / R:0x113b1fc00>\n",
        "[       1,        1,        1, ...,       -1,       -1,       -1]\n",
        "  bestvar: <class 'rpy2.robjects.vectors.Matrix'>\n",
        "  <Matrix - Python:0x10cd25440 / R:0x113b25e00>\n",
        "[       1,        5,        4, ...,        0,        0,        0]\n",
        "  ...\n",
        "  ndbigtree: <class 'rpy2.robjects.vectors.FloatVector'>\n",
        "  <FloatVector - Python:0x10cd25518 / R:0x11384c978>\n",
        "[200.000000]\n",
        "  nodestatus: <class 'rpy2.robjects.vectors.IntVector'>\n",
        "  <IntVector - Python:0x10cd25290 / R:0x11384c9a8>\n",
        "[       2]\n",
        "<ListVector - Python:0x112a90a70 / R:0x1148472a8>\n",
        "[IntVe..., Matrix, Matrix, ..., Float..., IntVe..., ListV...],\n",
        "       <FactorVector - Python:0x112a907a0 / R:0x1017f7600>\n",
        "[       2,        2,        2, ...,        1,        1,        1],\n",
        "       rpy2.rinterface.NULL, rpy2.rinterface.NULL,\n",
        "       <Formula - Python:0x112a90bd8 / R:0x10ef7d550>], dtype=object)"
       ]
      }
     ],
     "prompt_number": 222
    },
    {
     "cell_type": "code",
     "collapsed": false,
     "input": [
      "%R PredictForest = predict(StevensForest, newdata=Test)"
     ],
     "language": "python",
     "metadata": {},
     "outputs": [
      {
       "metadata": {},
       "output_type": "pyout",
       "prompt_number": 223,
       "text": [
        "array([2, 2, 2, 2, 2, 2, 1, 1, 2, 2, 1, 2, 2, 2, 2, 2, 2, 2, 2, 2, 2, 1, 2,\n",
        "       2, 1, 1, 1, 1, 1, 1, 1, 1, 1, 1, 1, 1, 1, 2, 1, 2, 1, 1, 1, 1, 1, 2,\n",
        "       1, 2, 2, 2, 2, 2, 2, 2, 2, 2, 2, 2, 2, 1, 1, 2, 2, 1, 2, 1, 1, 1, 1,\n",
        "       1, 2, 1, 1, 1, 1, 1, 2, 1, 1, 1, 2, 1, 1, 2, 2, 2, 2, 1, 1, 1, 1, 1,\n",
        "       1, 1, 1, 2, 2, 1, 2, 2, 2, 2, 2, 2, 2, 2, 2, 2, 1, 2, 2, 1, 2, 2, 2,\n",
        "       2, 2, 2, 2, 2, 1, 1, 2, 1, 2, 1, 2, 2, 2, 1, 2, 1, 2, 2, 2, 2, 2, 2,\n",
        "       2, 2, 2, 2, 2, 2, 2, 2, 2, 2, 2, 2, 2, 2, 2, 2, 2, 2, 2, 2, 2, 2, 2,\n",
        "       2, 2, 2, 2, 1, 1, 1, 2, 2], dtype=int32)"
       ]
      }
     ],
     "prompt_number": 223
    },
    {
     "cell_type": "code",
     "collapsed": false,
     "input": [
      "%R table(Test$Reverse, PredictForest)"
     ],
     "language": "python",
     "metadata": {},
     "outputs": [
      {
       "metadata": {},
       "output_type": "pyout",
       "prompt_number": 224,
       "text": [
        "array([[43, 34],\n",
        "       [19, 74]], dtype=int32)"
       ]
      }
     ],
     "prompt_number": 224
    },
    {
     "cell_type": "code",
     "collapsed": false,
     "input": [
      "(43+74)/(43+34+19+74.0)"
     ],
     "language": "python",
     "metadata": {},
     "outputs": [
      {
       "metadata": {},
       "output_type": "pyout",
       "prompt_number": 226,
       "text": [
        "0.6882352941176471"
       ]
      }
     ],
     "prompt_number": 226
    },
    {
     "cell_type": "code",
     "collapsed": false,
     "input": [
      "%R set.seed(200)\n",
      "%R StevensForest = randomForest(Reverse ~ Circuit + Issue + Petitioner + Respondent + LowerCourt + Unconst, data=Train, nodesize=25, ntree=200)\n",
      "%R PredictForest = predict(StevensForest, newdata=Test)\n",
      "%R table(Test$Reverse, PredictForest)"
     ],
     "language": "python",
     "metadata": {},
     "outputs": [
      {
       "metadata": {},
       "output_type": "pyout",
       "prompt_number": 227,
       "text": [
        "array([[44, 33],\n",
        "       [17, 76]], dtype=int32)"
       ]
      }
     ],
     "prompt_number": 227
    },
    {
     "cell_type": "code",
     "collapsed": false,
     "input": [
      "(43+76)/(44+33+17+76.0)"
     ],
     "language": "python",
     "metadata": {},
     "outputs": [
      {
       "metadata": {},
       "output_type": "pyout",
       "prompt_number": 228,
       "text": [
        "0.7"
       ]
      }
     ],
     "prompt_number": 228
    },
    {
     "cell_type": "code",
     "collapsed": false,
     "input": [
      "%R install.packages('caret')"
     ],
     "language": "python",
     "metadata": {},
     "outputs": [
      {
       "metadata": {},
       "output_type": "display_data",
       "text": [
        "also installing the dependencies \u2018iterators\u2019, \u2018foreach\u2019\n",
        "\n",
        "trying URL 'http://mirror.bjtu.edu.cn/cran/bin/macosx/contrib/3.0/iterators_1.0.6.tgz'\n",
        "Error in download.file(url, destfile, method, mode = \"wb\", ...) : \n",
        "  cannot open URL 'http://mirror.bjtu.edu.cn/cran/bin/macosx/contrib/3.0/iterators_1.0.6.tgz'\n",
        "In addition: Warning message:\n",
        "In download.file(url, destfile, method, mode = \"wb\", ...) :\n",
        "  too many redirects, aborting ...\n",
        "Warning in download.packages(pkgs, destdir = tmpd, available = available,  :\n",
        "  download of package \u2018iterators\u2019 failed\n",
        "trying URL 'http://mirror.bjtu.edu.cn/cran/bin/macosx/contrib/3.0/foreach_1.4.1.tgz'\n",
        "Error in download.file(url, destfile, method, mode = \"wb\", ...) : \n",
        "  cannot open URL 'http://mirror.bjtu.edu.cn/cran/bin/macosx/contrib/3.0/foreach_1.4.1.tgz'\n",
        "In addition: Warning message:\n",
        "In download.file(url, destfile, method, mode = \"wb\", ...) :\n",
        "  too many redirects, aborting ...\n",
        "Warning in download.packages(pkgs, destdir = tmpd, available = available,  :\n",
        "  download of package \u2018foreach\u2019 failed\n",
        "trying URL 'http://mirror.bjtu.edu.cn/cran/bin/macosx/contrib/3.0/caret_6.0-24.tgz'\n",
        "Content type 'application/octet-stream' length 3614597 bytes (3.4 Mb)\n",
        "opened URL\n",
        "==================================================\n",
        "downloaded 3.4 Mb\n",
        "\n",
        "\n",
        "The downloaded binary packages are in\n",
        "\t/var/folders/c9/pyfr0q9x5ysgbhs95sv08c700000gn/T//RtmpJcpods/downloaded_packages\n"
       ]
      }
     ],
     "prompt_number": 236
    },
    {
     "cell_type": "code",
     "collapsed": false,
     "input": [
      "%R StevensCV = rpart(Reverse ~ Circuit + Issue + Petitioner + Respondent + LowerCourt + Unconst, method='class', data=Train, control=rpart.control(cp=0.18))"
     ],
     "language": "python",
     "metadata": {},
     "outputs": [
      {
       "metadata": {},
       "output_type": "pyout",
       "prompt_number": 237,
       "text": [
        "array([ <DataFrame - Python:0x112a948c0 / R:0x1304147f0>\n",
        "[Facto..., IntVe..., Float..., ..., IntVe..., IntVe..., Matrix]\n",
        "  var: <class 'rpy2.robjects.vectors.FactorVector'>\n",
        "  <FactorVector - Python:0x112a9a680 / R:0x124261788>\n",
        "[       2,        1,        1]\n",
        "  n: <class 'rpy2.robjects.vectors.IntVector'>\n",
        "  <IntVector - Python:0x112a9a0e0 / R:0x124336140>\n",
        "[     396,      185,      211]\n",
        "  wt: <class 'rpy2.robjects.vectors.FloatVector'>\n",
        "  <FloatVector - Python:0x112a9aa28 / R:0x130881640>\n",
        "[396.000000, 185.000000, 211.000000]\n",
        "  ...\n",
        "  var: <class 'rpy2.robjects.vectors.IntVector'>\n",
        "  <IntVector - Python:0x112a9a9e0 / R:0x124336108>\n",
        "[       4,        0,        0]\n",
        "  n: <class 'rpy2.robjects.vectors.IntVector'>\n",
        "  <IntVector - Python:0x112a9a758 / R:0x1243360d0>\n",
        "[       5,        0,        0]\n",
        "  wt: <class 'rpy2.robjects.vectors.Matrix'>\n",
        "  <Matrix - Python:0x112a9a440 / R:0x1144e4200>\n",
        "[2.000000, 1.000000, 2.000000, ..., 1.000000, 0.467172, 0.532828],\n",
        "       <IntVector - Python:0x112a943f8 / R:0x130414a00>\n",
        "[       2,        3,        3, ...,        3,        3,        2],\n",
        "       <Vector - Python:0x112a94098 / R:0x110587870>\n",
        "[RNULLType, Vector, Vector, Vector, Vector],\n",
        "       <Formula - Python:0x112a9ac20 / R:0x110587070>,\n",
        "       <Matrix - Python:0x112a9aa70 / R:0x1304146a0>\n",
        "[0.216667, 0.180000, 0.000000, ..., 0.838889, 0.055048, 0.053697],\n",
        "       <StrVector - Python:0x112a94ea8 / R:0x128ac82b8>\n",
        "['class'],\n",
        "       <ListVector - Python:0x112a9a950 / R:0x130906c90>\n",
        "[Array, Matrix, FloatVector]\n",
        "  prior: <class 'rpy2.robjects.vectors.Array'>\n",
        "  <Array - Python:0x112a9ae18 / R:0x124335f10>\n",
        "[0.454545, 0.545455]\n",
        "  loss: <class 'rpy2.robjects.vectors.Matrix'>\n",
        "  <Matrix - Python:0x112a9aa28 / R:0x130906db0>\n",
        "[0.000000, 1.000000, 1.000000, 0.000000]\n",
        "  split: <class 'rpy2.robjects.vectors.FloatVector'>\n",
        "  <FloatVector - Python:0x112a9ae60 / R:0x128ac81f8>\n",
        "[1.000000],\n",
        "       <ListVector - Python:0x112a9aab8 / R:0x1304145f8>\n",
        "[IntVe..., Float..., Float..., ..., IntVe..., IntVe..., IntVe...]\n",
        "  minsplit: <class 'rpy2.robjects.vectors.IntVector'>\n",
        "  <IntVector - Python:0x112a9acb0 / R:0x128ac81c8>\n",
        "[      20]\n",
        "  minbucket: <class 'rpy2.robjects.vectors.FloatVector'>\n",
        "  <FloatVector - Python:0x112a94a70 / R:0x128ac8198>\n",
        "[7.000000]\n",
        "  cp: <class 'rpy2.robjects.vectors.FloatVector'>\n",
        "  <FloatVector - Python:0x112a94518 / R:0x128ac8168>\n",
        "[0.180000]\n",
        "  ...\n",
        "  minsplit: <class 'rpy2.robjects.vectors.IntVector'>\n",
        "  <IntVector - Python:0x112a94170 / R:0x128ac80a8>\n",
        "[       0]\n",
        "  minbucket: <class 'rpy2.robjects.vectors.IntVector'>\n",
        "  <IntVector - Python:0x112a94b90 / R:0x128ac8078>\n",
        "[      30]\n",
        "  cp: <class 'rpy2.robjects.vectors.IntVector'>\n",
        "  <IntVector - Python:0x112aa4ef0 / R:0x128ac8048>\n",
        "[      10],\n",
        "       <ListVector - Python:0x112a9a098 / R:0x130906250>\n",
        "[SignatureTrans..., SignatureTrans..., SignatureTrans...]\n",
        "  summary: <class 'rpy2.robjects.functions.SignatureTranslatedFunction'>\n",
        "  <SignatureTranslatedFunction - Python:0x112a8e7a0 / R:0x110584918>\n",
        "  print: <class 'rpy2.robjects.functions.SignatureTranslatedFunction'>\n",
        "  <SignatureTranslatedFunction - Python:0x112a8ee60 / R:0x110584950>\n",
        "  text: <class 'rpy2.robjects.functions.SignatureTranslatedFunction'>\n",
        "  <SignatureTranslatedFunction - Python:0x112a8e7a0 / R:0x110584988>,\n",
        "       <IntVector - Python:0x112a9a908 / R:0x128ac8018>\n",
        "[       4],\n",
        "       <Matrix - Python:0x112a9af38 / R:0x119c1a5c0>\n",
        "[396.000000, 396.000000, 396.000000, ..., 0.237838, 0.097297, 0.070270],\n",
        "       <Matrix - Python:0x112a9ab90 / R:0x119c19480>\n",
        "[       3,        3,        1, ...,        2,        1,        2],\n",
        "       <FloatVector - Python:0x112a9a368 / R:0x130413e28>\n",
        "[15.803831, 6.406959, 6.321532, 3.758749, 1.537670, 1.110539],\n",
        "       <IntVector - Python:0x112a9add0 / R:0x13040f200>\n",
        "[       2,        2,        2, ...,        1,        1,        1],\n",
        "       <Vector - Python:0x112a9afc8 / R:0x122d35e40>\n",
        "[       0,        0,        0,        0,        0,        0]], dtype=object)"
       ]
      }
     ],
     "prompt_number": 237
    },
    {
     "cell_type": "code",
     "collapsed": false,
     "input": [
      "%R prp(StevensCV)"
     ],
     "language": "python",
     "metadata": {},
     "outputs": [
      {
       "metadata": {},
       "output_type": "display_data",
       "png": "[encoded data removed]"
      },
      {
       "metadata": {},
       "output_type": "pyout",
       "prompt_number": 240,
       "text": [
        "array([ <ListVector - Python:0x10cd495a8 / R:0x130412c00>\n",
        "[DataF..., IntVe..., Vector, ..., Float..., IntVe..., Vector]\n",
        "<ListVector - Python:0x10cd495a8 / R:0x130412c00>\n",
        "[DataF..., IntVe..., Vector, ..., Float..., IntVe..., Vector]\n",
        "  where: <class 'rpy2.robjects.vectors.IntVector'>\n",
        "  <IntVector - Python:0x103512128 / R:0x128d68c00>\n",
        "[       2,        3,        3, ...,        3,        3,        2]\n",
        "  call: <class 'rpy2.robjects.vectors.Vector'>\n",
        "  <Vector - Python:0x112a9ab00 / R:0x128d68520>\n",
        "[RNULLType, Vector, Vector, Vector, Vector]\n",
        "  ...\n",
        "  frame: <class 'rpy2.robjects.vectors.FloatVector'>\n",
        "  <FloatVector - Python:0x112a9a050 / R:0x12d218260>\n",
        "[15.803831, 6.406959, 6.321532, 3.758749, 1.537670, 1.110539]\n",
        "  where: <class 'rpy2.robjects.vectors.IntVector'>\n",
        "  <IntVector - Python:0x112a9a710 / R:0x128d6ca00>\n",
        "[       2,        2,        2, ...,        1,        1,        1]\n",
        "  call: <class 'rpy2.robjects.vectors.Vector'>\n",
        "  <Vector - Python:0x112a9aef0 / R:0x122d32ed0>\n",
        "[       0,        0,        0,        0,        0,        0],\n",
        "       rpy2.rinterface.NULL,\n",
        "       <FloatVector - Python:0x10cd494d0 / R:0x128d460e0>\n",
        "[-0.650000, 1.650000],\n",
        "       <FloatVector - Python:0x112a7a4d0 / R:0x128d46118>\n",
        "[-1.950000, 2.950000],\n",
        "       <FloatVector - Python:0x111c57c68 / R:0x122d32f18>\n",
        "[0.500000, 0.021935, 0.978065],\n",
        "       <FloatVector - Python:0x111c3dcb0 / R:0x122d32fa8>\n",
        "[0.965610, 0.009826, 0.009826],\n",
        "       <Matrix - Python:0x112a7f4d0 / R:0x1304124a8>\n",
        "[0.500000, NA_real_, NA_real_, ..., 0.978065, 0.595613, 0.500000],\n",
        "       <Matrix - Python:0x112a7fbd8 / R:0x130412550>\n",
        "[0.982334, NA_real_, NA_real_, ..., 0.160948, 0.965610, 0.965610],\n",
        "       <StrVector - Python:0x111c3db90 / R:0x122d33080>\n",
        "[NA_character_, '0', '1'],\n",
        "       <FloatVector - Python:0x11200e5a8 / R:0x1151a1ac8>\n",
        "[1.000000],\n",
        "       <ListVector - Python:0x111f6fb48 / R:0x122d330c8>\n",
        "[FloatVector, FloatVector, FloatVector, FloatVector]\n",
        "  x1: <class 'rpy2.robjects.vectors.FloatVector'>\n",
        "  <FloatVector - Python:0x112a78170 / R:0x122d33110>\n",
        "[NA_real_, -0.023952, 0.932178]\n",
        "  y1: <class 'rpy2.robjects.vectors.FloatVector'>\n",
        "  <FloatVector - Python:0x112a78638 / R:0x122d32370>\n",
        "[NA_real_, -0.040548, -0.040548]\n",
        "  x2: <class 'rpy2.robjects.vectors.FloatVector'>\n",
        "  <FloatVector - Python:0x112a78908 / R:0x122d32400>\n",
        "[NA_real_, 0.067822, 1.023952]\n",
        "  y2: <class 'rpy2.robjects.vectors.FloatVector'>\n",
        "  <FloatVector - Python:0x112a78bd8 / R:0x122d32490>\n",
        "[NA_real_, 0.160948, 0.160948],\n",
        "       <StrVector - Python:0x112a7a6c8 / R:0x1151a1af8>\n",
        "[''],\n",
        "       <FloatVector - Python:0x112a7a3b0 / R:0x1151a1b28>\n",
        "[1.000000],\n",
        "       <ListVector - Python:0x111c9bcb0 / R:0x122d32520>\n",
        "[FloatVector, FloatVector, FloatVector, FloatVector]\n",
        "  x1: <class 'rpy2.robjects.vectors.FloatVector'>\n",
        "  <FloatVector - Python:0x112a8eef0 / R:0x122d32568>\n",
        "[0.231148, NA_real_, NA_real_]\n",
        "  y1: <class 'rpy2.robjects.vectors.FloatVector'>\n",
        "  <FloatVector - Python:0x112a8e248 / R:0x122d32640>\n",
        "[0.915236, NA_real_, NA_real_]\n",
        "  x2: <class 'rpy2.robjects.vectors.FloatVector'>\n",
        "  <FloatVector - Python:0x112a7f9e0 / R:0x122d31a50>\n",
        "[0.768852, NA_real_, NA_real_]\n",
        "  y2: <class 'rpy2.robjects.vectors.FloatVector'>\n",
        "  <FloatVector - Python:0x111f797e8 / R:0x122d31a98>\n",
        "[1.116731, NA_real_, NA_real_]], dtype=object)"
       ]
      }
     ],
     "prompt_number": 240
    },
    {
     "cell_type": "code",
     "collapsed": false,
     "input": [],
     "language": "python",
     "metadata": {},
     "outputs": []
    }
   ],
   "metadata": {}
  }
 ]
}